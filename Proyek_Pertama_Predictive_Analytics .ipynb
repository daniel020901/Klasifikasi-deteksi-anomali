{
  "nbformat": 4,
  "nbformat_minor": 0,
  "metadata": {
    "colab": {
      "provenance": [],
      "toc_visible": true
    },
    "kernelspec": {
      "name": "python3",
      "display_name": "Python 3"
    },
    "language_info": {
      "name": "python"
    }
  },
  "cells": [
    {
      "cell_type": "markdown",
      "source": [
        "# **Import Libary**\n",
        "Pada tahap ini, dilakukan proses import library yang diperlukan untuk mendukung pengolahan data, visualisasi, dan implementasi machine learning. Penjelasan masing-masing library adalah sebagai berikut:\n",
        "- `pandas` : Digunakan untuk membaca, mengelola, dan menganalisis data dalam bentuk tabel (DataFrame)\n",
        "- `numpy` : Digunakan untuk perhitungan numerik seperti array multidimensi dan fungsi matematika tingkat lanjut\n",
        "- `matplotlib.pyplot` : Untuk membuat visualisasi data seperti grafik garis, scatter plot, dan histogram.\n",
        "- `seaborn` : Library untuk visualisasi data berbasis Matplotlib dengan tampilan lebih menarik dan informatif.\n",
        "- `tensorflow`: Framework open-source dari Google yang digunakan untuk membangun dan melatih model deep learning. Dalam proyek ini, digunakan untuk membangun model arsitektur **LSTM (Long Short-Term Memory)**.\n",
        "- `tensorflow.keras.models.Sequential`:Digunakan untuk mendefinisikan model neural network secara berurutan (*linear stack*), yaitu lapisan demi lapisan disusun secara sekuensial.\n",
        "- `tensorflow.keras.layers`\n",
        "\n",
        "    - **LSTM**: Layer khusus untuk menangani data berurutan (sequence), seperti data time-series.\n",
        "\n",
        "    - **Dropout**: Digunakan untuk mencegah overfitting dengan menghilangkan beberapa node secara acak selama pelatihan.\n",
        "\n",
        "    - **RepeatVector**, **TimeDistributed**: Digunakan pada model **LSTM autoencoder** untuk membentuk kembali urutan data.\n",
        "\n",
        "    - **Dense**: Layer fully connected untuk menghasilkan output akhir dari model.\n",
        "- `tensorflow.keras.optimizers.Adam`: Optimizer adaptif yang sering digunakan karena efisiensinya dalam mempercepat proses konvergensi model deep learning.\n",
        "\n",
        "- `tensorflow.keras.callbacks.EarlyStopping`: Teknik untuk menghentikan pelatihan model secara otomatis ketika performa validasi tidak menunjukkan peningkatan, sehingga menghindari overfitting.\n",
        "- `tensorflow.keras.regularizers.l2`:Regularisasi L2 digunakan untuk menambahkan penalti pada bobot jaringan dalam upaya mengurangi overfitting.\n",
        "- `sklearn.model_selection.train_test_split`: Membagi dataset menjadi dua subset utama, yaitu data latih dan data uji, guna melakukan evaluasi performa model secara adil.\n",
        "- `sklearn.preprocessing.MinMaxScaler`\n",
        "Digunakan untuk melakukan normalisasi fitur data dalam rentang 0 sampai 1. Ini penting agar model dapat belajar secara efektif.\n",
        "- `sklearn.linear_model` : Mengimpor algoritma Linear Regression dari Scikit-Learn untuk membuat model prediksi.\n",
        "- `sklearn.metrics` : Menghitung metrik evaluasi untuk mengukur kinerja model.\n",
        "- `warnings`: Library bawaan Python yang digunakan untuk menangani peringatan (warnings).\n",
        "-`sklearn.exceptions.ConvergenceWarning`: Menangkap jenis peringatan tertentu yang muncul saat model belum mencapai konvergensi optimal.\n",
        "<br>\n",
        "<br>\n",
        "Baris terakhir, warnings.filterwarnings, digunakan untuk menonaktifkan peringatan yang berhubungan dengan \"UserWarning\" untuk memastikan eksekusi program berjalan lebih bersih tanpa gangguan dari pesan peringatan yang tidak relevan."
      ],
      "metadata": {
        "id": "Fz1dGQEck8p0"
      }
    },
    {
      "cell_type": "code",
      "execution_count": 87,
      "metadata": {
        "id": "1giQMHUvkpG-"
      },
      "outputs": [],
      "source": [
        "# 1. Import Library\n",
        "import pandas as pd\n",
        "import numpy as np\n",
        "import matplotlib.pyplot as plt\n",
        "import seaborn as sns\n",
        "import tensorflow as tf\n",
        "\n",
        "from tensorflow.keras.models import Sequential\n",
        "from tensorflow.keras.layers import LSTM, Dropout, RepeatVector, TimeDistributed, Dense\n",
        "from tensorflow.keras.optimizers import Adam\n",
        "from tensorflow.keras.callbacks import EarlyStopping\n",
        "from tensorflow.keras.regularizers import l2\n",
        "from sklearn.model_selection import train_test_split\n",
        "from sklearn.preprocessing import MinMaxScaler\n",
        "from sklearn.metrics import mean_absolute_error, mean_squared_error, r2_score\n",
        "from sklearn.metrics import precision_score, recall_score, f1_score, confusion_matrix\n",
        "import warnings\n",
        "from sklearn.exceptions import ConvergenceWarning\n",
        "warnings.filterwarnings(\"ignore\", category=UserWarning)"
      ]
    },
    {
      "cell_type": "markdown",
      "source": [
        "# **Load Dataset**\n",
        "Pada tahap ini, dilakukan proses **pembacaan data** dari file csv yang diambil dari dataset open source [Kaggle](https://www.kaggle.com/datasets/prasad22/daily-transactions-dataset/data). Data tersebut dibaca menggunakan fungsi` pd.read_csv` dari library `pandas`, yang mengubah data tersebut dari format csv menjadi Dataframe.Dan data ini akan menjadi sumber utama untuk proses analisis dan model selanjutnya dalam prediksi keuangan.\n"
      ],
      "metadata": {
        "id": "RbTid7bLnU-A"
      }
    },
    {
      "cell_type": "code",
      "source": [
        "data = pd.read_csv(\"https://raw.githubusercontent.com/daniel020901/Proyek-pertama-Prediksi-pengeluaran-/master/Daily%20Household%20Transactions.csv\")\n"
      ],
      "metadata": {
        "id": "DUwrgJoXmu4s"
      },
      "execution_count": 88,
      "outputs": []
    },
    {
      "cell_type": "markdown",
      "source": [
        "Dilakukan proses eksplorasi struktur data menggunakan metode data.info() dari library pandas. Hasilnya memberikan informasi berikut:\n",
        "\n",
        "- Tipe data: Dataset merupakan objek DataFrame dengan 2.461 baris (entries) dan 8 kolom\n",
        "\n",
        "### Struktur data\n",
        "| **No** | **Kolom**          | **Non-Null Count** | **Tipe Data** | **Deskripsi** |\n",
        "|--------|------------------|-------------------|--------------|--------------|\n",
        "| 0 | `Date` | 2461 non-null | `object` | Tanggal transaksi dalam format string. Perlu dikonversi ke `datetime`. |\n",
        "| 1 | `Mode` | 2461 non-null | `object` | Metode pembayaran seperti \"Cash\", \"Credit Card\", \"E-Wallet\", dll. |\n",
        "| 2 | `Category` | 2461 non-null | `object` | Kategori pengeluaran atau pemasukan, misalnya \"Makanan\", \"Transportasi\", dll. |\n",
        "| 3 | `Subcategory` | 1826 non-null | `object` | Subkategori yang lebih spesifik dari transaksi, seperti \"Groceries\" dalam kategori \"Food\". Ada data kosong yang perlu ditangani. |\n",
        "| 4 | `Note` | 1940 non-null | `object` | Catatan tambahan atau deskripsi singkat dari transaksi. Fitur ini bersifat tekstual dan tidak selalu diisi. |\n",
        "| 5 | `Amount` | 2461 non-null | `float64` | Jumlah uang transaksi. Ini akan menjadi target variabel untuk prediksi. |\n",
        "| 6 | `Income/Expense` | 2461 non-null | `object` | Jenis transaksi, apakah pemasukan (`Income`) atau pengeluaran (`Expense`). |\n",
        "| 7 | `Currency` | 2461 non-null | `object` | Mata uang yang digunakan dalam transaksi. |\n",
        "\n"
      ],
      "metadata": {
        "id": "sLl8L8bupC-T"
      }
    },
    {
      "cell_type": "code",
      "source": [
        "data.info()"
      ],
      "metadata": {
        "colab": {
          "base_uri": "https://localhost:8080/"
        },
        "id": "ODOqg3cvoo8f",
        "outputId": "0d14f228-4e25-4908-b8fd-43b7de4fd9d6"
      },
      "execution_count": 89,
      "outputs": [
        {
          "output_type": "stream",
          "name": "stdout",
          "text": [
            "<class 'pandas.core.frame.DataFrame'>\n",
            "RangeIndex: 2461 entries, 0 to 2460\n",
            "Data columns (total 8 columns):\n",
            " #   Column          Non-Null Count  Dtype  \n",
            "---  ------          --------------  -----  \n",
            " 0   Date            2461 non-null   object \n",
            " 1   Mode            2461 non-null   object \n",
            " 2   Category        2461 non-null   object \n",
            " 3   Subcategory     1826 non-null   object \n",
            " 4   Note            1940 non-null   object \n",
            " 5   Amount          2461 non-null   float64\n",
            " 6   Income/Expense  2461 non-null   object \n",
            " 7   Currency        2461 non-null   object \n",
            "dtypes: float64(1), object(7)\n",
            "memory usage: 153.9+ KB\n"
          ]
        }
      ]
    },
    {
      "cell_type": "markdown",
      "source": [
        "Dilakukan proses menampilkan data awal menggunakan metode data.head() dari library pandas. Metode ini digunakan untuk melihat lima baris pertama dari dataset secara default. Tujuannya adalah:\n",
        "\n",
        "- Memahami struktur dataset: Melihat format data dalam setiap kolom, seperti nama kolom, tipe data, dan contoh nilai.\n",
        "- Memverifikasi data: Memastikan bahwa data telah berhasil diimpor dengan benar tanpa adanya error atau anomali.\n",
        "- Identifikasi awal: Mengamati pola atau ciri khas dari data yang tersedia untuk menentukan langkah pra-pemrosesan selanjutnya.<br><br>\n",
        "Hasil ini memberikan gambaran umum tentang dataset sebelum dilakukan kegiatan transformasi dataset agar dapat lebih mudah digunakan untuk analisa berikutnya."
      ],
      "metadata": {
        "id": "UO3dvulzqjn7"
      }
    },
    {
      "cell_type": "code",
      "source": [
        "data.head()"
      ],
      "metadata": {
        "colab": {
          "base_uri": "https://localhost:8080/",
          "height": 206
        },
        "id": "uZzWgiiIqsn_",
        "outputId": "686a7bec-5163-4418-93b9-af72f02fec9c"
      },
      "execution_count": 90,
      "outputs": [
        {
          "output_type": "execute_result",
          "data": {
            "text/plain": [
              "                  Date                   Mode        Category  \\\n",
              "0  20/09/2018 12:04:08                   Cash  Transportation   \n",
              "1  20/09/2018 12:03:15                   Cash            Food   \n",
              "2           19/09/2018  Saving Bank account 1    subscription   \n",
              "3  17/09/2018 23:41:17  Saving Bank account 1    subscription   \n",
              "4  16/09/2018 17:15:08                   Cash       Festivals   \n",
              "\n",
              "               Subcategory                         Note  Amount  \\\n",
              "0                    Train         2 Place 5 to Place 0    30.0   \n",
              "1                   snacks  Idli medu Vada mix 2 plates    60.0   \n",
              "2                  Netflix         1 month subscription   199.0   \n",
              "3  Mobile Service Provider            Data booster pack    19.0   \n",
              "4             Ganesh Pujan                  Ganesh idol   251.0   \n",
              "\n",
              "  Income/Expense Currency  \n",
              "0        Expense      INR  \n",
              "1        Expense      INR  \n",
              "2        Expense      INR  \n",
              "3        Expense      INR  \n",
              "4        Expense      INR  "
            ],
            "text/html": [
              "\n",
              "  <div id=\"df-e053aa04-56dd-468a-b464-1fc31c9fb883\" class=\"colab-df-container\">\n",
              "    <div>\n",
              "<style scoped>\n",
              "    .dataframe tbody tr th:only-of-type {\n",
              "        vertical-align: middle;\n",
              "    }\n",
              "\n",
              "    .dataframe tbody tr th {\n",
              "        vertical-align: top;\n",
              "    }\n",
              "\n",
              "    .dataframe thead th {\n",
              "        text-align: right;\n",
              "    }\n",
              "</style>\n",
              "<table border=\"1\" class=\"dataframe\">\n",
              "  <thead>\n",
              "    <tr style=\"text-align: right;\">\n",
              "      <th></th>\n",
              "      <th>Date</th>\n",
              "      <th>Mode</th>\n",
              "      <th>Category</th>\n",
              "      <th>Subcategory</th>\n",
              "      <th>Note</th>\n",
              "      <th>Amount</th>\n",
              "      <th>Income/Expense</th>\n",
              "      <th>Currency</th>\n",
              "    </tr>\n",
              "  </thead>\n",
              "  <tbody>\n",
              "    <tr>\n",
              "      <th>0</th>\n",
              "      <td>20/09/2018 12:04:08</td>\n",
              "      <td>Cash</td>\n",
              "      <td>Transportation</td>\n",
              "      <td>Train</td>\n",
              "      <td>2 Place 5 to Place 0</td>\n",
              "      <td>30.0</td>\n",
              "      <td>Expense</td>\n",
              "      <td>INR</td>\n",
              "    </tr>\n",
              "    <tr>\n",
              "      <th>1</th>\n",
              "      <td>20/09/2018 12:03:15</td>\n",
              "      <td>Cash</td>\n",
              "      <td>Food</td>\n",
              "      <td>snacks</td>\n",
              "      <td>Idli medu Vada mix 2 plates</td>\n",
              "      <td>60.0</td>\n",
              "      <td>Expense</td>\n",
              "      <td>INR</td>\n",
              "    </tr>\n",
              "    <tr>\n",
              "      <th>2</th>\n",
              "      <td>19/09/2018</td>\n",
              "      <td>Saving Bank account 1</td>\n",
              "      <td>subscription</td>\n",
              "      <td>Netflix</td>\n",
              "      <td>1 month subscription</td>\n",
              "      <td>199.0</td>\n",
              "      <td>Expense</td>\n",
              "      <td>INR</td>\n",
              "    </tr>\n",
              "    <tr>\n",
              "      <th>3</th>\n",
              "      <td>17/09/2018 23:41:17</td>\n",
              "      <td>Saving Bank account 1</td>\n",
              "      <td>subscription</td>\n",
              "      <td>Mobile Service Provider</td>\n",
              "      <td>Data booster pack</td>\n",
              "      <td>19.0</td>\n",
              "      <td>Expense</td>\n",
              "      <td>INR</td>\n",
              "    </tr>\n",
              "    <tr>\n",
              "      <th>4</th>\n",
              "      <td>16/09/2018 17:15:08</td>\n",
              "      <td>Cash</td>\n",
              "      <td>Festivals</td>\n",
              "      <td>Ganesh Pujan</td>\n",
              "      <td>Ganesh idol</td>\n",
              "      <td>251.0</td>\n",
              "      <td>Expense</td>\n",
              "      <td>INR</td>\n",
              "    </tr>\n",
              "  </tbody>\n",
              "</table>\n",
              "</div>\n",
              "    <div class=\"colab-df-buttons\">\n",
              "\n",
              "  <div class=\"colab-df-container\">\n",
              "    <button class=\"colab-df-convert\" onclick=\"convertToInteractive('df-e053aa04-56dd-468a-b464-1fc31c9fb883')\"\n",
              "            title=\"Convert this dataframe to an interactive table.\"\n",
              "            style=\"display:none;\">\n",
              "\n",
              "  <svg xmlns=\"http://www.w3.org/2000/svg\" height=\"24px\" viewBox=\"0 -960 960 960\">\n",
              "    <path d=\"M120-120v-720h720v720H120Zm60-500h600v-160H180v160Zm220 220h160v-160H400v160Zm0 220h160v-160H400v160ZM180-400h160v-160H180v160Zm440 0h160v-160H620v160ZM180-180h160v-160H180v160Zm440 0h160v-160H620v160Z\"/>\n",
              "  </svg>\n",
              "    </button>\n",
              "\n",
              "  <style>\n",
              "    .colab-df-container {\n",
              "      display:flex;\n",
              "      gap: 12px;\n",
              "    }\n",
              "\n",
              "    .colab-df-convert {\n",
              "      background-color: #E8F0FE;\n",
              "      border: none;\n",
              "      border-radius: 50%;\n",
              "      cursor: pointer;\n",
              "      display: none;\n",
              "      fill: #1967D2;\n",
              "      height: 32px;\n",
              "      padding: 0 0 0 0;\n",
              "      width: 32px;\n",
              "    }\n",
              "\n",
              "    .colab-df-convert:hover {\n",
              "      background-color: #E2EBFA;\n",
              "      box-shadow: 0px 1px 2px rgba(60, 64, 67, 0.3), 0px 1px 3px 1px rgba(60, 64, 67, 0.15);\n",
              "      fill: #174EA6;\n",
              "    }\n",
              "\n",
              "    .colab-df-buttons div {\n",
              "      margin-bottom: 4px;\n",
              "    }\n",
              "\n",
              "    [theme=dark] .colab-df-convert {\n",
              "      background-color: #3B4455;\n",
              "      fill: #D2E3FC;\n",
              "    }\n",
              "\n",
              "    [theme=dark] .colab-df-convert:hover {\n",
              "      background-color: #434B5C;\n",
              "      box-shadow: 0px 1px 3px 1px rgba(0, 0, 0, 0.15);\n",
              "      filter: drop-shadow(0px 1px 2px rgba(0, 0, 0, 0.3));\n",
              "      fill: #FFFFFF;\n",
              "    }\n",
              "  </style>\n",
              "\n",
              "    <script>\n",
              "      const buttonEl =\n",
              "        document.querySelector('#df-e053aa04-56dd-468a-b464-1fc31c9fb883 button.colab-df-convert');\n",
              "      buttonEl.style.display =\n",
              "        google.colab.kernel.accessAllowed ? 'block' : 'none';\n",
              "\n",
              "      async function convertToInteractive(key) {\n",
              "        const element = document.querySelector('#df-e053aa04-56dd-468a-b464-1fc31c9fb883');\n",
              "        const dataTable =\n",
              "          await google.colab.kernel.invokeFunction('convertToInteractive',\n",
              "                                                    [key], {});\n",
              "        if (!dataTable) return;\n",
              "\n",
              "        const docLinkHtml = 'Like what you see? Visit the ' +\n",
              "          '<a target=\"_blank\" href=https://colab.research.google.com/notebooks/data_table.ipynb>data table notebook</a>'\n",
              "          + ' to learn more about interactive tables.';\n",
              "        element.innerHTML = '';\n",
              "        dataTable['output_type'] = 'display_data';\n",
              "        await google.colab.output.renderOutput(dataTable, element);\n",
              "        const docLink = document.createElement('div');\n",
              "        docLink.innerHTML = docLinkHtml;\n",
              "        element.appendChild(docLink);\n",
              "      }\n",
              "    </script>\n",
              "  </div>\n",
              "\n",
              "\n",
              "    <div id=\"df-de138a59-8824-40d0-8067-7811f92c61b9\">\n",
              "      <button class=\"colab-df-quickchart\" onclick=\"quickchart('df-de138a59-8824-40d0-8067-7811f92c61b9')\"\n",
              "                title=\"Suggest charts\"\n",
              "                style=\"display:none;\">\n",
              "\n",
              "<svg xmlns=\"http://www.w3.org/2000/svg\" height=\"24px\"viewBox=\"0 0 24 24\"\n",
              "     width=\"24px\">\n",
              "    <g>\n",
              "        <path d=\"M19 3H5c-1.1 0-2 .9-2 2v14c0 1.1.9 2 2 2h14c1.1 0 2-.9 2-2V5c0-1.1-.9-2-2-2zM9 17H7v-7h2v7zm4 0h-2V7h2v10zm4 0h-2v-4h2v4z\"/>\n",
              "    </g>\n",
              "</svg>\n",
              "      </button>\n",
              "\n",
              "<style>\n",
              "  .colab-df-quickchart {\n",
              "      --bg-color: #E8F0FE;\n",
              "      --fill-color: #1967D2;\n",
              "      --hover-bg-color: #E2EBFA;\n",
              "      --hover-fill-color: #174EA6;\n",
              "      --disabled-fill-color: #AAA;\n",
              "      --disabled-bg-color: #DDD;\n",
              "  }\n",
              "\n",
              "  [theme=dark] .colab-df-quickchart {\n",
              "      --bg-color: #3B4455;\n",
              "      --fill-color: #D2E3FC;\n",
              "      --hover-bg-color: #434B5C;\n",
              "      --hover-fill-color: #FFFFFF;\n",
              "      --disabled-bg-color: #3B4455;\n",
              "      --disabled-fill-color: #666;\n",
              "  }\n",
              "\n",
              "  .colab-df-quickchart {\n",
              "    background-color: var(--bg-color);\n",
              "    border: none;\n",
              "    border-radius: 50%;\n",
              "    cursor: pointer;\n",
              "    display: none;\n",
              "    fill: var(--fill-color);\n",
              "    height: 32px;\n",
              "    padding: 0;\n",
              "    width: 32px;\n",
              "  }\n",
              "\n",
              "  .colab-df-quickchart:hover {\n",
              "    background-color: var(--hover-bg-color);\n",
              "    box-shadow: 0 1px 2px rgba(60, 64, 67, 0.3), 0 1px 3px 1px rgba(60, 64, 67, 0.15);\n",
              "    fill: var(--button-hover-fill-color);\n",
              "  }\n",
              "\n",
              "  .colab-df-quickchart-complete:disabled,\n",
              "  .colab-df-quickchart-complete:disabled:hover {\n",
              "    background-color: var(--disabled-bg-color);\n",
              "    fill: var(--disabled-fill-color);\n",
              "    box-shadow: none;\n",
              "  }\n",
              "\n",
              "  .colab-df-spinner {\n",
              "    border: 2px solid var(--fill-color);\n",
              "    border-color: transparent;\n",
              "    border-bottom-color: var(--fill-color);\n",
              "    animation:\n",
              "      spin 1s steps(1) infinite;\n",
              "  }\n",
              "\n",
              "  @keyframes spin {\n",
              "    0% {\n",
              "      border-color: transparent;\n",
              "      border-bottom-color: var(--fill-color);\n",
              "      border-left-color: var(--fill-color);\n",
              "    }\n",
              "    20% {\n",
              "      border-color: transparent;\n",
              "      border-left-color: var(--fill-color);\n",
              "      border-top-color: var(--fill-color);\n",
              "    }\n",
              "    30% {\n",
              "      border-color: transparent;\n",
              "      border-left-color: var(--fill-color);\n",
              "      border-top-color: var(--fill-color);\n",
              "      border-right-color: var(--fill-color);\n",
              "    }\n",
              "    40% {\n",
              "      border-color: transparent;\n",
              "      border-right-color: var(--fill-color);\n",
              "      border-top-color: var(--fill-color);\n",
              "    }\n",
              "    60% {\n",
              "      border-color: transparent;\n",
              "      border-right-color: var(--fill-color);\n",
              "    }\n",
              "    80% {\n",
              "      border-color: transparent;\n",
              "      border-right-color: var(--fill-color);\n",
              "      border-bottom-color: var(--fill-color);\n",
              "    }\n",
              "    90% {\n",
              "      border-color: transparent;\n",
              "      border-bottom-color: var(--fill-color);\n",
              "    }\n",
              "  }\n",
              "</style>\n",
              "\n",
              "      <script>\n",
              "        async function quickchart(key) {\n",
              "          const quickchartButtonEl =\n",
              "            document.querySelector('#' + key + ' button');\n",
              "          quickchartButtonEl.disabled = true;  // To prevent multiple clicks.\n",
              "          quickchartButtonEl.classList.add('colab-df-spinner');\n",
              "          try {\n",
              "            const charts = await google.colab.kernel.invokeFunction(\n",
              "                'suggestCharts', [key], {});\n",
              "          } catch (error) {\n",
              "            console.error('Error during call to suggestCharts:', error);\n",
              "          }\n",
              "          quickchartButtonEl.classList.remove('colab-df-spinner');\n",
              "          quickchartButtonEl.classList.add('colab-df-quickchart-complete');\n",
              "        }\n",
              "        (() => {\n",
              "          let quickchartButtonEl =\n",
              "            document.querySelector('#df-de138a59-8824-40d0-8067-7811f92c61b9 button');\n",
              "          quickchartButtonEl.style.display =\n",
              "            google.colab.kernel.accessAllowed ? 'block' : 'none';\n",
              "        })();\n",
              "      </script>\n",
              "    </div>\n",
              "\n",
              "    </div>\n",
              "  </div>\n"
            ],
            "application/vnd.google.colaboratory.intrinsic+json": {
              "type": "dataframe",
              "variable_name": "data",
              "summary": "{\n  \"name\": \"data\",\n  \"rows\": 2461,\n  \"fields\": [\n    {\n      \"column\": \"Date\",\n      \"properties\": {\n        \"dtype\": \"string\",\n        \"num_unique_values\": 1611,\n        \"samples\": [\n          \"28/08/2018 19:16:09\",\n          \"16/04/2018 20:55:46\",\n          \"15/02/2018 19:46:43\"\n        ],\n        \"semantic_type\": \"\",\n        \"description\": \"\"\n      }\n    },\n    {\n      \"column\": \"Mode\",\n      \"properties\": {\n        \"dtype\": \"category\",\n        \"num_unique_values\": 12,\n        \"samples\": [\n          \"Fixed Deposit\",\n          \"Equity Mutual Fund D\",\n          \"Cash\"\n        ],\n        \"semantic_type\": \"\",\n        \"description\": \"\"\n      }\n    },\n    {\n      \"column\": \"Category\",\n      \"properties\": {\n        \"dtype\": \"category\",\n        \"num_unique_values\": 50,\n        \"samples\": [\n          \"Salary\",\n          \"Recurring Deposit\",\n          \"Petty cash\"\n        ],\n        \"semantic_type\": \"\",\n        \"description\": \"\"\n      }\n    },\n    {\n      \"column\": \"Subcategory\",\n      \"properties\": {\n        \"dtype\": \"category\",\n        \"num_unique_values\": 90,\n        \"samples\": [\n          \"Hardware\",\n          \"Tea\",\n          \"Stationary\"\n        ],\n        \"semantic_type\": \"\",\n        \"description\": \"\"\n      }\n    },\n    {\n      \"column\": \"Note\",\n      \"properties\": {\n        \"dtype\": \"category\",\n        \"num_unique_values\": 1057,\n        \"samples\": [\n          \"Chitale Srikhand\",\n          \"Mutual fund B\",\n          \"agarbatti + icecream pack\"\n        ],\n        \"semantic_type\": \"\",\n        \"description\": \"\"\n      }\n    },\n    {\n      \"column\": \"Amount\",\n      \"properties\": {\n        \"dtype\": \"number\",\n        \"std\": 12519.61580435605,\n        \"min\": 2.0,\n        \"max\": 250000.0,\n        \"num_unique_values\": 550,\n        \"samples\": [\n          73.0,\n          1358.0,\n          15000.0\n        ],\n        \"semantic_type\": \"\",\n        \"description\": \"\"\n      }\n    },\n    {\n      \"column\": \"Income/Expense\",\n      \"properties\": {\n        \"dtype\": \"category\",\n        \"num_unique_values\": 3,\n        \"samples\": [\n          \"Expense\",\n          \"Transfer-Out\",\n          \"Income\"\n        ],\n        \"semantic_type\": \"\",\n        \"description\": \"\"\n      }\n    },\n    {\n      \"column\": \"Currency\",\n      \"properties\": {\n        \"dtype\": \"category\",\n        \"num_unique_values\": 1,\n        \"samples\": [\n          \"INR\"\n        ],\n        \"semantic_type\": \"\",\n        \"description\": \"\"\n      }\n    }\n  ]\n}"
            }
          },
          "metadata": {},
          "execution_count": 90
        }
      ]
    },
    {
      "cell_type": "markdown",
      "source": [
        "# **Transform Data**\n",
        "Pada tahap ini, dilakukan proses pra-pemrosesan data untuk mempersiapkan dataset agar lebih terstruktur dan siap digunakan dalam analisis lebih lanjut. Langkah-langkah yang dilakukan adalah sebagai berikut:\n",
        "\n"
      ],
      "metadata": {
        "id": "95xyidevrXA4"
      }
    },
    {
      "cell_type": "markdown",
      "source": [
        "Sebelum memasuki tahapan Transform Data dilakukan tahapan `.copy()` untuk mensalin data asli kedalam `df` untuk menjaga keaslian data.\n"
      ],
      "metadata": {
        "id": "ZvCyEhJMvok_"
      }
    },
    {
      "cell_type": "code",
      "source": [
        "df = data.copy()"
      ],
      "metadata": {
        "id": "uxG9jT02r2CZ"
      },
      "execution_count": 91,
      "outputs": []
    },
    {
      "cell_type": "markdown",
      "source": [
        "## **1. Menghapus Spasi Tambahan pada Nama Kolom**\n",
        "- Dilakukan dengan metode `data.columns = data.columns.str.strip()` untuk memastikan nama kolom bersih dari karakter spasi yang mungkin memengaruhi proses manipulasi data.\n",
        " **2. Mengubah tipe data**\n",
        "\n",
        "- `Mode`: Menyimpan metode pembayaran (misalnya \"Cash\", \"Credit Card\", \"E-Wallet\"). Karena hanya ada beberapa pilihan tetap, lebih baik dikonversi ke kategori.\n",
        "- `Category`: Menyimpan kategori transaksi (misalnya \"Makanan\", \"Transportasi\"), yang jumlah opsinya terbatas.\n",
        "- `Subcategory`: Subkategori dari Category (misalnya \"Fast Food\", \"Taksi\"), yang juga lebih baik dalam format kategori.\n",
        "- `Income/Expense`: Menyimpan jenis transaksi (\"Income\" atau \"Expense\"), hanya memiliki dua nilai unik sehingga sangat ideal untuk kategori.\n",
        "- `Currency`: Menyimpan mata uang yang digunakan (misalnya \"IDR\", \"USD\"), jumlah opsinya terbatas sehingga lebih efisien dalam kategori."
      ],
      "metadata": {
        "id": "dYl9jCRTsZTf"
      }
    },
    {
      "cell_type": "code",
      "source": [
        "df.columns = df.columns.str.strip()"
      ],
      "metadata": {
        "id": "RXqMpapfsF_z"
      },
      "execution_count": 92,
      "outputs": []
    },
    {
      "cell_type": "markdown",
      "source": [
        "\n",
        "\n",
        "## **2. Mengubah tipe data**\n",
        "\n",
        "- `Mode`: Menyimpan metode pembayaran (misalnya \"Cash\", \"Credit Card\", \"E-Wallet\"). Karena hanya ada beberapa pilihan tetap, lebih baik dikonversi ke kategori.\n",
        "- `Category`: Menyimpan kategori transaksi (misalnya \"Makanan\", \"Transportasi\"), yang jumlah opsinya terbatas.\n",
        "- `Subcategory`: Subkategori dari Category (misalnya \"Fast Food\", \"Taksi\"), yang juga lebih baik dalam format kategori.\n",
        "- `Income/Expense`: Menyimpan jenis transaksi (\"Income\" atau \"Expense\"), hanya memiliki dua nilai unik sehingga sangat ideal untuk kategori.\n",
        "- `Currency`: Menyimpan mata uang yang digunakan (misalnya \"IDR\", \"USD\"), jumlah opsinya terbatas sehingga lebih efisien dalam kategori."
      ],
      "metadata": {
        "id": "1d9XSgoXplQJ"
      }
    },
    {
      "cell_type": "code",
      "source": [
        "# Ubah tipe data\n",
        "\n",
        "\n",
        "df['Mode'] = df['Mode'].astype('category')  # Ubah ke kategori\n",
        "df['Category'] = df['Category'].astype('category')  # Ubah ke kategori\n",
        "df['Subcategory'] = df['Subcategory'].astype('category')  # Ubah ke kategori\n",
        "df['Income/Expense'] = df['Income/Expense'].astype('category')  # Ubah ke kategori\n",
        "df['Currency'] = df['Currency'].astype('category')  # Ubah ke category\n"
      ],
      "metadata": {
        "id": "6zX9hpGbphxR"
      },
      "execution_count": 93,
      "outputs": []
    },
    {
      "cell_type": "markdown",
      "source": [
        "## **3. Membersihkan Format Tanggal**\n",
        "Pada tahap ini, dilakukan proses pembersihan data pada kolom `Date` untuk memastikan format tanggal lebih konsisten dan siap digunakan dalam analisis.\n",
        "\n",
        "### **Langkah-langkah yang dilakukan**:\n",
        "- Menghapus bagian jam, menit, dan detik (jika ada) dari kolom `Date`.\n",
        "- Menggunakan **regex** (regular expression) untuk mendeteksi pola waktu (`hh:mm` atau `hh:mm:ss`).\n",
        "\n",
        "### **Penjelasan Ekspresi Reguler (Regex)**\n",
        "Ekspresi reguler yang digunakan:  \n",
        "```python\n",
        "r'\\s\\d{2}:\\d{2}(:\\d{2})?'\n",
        "\n",
        "```\n",
        "- `\\s `→ Mendeteksi spasi sebelum waktu.\n",
        "- `\\d{2}:\\d{2}` → Mendeteksi format jam dan menit (hh:mm).\n",
        "- `(:\\d{2})?` → Bagian detik (:ss) bersifat opsional (bisa ada atau tidak).\n",
        "regex=True → Menandakan bahwa ini adalah ekspresi reguler yang digunakan dalam str.replace()."
      ],
      "metadata": {
        "id": "uQBHnzomtCAg"
      }
    },
    {
      "cell_type": "code",
      "source": [
        "df['Date'] = df['Date'].str.replace(r'\\s\\d{2}:\\d{2}(:\\d{2})?', '', regex=True)\n",
        "\n",
        "# Mengubah kolom 'Date' menjadi datetime\n",
        "df['Date'] = pd.to_datetime(df['Date'], dayfirst=True, errors='coerce')"
      ],
      "metadata": {
        "id": "_nEcDuv4s8mp"
      },
      "execution_count": 94,
      "outputs": []
    },
    {
      "cell_type": "markdown",
      "source": [
        "\n",
        "Dilakukan proses menampilkan data awal dari DataFrame hasil transformasi (`df`) menggunakan metode `head()`. Metode ini bertujuan untuk menampilkan lima baris pertama dari dataset yang telah diproses. Hasil yang diperoleh memberikan gambaran struktur dataset setelah transformasi:\n",
        "\n",
        "- **Kolom Date**: Berisi tanggal transaksi dalam format string yang nantinya akan dikonversi ke format `datetime`.\n",
        "- **Kolom Mode**: Berisi metode pembayaran yang digunakan, seperti \"Cash\" atau \"Saving Bank Account\".\n",
        "- **Kolom Category**: Menunjukkan jenis kategori transaksi, seperti \"Transportation\", \"Food\", atau \"Festivals\".\n",
        "- **Kolom Subcategory**: Subkategori dari kategori utama, seperti \"Train\" untuk kategori \"Transportation\".\n",
        "- **Kolom Note**: Berisi catatan tambahan tentang transaksi.\n",
        "- **Kolom Amount**: Berisi jumlah transaksi dalam format numerik (`float`).\n",
        "- **Kolom Income/Expense**: Menunjukkan apakah transaksi tersebut adalah **pemasukan** (`Income`) atau **pengeluaran** (`Expense`).\n",
        "- **Kolom Currency**: Menunjukkan mata uang yang digunakan dalam transaksi.\n",
        "\n",
        "Langkah ini memastikan bahwa dataset sudah memiliki struktur yang sesuai dengan kebutuhan analisis lebih lanjut.\n",
        "\n",
        "\n"
      ],
      "metadata": {
        "id": "UrBgTm3ovUsn"
      }
    },
    {
      "cell_type": "code",
      "source": [
        "df.head()"
      ],
      "metadata": {
        "colab": {
          "base_uri": "https://localhost:8080/",
          "height": 206
        },
        "id": "snhuLK3_u1ko",
        "outputId": "ff59d317-1827-4120-cf21-d6f86e8dd88a"
      },
      "execution_count": 95,
      "outputs": [
        {
          "output_type": "execute_result",
          "data": {
            "text/plain": [
              "        Date                   Mode        Category              Subcategory  \\\n",
              "0 2018-09-20                   Cash  Transportation                    Train   \n",
              "1 2018-09-20                   Cash            Food                   snacks   \n",
              "2 2018-09-19  Saving Bank account 1    subscription                  Netflix   \n",
              "3 2018-09-17  Saving Bank account 1    subscription  Mobile Service Provider   \n",
              "4 2018-09-16                   Cash       Festivals             Ganesh Pujan   \n",
              "\n",
              "                          Note  Amount Income/Expense Currency  \n",
              "0         2 Place 5 to Place 0    30.0        Expense      INR  \n",
              "1  Idli medu Vada mix 2 plates    60.0        Expense      INR  \n",
              "2         1 month subscription   199.0        Expense      INR  \n",
              "3            Data booster pack    19.0        Expense      INR  \n",
              "4                  Ganesh idol   251.0        Expense      INR  "
            ],
            "text/html": [
              "\n",
              "  <div id=\"df-334f656b-b70f-4e93-b15b-3c79b0dd89ac\" class=\"colab-df-container\">\n",
              "    <div>\n",
              "<style scoped>\n",
              "    .dataframe tbody tr th:only-of-type {\n",
              "        vertical-align: middle;\n",
              "    }\n",
              "\n",
              "    .dataframe tbody tr th {\n",
              "        vertical-align: top;\n",
              "    }\n",
              "\n",
              "    .dataframe thead th {\n",
              "        text-align: right;\n",
              "    }\n",
              "</style>\n",
              "<table border=\"1\" class=\"dataframe\">\n",
              "  <thead>\n",
              "    <tr style=\"text-align: right;\">\n",
              "      <th></th>\n",
              "      <th>Date</th>\n",
              "      <th>Mode</th>\n",
              "      <th>Category</th>\n",
              "      <th>Subcategory</th>\n",
              "      <th>Note</th>\n",
              "      <th>Amount</th>\n",
              "      <th>Income/Expense</th>\n",
              "      <th>Currency</th>\n",
              "    </tr>\n",
              "  </thead>\n",
              "  <tbody>\n",
              "    <tr>\n",
              "      <th>0</th>\n",
              "      <td>2018-09-20</td>\n",
              "      <td>Cash</td>\n",
              "      <td>Transportation</td>\n",
              "      <td>Train</td>\n",
              "      <td>2 Place 5 to Place 0</td>\n",
              "      <td>30.0</td>\n",
              "      <td>Expense</td>\n",
              "      <td>INR</td>\n",
              "    </tr>\n",
              "    <tr>\n",
              "      <th>1</th>\n",
              "      <td>2018-09-20</td>\n",
              "      <td>Cash</td>\n",
              "      <td>Food</td>\n",
              "      <td>snacks</td>\n",
              "      <td>Idli medu Vada mix 2 plates</td>\n",
              "      <td>60.0</td>\n",
              "      <td>Expense</td>\n",
              "      <td>INR</td>\n",
              "    </tr>\n",
              "    <tr>\n",
              "      <th>2</th>\n",
              "      <td>2018-09-19</td>\n",
              "      <td>Saving Bank account 1</td>\n",
              "      <td>subscription</td>\n",
              "      <td>Netflix</td>\n",
              "      <td>1 month subscription</td>\n",
              "      <td>199.0</td>\n",
              "      <td>Expense</td>\n",
              "      <td>INR</td>\n",
              "    </tr>\n",
              "    <tr>\n",
              "      <th>3</th>\n",
              "      <td>2018-09-17</td>\n",
              "      <td>Saving Bank account 1</td>\n",
              "      <td>subscription</td>\n",
              "      <td>Mobile Service Provider</td>\n",
              "      <td>Data booster pack</td>\n",
              "      <td>19.0</td>\n",
              "      <td>Expense</td>\n",
              "      <td>INR</td>\n",
              "    </tr>\n",
              "    <tr>\n",
              "      <th>4</th>\n",
              "      <td>2018-09-16</td>\n",
              "      <td>Cash</td>\n",
              "      <td>Festivals</td>\n",
              "      <td>Ganesh Pujan</td>\n",
              "      <td>Ganesh idol</td>\n",
              "      <td>251.0</td>\n",
              "      <td>Expense</td>\n",
              "      <td>INR</td>\n",
              "    </tr>\n",
              "  </tbody>\n",
              "</table>\n",
              "</div>\n",
              "    <div class=\"colab-df-buttons\">\n",
              "\n",
              "  <div class=\"colab-df-container\">\n",
              "    <button class=\"colab-df-convert\" onclick=\"convertToInteractive('df-334f656b-b70f-4e93-b15b-3c79b0dd89ac')\"\n",
              "            title=\"Convert this dataframe to an interactive table.\"\n",
              "            style=\"display:none;\">\n",
              "\n",
              "  <svg xmlns=\"http://www.w3.org/2000/svg\" height=\"24px\" viewBox=\"0 -960 960 960\">\n",
              "    <path d=\"M120-120v-720h720v720H120Zm60-500h600v-160H180v160Zm220 220h160v-160H400v160Zm0 220h160v-160H400v160ZM180-400h160v-160H180v160Zm440 0h160v-160H620v160ZM180-180h160v-160H180v160Zm440 0h160v-160H620v160Z\"/>\n",
              "  </svg>\n",
              "    </button>\n",
              "\n",
              "  <style>\n",
              "    .colab-df-container {\n",
              "      display:flex;\n",
              "      gap: 12px;\n",
              "    }\n",
              "\n",
              "    .colab-df-convert {\n",
              "      background-color: #E8F0FE;\n",
              "      border: none;\n",
              "      border-radius: 50%;\n",
              "      cursor: pointer;\n",
              "      display: none;\n",
              "      fill: #1967D2;\n",
              "      height: 32px;\n",
              "      padding: 0 0 0 0;\n",
              "      width: 32px;\n",
              "    }\n",
              "\n",
              "    .colab-df-convert:hover {\n",
              "      background-color: #E2EBFA;\n",
              "      box-shadow: 0px 1px 2px rgba(60, 64, 67, 0.3), 0px 1px 3px 1px rgba(60, 64, 67, 0.15);\n",
              "      fill: #174EA6;\n",
              "    }\n",
              "\n",
              "    .colab-df-buttons div {\n",
              "      margin-bottom: 4px;\n",
              "    }\n",
              "\n",
              "    [theme=dark] .colab-df-convert {\n",
              "      background-color: #3B4455;\n",
              "      fill: #D2E3FC;\n",
              "    }\n",
              "\n",
              "    [theme=dark] .colab-df-convert:hover {\n",
              "      background-color: #434B5C;\n",
              "      box-shadow: 0px 1px 3px 1px rgba(0, 0, 0, 0.15);\n",
              "      filter: drop-shadow(0px 1px 2px rgba(0, 0, 0, 0.3));\n",
              "      fill: #FFFFFF;\n",
              "    }\n",
              "  </style>\n",
              "\n",
              "    <script>\n",
              "      const buttonEl =\n",
              "        document.querySelector('#df-334f656b-b70f-4e93-b15b-3c79b0dd89ac button.colab-df-convert');\n",
              "      buttonEl.style.display =\n",
              "        google.colab.kernel.accessAllowed ? 'block' : 'none';\n",
              "\n",
              "      async function convertToInteractive(key) {\n",
              "        const element = document.querySelector('#df-334f656b-b70f-4e93-b15b-3c79b0dd89ac');\n",
              "        const dataTable =\n",
              "          await google.colab.kernel.invokeFunction('convertToInteractive',\n",
              "                                                    [key], {});\n",
              "        if (!dataTable) return;\n",
              "\n",
              "        const docLinkHtml = 'Like what you see? Visit the ' +\n",
              "          '<a target=\"_blank\" href=https://colab.research.google.com/notebooks/data_table.ipynb>data table notebook</a>'\n",
              "          + ' to learn more about interactive tables.';\n",
              "        element.innerHTML = '';\n",
              "        dataTable['output_type'] = 'display_data';\n",
              "        await google.colab.output.renderOutput(dataTable, element);\n",
              "        const docLink = document.createElement('div');\n",
              "        docLink.innerHTML = docLinkHtml;\n",
              "        element.appendChild(docLink);\n",
              "      }\n",
              "    </script>\n",
              "  </div>\n",
              "\n",
              "\n",
              "    <div id=\"df-337280ef-3dd0-4d0e-b7b3-55c4d1c09fff\">\n",
              "      <button class=\"colab-df-quickchart\" onclick=\"quickchart('df-337280ef-3dd0-4d0e-b7b3-55c4d1c09fff')\"\n",
              "                title=\"Suggest charts\"\n",
              "                style=\"display:none;\">\n",
              "\n",
              "<svg xmlns=\"http://www.w3.org/2000/svg\" height=\"24px\"viewBox=\"0 0 24 24\"\n",
              "     width=\"24px\">\n",
              "    <g>\n",
              "        <path d=\"M19 3H5c-1.1 0-2 .9-2 2v14c0 1.1.9 2 2 2h14c1.1 0 2-.9 2-2V5c0-1.1-.9-2-2-2zM9 17H7v-7h2v7zm4 0h-2V7h2v10zm4 0h-2v-4h2v4z\"/>\n",
              "    </g>\n",
              "</svg>\n",
              "      </button>\n",
              "\n",
              "<style>\n",
              "  .colab-df-quickchart {\n",
              "      --bg-color: #E8F0FE;\n",
              "      --fill-color: #1967D2;\n",
              "      --hover-bg-color: #E2EBFA;\n",
              "      --hover-fill-color: #174EA6;\n",
              "      --disabled-fill-color: #AAA;\n",
              "      --disabled-bg-color: #DDD;\n",
              "  }\n",
              "\n",
              "  [theme=dark] .colab-df-quickchart {\n",
              "      --bg-color: #3B4455;\n",
              "      --fill-color: #D2E3FC;\n",
              "      --hover-bg-color: #434B5C;\n",
              "      --hover-fill-color: #FFFFFF;\n",
              "      --disabled-bg-color: #3B4455;\n",
              "      --disabled-fill-color: #666;\n",
              "  }\n",
              "\n",
              "  .colab-df-quickchart {\n",
              "    background-color: var(--bg-color);\n",
              "    border: none;\n",
              "    border-radius: 50%;\n",
              "    cursor: pointer;\n",
              "    display: none;\n",
              "    fill: var(--fill-color);\n",
              "    height: 32px;\n",
              "    padding: 0;\n",
              "    width: 32px;\n",
              "  }\n",
              "\n",
              "  .colab-df-quickchart:hover {\n",
              "    background-color: var(--hover-bg-color);\n",
              "    box-shadow: 0 1px 2px rgba(60, 64, 67, 0.3), 0 1px 3px 1px rgba(60, 64, 67, 0.15);\n",
              "    fill: var(--button-hover-fill-color);\n",
              "  }\n",
              "\n",
              "  .colab-df-quickchart-complete:disabled,\n",
              "  .colab-df-quickchart-complete:disabled:hover {\n",
              "    background-color: var(--disabled-bg-color);\n",
              "    fill: var(--disabled-fill-color);\n",
              "    box-shadow: none;\n",
              "  }\n",
              "\n",
              "  .colab-df-spinner {\n",
              "    border: 2px solid var(--fill-color);\n",
              "    border-color: transparent;\n",
              "    border-bottom-color: var(--fill-color);\n",
              "    animation:\n",
              "      spin 1s steps(1) infinite;\n",
              "  }\n",
              "\n",
              "  @keyframes spin {\n",
              "    0% {\n",
              "      border-color: transparent;\n",
              "      border-bottom-color: var(--fill-color);\n",
              "      border-left-color: var(--fill-color);\n",
              "    }\n",
              "    20% {\n",
              "      border-color: transparent;\n",
              "      border-left-color: var(--fill-color);\n",
              "      border-top-color: var(--fill-color);\n",
              "    }\n",
              "    30% {\n",
              "      border-color: transparent;\n",
              "      border-left-color: var(--fill-color);\n",
              "      border-top-color: var(--fill-color);\n",
              "      border-right-color: var(--fill-color);\n",
              "    }\n",
              "    40% {\n",
              "      border-color: transparent;\n",
              "      border-right-color: var(--fill-color);\n",
              "      border-top-color: var(--fill-color);\n",
              "    }\n",
              "    60% {\n",
              "      border-color: transparent;\n",
              "      border-right-color: var(--fill-color);\n",
              "    }\n",
              "    80% {\n",
              "      border-color: transparent;\n",
              "      border-right-color: var(--fill-color);\n",
              "      border-bottom-color: var(--fill-color);\n",
              "    }\n",
              "    90% {\n",
              "      border-color: transparent;\n",
              "      border-bottom-color: var(--fill-color);\n",
              "    }\n",
              "  }\n",
              "</style>\n",
              "\n",
              "      <script>\n",
              "        async function quickchart(key) {\n",
              "          const quickchartButtonEl =\n",
              "            document.querySelector('#' + key + ' button');\n",
              "          quickchartButtonEl.disabled = true;  // To prevent multiple clicks.\n",
              "          quickchartButtonEl.classList.add('colab-df-spinner');\n",
              "          try {\n",
              "            const charts = await google.colab.kernel.invokeFunction(\n",
              "                'suggestCharts', [key], {});\n",
              "          } catch (error) {\n",
              "            console.error('Error during call to suggestCharts:', error);\n",
              "          }\n",
              "          quickchartButtonEl.classList.remove('colab-df-spinner');\n",
              "          quickchartButtonEl.classList.add('colab-df-quickchart-complete');\n",
              "        }\n",
              "        (() => {\n",
              "          let quickchartButtonEl =\n",
              "            document.querySelector('#df-337280ef-3dd0-4d0e-b7b3-55c4d1c09fff button');\n",
              "          quickchartButtonEl.style.display =\n",
              "            google.colab.kernel.accessAllowed ? 'block' : 'none';\n",
              "        })();\n",
              "      </script>\n",
              "    </div>\n",
              "\n",
              "    </div>\n",
              "  </div>\n"
            ],
            "application/vnd.google.colaboratory.intrinsic+json": {
              "type": "dataframe",
              "variable_name": "df",
              "summary": "{\n  \"name\": \"df\",\n  \"rows\": 2461,\n  \"fields\": [\n    {\n      \"column\": \"Date\",\n      \"properties\": {\n        \"dtype\": \"date\",\n        \"min\": \"2015-01-01 00:00:00\",\n        \"max\": \"2018-09-20 00:00:00\",\n        \"num_unique_values\": 896,\n        \"samples\": [\n          \"2015-12-30 00:00:00\",\n          \"2017-04-27 00:00:00\",\n          \"2017-01-06 00:00:00\"\n        ],\n        \"semantic_type\": \"\",\n        \"description\": \"\"\n      }\n    },\n    {\n      \"column\": \"Mode\",\n      \"properties\": {\n        \"dtype\": \"category\",\n        \"num_unique_values\": 12,\n        \"samples\": [\n          \"Fixed Deposit\",\n          \"Equity Mutual Fund D\",\n          \"Cash\"\n        ],\n        \"semantic_type\": \"\",\n        \"description\": \"\"\n      }\n    },\n    {\n      \"column\": \"Category\",\n      \"properties\": {\n        \"dtype\": \"category\",\n        \"num_unique_values\": 50,\n        \"samples\": [\n          \"Salary\",\n          \"Recurring Deposit\",\n          \"Petty cash\"\n        ],\n        \"semantic_type\": \"\",\n        \"description\": \"\"\n      }\n    },\n    {\n      \"column\": \"Subcategory\",\n      \"properties\": {\n        \"dtype\": \"category\",\n        \"num_unique_values\": 90,\n        \"samples\": [\n          \"Hardware\",\n          \"Tea\",\n          \"Stationary\"\n        ],\n        \"semantic_type\": \"\",\n        \"description\": \"\"\n      }\n    },\n    {\n      \"column\": \"Note\",\n      \"properties\": {\n        \"dtype\": \"category\",\n        \"num_unique_values\": 1057,\n        \"samples\": [\n          \"Chitale Srikhand\",\n          \"Mutual fund B\",\n          \"agarbatti + icecream pack\"\n        ],\n        \"semantic_type\": \"\",\n        \"description\": \"\"\n      }\n    },\n    {\n      \"column\": \"Amount\",\n      \"properties\": {\n        \"dtype\": \"number\",\n        \"std\": 12519.61580435605,\n        \"min\": 2.0,\n        \"max\": 250000.0,\n        \"num_unique_values\": 550,\n        \"samples\": [\n          73.0,\n          1358.0,\n          15000.0\n        ],\n        \"semantic_type\": \"\",\n        \"description\": \"\"\n      }\n    },\n    {\n      \"column\": \"Income/Expense\",\n      \"properties\": {\n        \"dtype\": \"category\",\n        \"num_unique_values\": 3,\n        \"samples\": [\n          \"Expense\",\n          \"Transfer-Out\",\n          \"Income\"\n        ],\n        \"semantic_type\": \"\",\n        \"description\": \"\"\n      }\n    },\n    {\n      \"column\": \"Currency\",\n      \"properties\": {\n        \"dtype\": \"category\",\n        \"num_unique_values\": 1,\n        \"samples\": [\n          \"INR\"\n        ],\n        \"semantic_type\": \"\",\n        \"description\": \"\"\n      }\n    }\n  ]\n}"
            }
          },
          "metadata": {},
          "execution_count": 95
        }
      ]
    },
    {
      "cell_type": "markdown",
      "source": [
        "# **Info Data**"
      ],
      "metadata": {
        "id": "xswSrrlwv2oO"
      }
    },
    {
      "cell_type": "markdown",
      "source": [
        "## **Eksplorasi Struktur Dataset Hasil Transformasi**\n",
        "Dilakukan proses eksplorasi struktur dataset hasil transformasi menggunakan metode `df.info()`. Informasi yang diperoleh mencakup:\n",
        "\n",
        "- **Tipe Data**: Dataset berupa objek `DataFrame` dengan jumlah total **2.461 baris** dan **8 kolom**.\n",
        "- **Nama Kolom**:\n",
        "  - **Date** (`datetime64[ns]`): Berisi tanggal transaksi yang telah dikonversi ke format `datetime`.\n",
        "  - **Mode** (`category`): Metode pembayaran yang digunakan, seperti \"Cash\" atau \"Saving Bank Account\".\n",
        "  - **Category** (`category`): Kategori utama transaksi, seperti \"Transportation\" atau \"Food\".\n",
        "  - **Subcategory** (`category`): Subkategori dari kategori utama, namun memiliki beberapa nilai yang **kosong (1826 non-null)**.\n",
        "  - **Note** (`object`): Catatan tambahan terkait transaksi, dengan beberapa nilai **kosong (1940 non-null)**.\n",
        "  - **Amount** (`float64`): Jumlah transaksi dalam format numerik (`float`).\n",
        "  - **Income/Expense** (`category`): Menunjukkan apakah transaksi tersebut adalah **pemasukan** (`Income`) atau **pengeluaran** (`Expense`).\n",
        "  - **Currency** (`category`): Mata uang yang digunakan dalam transaksi.\n",
        "\n",
        "- **Jumlah Baris**: **2.461** baris mencerminkan jumlah total transaksi yang telah diproses.\n",
        "- **Penggunaan Memori**: **75.7 KB**, dengan optimasi tipe data pada kolom kategori untuk mengurangi pemakaian memori.\n",
        "\n",
        "Langkah ini memastikan bahwa dataset hasil transformasi memiliki tipe data dan struktur yang sesuai untuk **analisis lebih lanjut**.\n"
      ],
      "metadata": {
        "id": "oyqGySNuQSMJ"
      }
    },
    {
      "cell_type": "code",
      "source": [
        "df.info()\n"
      ],
      "metadata": {
        "colab": {
          "base_uri": "https://localhost:8080/"
        },
        "id": "q20whzi5uPFk",
        "outputId": "7fe0b816-3ffa-4051-fe6e-1c59b063a55c"
      },
      "execution_count": 96,
      "outputs": [
        {
          "output_type": "stream",
          "name": "stdout",
          "text": [
            "<class 'pandas.core.frame.DataFrame'>\n",
            "RangeIndex: 2461 entries, 0 to 2460\n",
            "Data columns (total 8 columns):\n",
            " #   Column          Non-Null Count  Dtype         \n",
            "---  ------          --------------  -----         \n",
            " 0   Date            2461 non-null   datetime64[ns]\n",
            " 1   Mode            2461 non-null   category      \n",
            " 2   Category        2461 non-null   category      \n",
            " 3   Subcategory     1826 non-null   category      \n",
            " 4   Note            1940 non-null   object        \n",
            " 5   Amount          2461 non-null   float64       \n",
            " 6   Income/Expense  2461 non-null   category      \n",
            " 7   Currency        2461 non-null   category      \n",
            "dtypes: category(5), datetime64[ns](1), float64(1), object(1)\n",
            "memory usage: 75.7+ KB\n"
          ]
        }
      ]
    },
    {
      "cell_type": "markdown",
      "source": [
        "## **Analisis Statistik Deskriptif Dataset**\n",
        "Dilakukan proses analisis statistik deskriptif menggunakan metode `df.describe()`. Metode ini memberikan ringkasan statistik untuk kolom numerik dalam dataset, yaitu:\n",
        "\n",
        "- **Count**: Jumlah data non-null dalam setiap kolom numerik.\n",
        "  - **Date**: 2.461 data non-null.\n",
        "  - **Amount**: 2.461 data non-null.\n",
        "\n",
        "- **Mean (Rata-rata)**:\n",
        "  - **Date**: 3 April 2017 (2017-04-03 17:00:27).\n",
        "  - **Amount**: 2.751,15 (rata-rata nilai transaksi).\n",
        "\n",
        "- **Minimum (Min)**:\n",
        "  - **Date**: 1 Januari 2015 (2015-01-01).\n",
        "  - **Amount**: 2,00 (nilai transaksi terkecil).\n",
        "\n",
        "- **Persentil**:\n",
        "  - **25% (Kuartil 1)**:\n",
        "    - **Date**: 22 Oktober 2016.\n",
        "    - **Amount**: 35,00.\n",
        "  - **50% (Median/Kuartil 2)**:\n",
        "    - **Date**: 25 Juni 2017.\n",
        "    - **Amount**: 100,00.\n",
        "  - **75% (Kuartil 3)**:\n",
        "    - **Date**: 15 Januari 2018.\n",
        "    - **Amount**: 799,00.\n",
        "\n",
        "- **Maximum (Max)**:\n",
        "  - **Date**: 20 September 2018 (2018-09-20).\n",
        "  - **Amount**: 250.000,00 (nilai transaksi terbesar).\n",
        "\n",
        "- **Standard Deviation (std)**:\n",
        "  - **Date**: Tidak tersedia (`NaN`).\n",
        "  - **Amount**: 12.519,62 (variabilitas transaksi cukup tinggi).\n",
        "\n",
        "Hasil ini memberikan gambaran umum distribusi data numerik dalam dataset, termasuk pola transaksi berdasarkan waktu serta rentang dan variasi nilai transaksi.\n"
      ],
      "metadata": {
        "id": "c0TAmZsNQ2d5"
      }
    },
    {
      "cell_type": "code",
      "source": [
        "df.describe()"
      ],
      "metadata": {
        "colab": {
          "base_uri": "https://localhost:8080/",
          "height": 300
        },
        "id": "BnWmHQW2QafP",
        "outputId": "c38a17db-7a6b-493b-9e53-910256a493cd"
      },
      "execution_count": 97,
      "outputs": [
        {
          "output_type": "execute_result",
          "data": {
            "text/plain": [
              "                                Date         Amount\n",
              "count                           2461    2461.000000\n",
              "mean   2017-04-03 17:00:27.793579776    2751.145380\n",
              "min              2015-01-01 00:00:00       2.000000\n",
              "25%              2016-10-22 00:00:00      35.000000\n",
              "50%              2017-06-25 00:00:00     100.000000\n",
              "75%              2018-01-15 00:00:00     799.000000\n",
              "max              2018-09-20 00:00:00  250000.000000\n",
              "std                              NaN   12519.615804"
            ],
            "text/html": [
              "\n",
              "  <div id=\"df-386bcd06-8055-41ba-b58a-13e307825877\" class=\"colab-df-container\">\n",
              "    <div>\n",
              "<style scoped>\n",
              "    .dataframe tbody tr th:only-of-type {\n",
              "        vertical-align: middle;\n",
              "    }\n",
              "\n",
              "    .dataframe tbody tr th {\n",
              "        vertical-align: top;\n",
              "    }\n",
              "\n",
              "    .dataframe thead th {\n",
              "        text-align: right;\n",
              "    }\n",
              "</style>\n",
              "<table border=\"1\" class=\"dataframe\">\n",
              "  <thead>\n",
              "    <tr style=\"text-align: right;\">\n",
              "      <th></th>\n",
              "      <th>Date</th>\n",
              "      <th>Amount</th>\n",
              "    </tr>\n",
              "  </thead>\n",
              "  <tbody>\n",
              "    <tr>\n",
              "      <th>count</th>\n",
              "      <td>2461</td>\n",
              "      <td>2461.000000</td>\n",
              "    </tr>\n",
              "    <tr>\n",
              "      <th>mean</th>\n",
              "      <td>2017-04-03 17:00:27.793579776</td>\n",
              "      <td>2751.145380</td>\n",
              "    </tr>\n",
              "    <tr>\n",
              "      <th>min</th>\n",
              "      <td>2015-01-01 00:00:00</td>\n",
              "      <td>2.000000</td>\n",
              "    </tr>\n",
              "    <tr>\n",
              "      <th>25%</th>\n",
              "      <td>2016-10-22 00:00:00</td>\n",
              "      <td>35.000000</td>\n",
              "    </tr>\n",
              "    <tr>\n",
              "      <th>50%</th>\n",
              "      <td>2017-06-25 00:00:00</td>\n",
              "      <td>100.000000</td>\n",
              "    </tr>\n",
              "    <tr>\n",
              "      <th>75%</th>\n",
              "      <td>2018-01-15 00:00:00</td>\n",
              "      <td>799.000000</td>\n",
              "    </tr>\n",
              "    <tr>\n",
              "      <th>max</th>\n",
              "      <td>2018-09-20 00:00:00</td>\n",
              "      <td>250000.000000</td>\n",
              "    </tr>\n",
              "    <tr>\n",
              "      <th>std</th>\n",
              "      <td>NaN</td>\n",
              "      <td>12519.615804</td>\n",
              "    </tr>\n",
              "  </tbody>\n",
              "</table>\n",
              "</div>\n",
              "    <div class=\"colab-df-buttons\">\n",
              "\n",
              "  <div class=\"colab-df-container\">\n",
              "    <button class=\"colab-df-convert\" onclick=\"convertToInteractive('df-386bcd06-8055-41ba-b58a-13e307825877')\"\n",
              "            title=\"Convert this dataframe to an interactive table.\"\n",
              "            style=\"display:none;\">\n",
              "\n",
              "  <svg xmlns=\"http://www.w3.org/2000/svg\" height=\"24px\" viewBox=\"0 -960 960 960\">\n",
              "    <path d=\"M120-120v-720h720v720H120Zm60-500h600v-160H180v160Zm220 220h160v-160H400v160Zm0 220h160v-160H400v160ZM180-400h160v-160H180v160Zm440 0h160v-160H620v160ZM180-180h160v-160H180v160Zm440 0h160v-160H620v160Z\"/>\n",
              "  </svg>\n",
              "    </button>\n",
              "\n",
              "  <style>\n",
              "    .colab-df-container {\n",
              "      display:flex;\n",
              "      gap: 12px;\n",
              "    }\n",
              "\n",
              "    .colab-df-convert {\n",
              "      background-color: #E8F0FE;\n",
              "      border: none;\n",
              "      border-radius: 50%;\n",
              "      cursor: pointer;\n",
              "      display: none;\n",
              "      fill: #1967D2;\n",
              "      height: 32px;\n",
              "      padding: 0 0 0 0;\n",
              "      width: 32px;\n",
              "    }\n",
              "\n",
              "    .colab-df-convert:hover {\n",
              "      background-color: #E2EBFA;\n",
              "      box-shadow: 0px 1px 2px rgba(60, 64, 67, 0.3), 0px 1px 3px 1px rgba(60, 64, 67, 0.15);\n",
              "      fill: #174EA6;\n",
              "    }\n",
              "\n",
              "    .colab-df-buttons div {\n",
              "      margin-bottom: 4px;\n",
              "    }\n",
              "\n",
              "    [theme=dark] .colab-df-convert {\n",
              "      background-color: #3B4455;\n",
              "      fill: #D2E3FC;\n",
              "    }\n",
              "\n",
              "    [theme=dark] .colab-df-convert:hover {\n",
              "      background-color: #434B5C;\n",
              "      box-shadow: 0px 1px 3px 1px rgba(0, 0, 0, 0.15);\n",
              "      filter: drop-shadow(0px 1px 2px rgba(0, 0, 0, 0.3));\n",
              "      fill: #FFFFFF;\n",
              "    }\n",
              "  </style>\n",
              "\n",
              "    <script>\n",
              "      const buttonEl =\n",
              "        document.querySelector('#df-386bcd06-8055-41ba-b58a-13e307825877 button.colab-df-convert');\n",
              "      buttonEl.style.display =\n",
              "        google.colab.kernel.accessAllowed ? 'block' : 'none';\n",
              "\n",
              "      async function convertToInteractive(key) {\n",
              "        const element = document.querySelector('#df-386bcd06-8055-41ba-b58a-13e307825877');\n",
              "        const dataTable =\n",
              "          await google.colab.kernel.invokeFunction('convertToInteractive',\n",
              "                                                    [key], {});\n",
              "        if (!dataTable) return;\n",
              "\n",
              "        const docLinkHtml = 'Like what you see? Visit the ' +\n",
              "          '<a target=\"_blank\" href=https://colab.research.google.com/notebooks/data_table.ipynb>data table notebook</a>'\n",
              "          + ' to learn more about interactive tables.';\n",
              "        element.innerHTML = '';\n",
              "        dataTable['output_type'] = 'display_data';\n",
              "        await google.colab.output.renderOutput(dataTable, element);\n",
              "        const docLink = document.createElement('div');\n",
              "        docLink.innerHTML = docLinkHtml;\n",
              "        element.appendChild(docLink);\n",
              "      }\n",
              "    </script>\n",
              "  </div>\n",
              "\n",
              "\n",
              "    <div id=\"df-24e9b016-65e9-4ecc-ad63-fbc1171ba2f5\">\n",
              "      <button class=\"colab-df-quickchart\" onclick=\"quickchart('df-24e9b016-65e9-4ecc-ad63-fbc1171ba2f5')\"\n",
              "                title=\"Suggest charts\"\n",
              "                style=\"display:none;\">\n",
              "\n",
              "<svg xmlns=\"http://www.w3.org/2000/svg\" height=\"24px\"viewBox=\"0 0 24 24\"\n",
              "     width=\"24px\">\n",
              "    <g>\n",
              "        <path d=\"M19 3H5c-1.1 0-2 .9-2 2v14c0 1.1.9 2 2 2h14c1.1 0 2-.9 2-2V5c0-1.1-.9-2-2-2zM9 17H7v-7h2v7zm4 0h-2V7h2v10zm4 0h-2v-4h2v4z\"/>\n",
              "    </g>\n",
              "</svg>\n",
              "      </button>\n",
              "\n",
              "<style>\n",
              "  .colab-df-quickchart {\n",
              "      --bg-color: #E8F0FE;\n",
              "      --fill-color: #1967D2;\n",
              "      --hover-bg-color: #E2EBFA;\n",
              "      --hover-fill-color: #174EA6;\n",
              "      --disabled-fill-color: #AAA;\n",
              "      --disabled-bg-color: #DDD;\n",
              "  }\n",
              "\n",
              "  [theme=dark] .colab-df-quickchart {\n",
              "      --bg-color: #3B4455;\n",
              "      --fill-color: #D2E3FC;\n",
              "      --hover-bg-color: #434B5C;\n",
              "      --hover-fill-color: #FFFFFF;\n",
              "      --disabled-bg-color: #3B4455;\n",
              "      --disabled-fill-color: #666;\n",
              "  }\n",
              "\n",
              "  .colab-df-quickchart {\n",
              "    background-color: var(--bg-color);\n",
              "    border: none;\n",
              "    border-radius: 50%;\n",
              "    cursor: pointer;\n",
              "    display: none;\n",
              "    fill: var(--fill-color);\n",
              "    height: 32px;\n",
              "    padding: 0;\n",
              "    width: 32px;\n",
              "  }\n",
              "\n",
              "  .colab-df-quickchart:hover {\n",
              "    background-color: var(--hover-bg-color);\n",
              "    box-shadow: 0 1px 2px rgba(60, 64, 67, 0.3), 0 1px 3px 1px rgba(60, 64, 67, 0.15);\n",
              "    fill: var(--button-hover-fill-color);\n",
              "  }\n",
              "\n",
              "  .colab-df-quickchart-complete:disabled,\n",
              "  .colab-df-quickchart-complete:disabled:hover {\n",
              "    background-color: var(--disabled-bg-color);\n",
              "    fill: var(--disabled-fill-color);\n",
              "    box-shadow: none;\n",
              "  }\n",
              "\n",
              "  .colab-df-spinner {\n",
              "    border: 2px solid var(--fill-color);\n",
              "    border-color: transparent;\n",
              "    border-bottom-color: var(--fill-color);\n",
              "    animation:\n",
              "      spin 1s steps(1) infinite;\n",
              "  }\n",
              "\n",
              "  @keyframes spin {\n",
              "    0% {\n",
              "      border-color: transparent;\n",
              "      border-bottom-color: var(--fill-color);\n",
              "      border-left-color: var(--fill-color);\n",
              "    }\n",
              "    20% {\n",
              "      border-color: transparent;\n",
              "      border-left-color: var(--fill-color);\n",
              "      border-top-color: var(--fill-color);\n",
              "    }\n",
              "    30% {\n",
              "      border-color: transparent;\n",
              "      border-left-color: var(--fill-color);\n",
              "      border-top-color: var(--fill-color);\n",
              "      border-right-color: var(--fill-color);\n",
              "    }\n",
              "    40% {\n",
              "      border-color: transparent;\n",
              "      border-right-color: var(--fill-color);\n",
              "      border-top-color: var(--fill-color);\n",
              "    }\n",
              "    60% {\n",
              "      border-color: transparent;\n",
              "      border-right-color: var(--fill-color);\n",
              "    }\n",
              "    80% {\n",
              "      border-color: transparent;\n",
              "      border-right-color: var(--fill-color);\n",
              "      border-bottom-color: var(--fill-color);\n",
              "    }\n",
              "    90% {\n",
              "      border-color: transparent;\n",
              "      border-bottom-color: var(--fill-color);\n",
              "    }\n",
              "  }\n",
              "</style>\n",
              "\n",
              "      <script>\n",
              "        async function quickchart(key) {\n",
              "          const quickchartButtonEl =\n",
              "            document.querySelector('#' + key + ' button');\n",
              "          quickchartButtonEl.disabled = true;  // To prevent multiple clicks.\n",
              "          quickchartButtonEl.classList.add('colab-df-spinner');\n",
              "          try {\n",
              "            const charts = await google.colab.kernel.invokeFunction(\n",
              "                'suggestCharts', [key], {});\n",
              "          } catch (error) {\n",
              "            console.error('Error during call to suggestCharts:', error);\n",
              "          }\n",
              "          quickchartButtonEl.classList.remove('colab-df-spinner');\n",
              "          quickchartButtonEl.classList.add('colab-df-quickchart-complete');\n",
              "        }\n",
              "        (() => {\n",
              "          let quickchartButtonEl =\n",
              "            document.querySelector('#df-24e9b016-65e9-4ecc-ad63-fbc1171ba2f5 button');\n",
              "          quickchartButtonEl.style.display =\n",
              "            google.colab.kernel.accessAllowed ? 'block' : 'none';\n",
              "        })();\n",
              "      </script>\n",
              "    </div>\n",
              "\n",
              "    </div>\n",
              "  </div>\n"
            ],
            "application/vnd.google.colaboratory.intrinsic+json": {
              "type": "dataframe",
              "summary": "{\n  \"name\": \"df\",\n  \"rows\": 8,\n  \"fields\": [\n    {\n      \"column\": \"Date\",\n      \"properties\": {\n        \"dtype\": \"date\",\n        \"min\": \"1970-01-01 00:00:00.000002461\",\n        \"max\": \"2018-09-20 00:00:00\",\n        \"num_unique_values\": 7,\n        \"samples\": [\n          \"2461\",\n          \"2017-04-03 17:00:27.793579776\",\n          \"2018-01-15 00:00:00\"\n        ],\n        \"semantic_type\": \"\",\n        \"description\": \"\"\n      }\n    },\n    {\n      \"column\": \"Amount\",\n      \"properties\": {\n        \"dtype\": \"number\",\n        \"std\": 87544.45400914761,\n        \"min\": 2.0,\n        \"max\": 250000.0,\n        \"num_unique_values\": 8,\n        \"samples\": [\n          2751.1453799268593,\n          799.0,\n          2461.0\n        ],\n        \"semantic_type\": \"\",\n        \"description\": \"\"\n      }\n    }\n  ]\n}"
            }
          },
          "metadata": {},
          "execution_count": 97
        }
      ]
    },
    {
      "cell_type": "markdown",
      "source": [
        "# **Cleansing Data**\n",
        "\n",
        "  Dilakukan proses pembersihan data untuk memastikan kolom Amount memiliki nilai valid dan dapat dianalisis. Langkah-langkah yang dilakukan adalah sebagai berikut:\n",
        "\n",
        "\n",
        "\n",
        "**1.   Membersihkan kolom Amount**:\n",
        "\n",
        "\n",
        "  -   Koma (,) dan spasi ( ) dalam nilai harga dihapus menggunakan replace() dengan parameter regex=True.\n",
        "  -   Nilai dalam kolom harga dikonversi menjadi tipe numerik menggunakan pd.to_numeric(). Nilai yang tidak valid secara otomatis diubah menjadi NaN dengan parameter errors='coerce'.\n",
        "\n",
        "\n",
        "**2.   Mengisi values yang hilang pada kolom sub-category**:\n",
        "\n",
        "  - Memberikan keterangan jika nilai kosong dengan tidak diketahui\n",
        "\n",
        "\n",
        "\n",
        "\n",
        "\n"
      ],
      "metadata": {
        "id": "279AngNXQ7zc"
      }
    },
    {
      "cell_type": "code",
      "source": [
        "df['Amount'] = data['Amount'].replace({',': '', ' ': ''}, regex=True)\n",
        "df['Amount'] = pd.to_numeric(data['Amount'], errors='coerce')"
      ],
      "metadata": {
        "id": "1eXba8fNRFAX"
      },
      "execution_count": 98,
      "outputs": []
    },
    {
      "cell_type": "markdown",
      "source": [
        "## **Menangani Nilai Hilang pada Kolom 'Subcategory'**\n",
        "Dalam dataset, terdapat nilai yang hilang pada kolom **Subcategory**. Untuk mengatasi hal ini, dilakukan langkah-langkah berikut:\n",
        "\n",
        "- **Menambahkan Kategori Baru \"Tidak Diketahui\"**  \n",
        "   Karena kolom **Subcategory** bertipe *category*, kategori baru **\"Tidak Diketahui\"** ditambahkan menggunakan metode `cat.add_categories()`.\n",
        "\n",
        "   ```python\n",
        "   df['Subcategory'] = df['Subcategory'].cat.add_categories('Tidak Diketahui')\n"
      ],
      "metadata": {
        "id": "VPVjThwGSK1z"
      }
    },
    {
      "cell_type": "code",
      "source": [
        "# Menambahkan kategori baru 'Tidak Diketahui' ke dalam kolom 'Subcategory'\n",
        "df['Subcategory'] = df['Subcategory'].cat.add_categories('Tidak Diketahui')\n",
        "\n",
        "# Sekarang isi nilai yang hilang dengan 'Tidak Diketahui'\n",
        "df['Subcategory'].fillna('Tidak Diketahui', inplace=True)\n",
        "\n",
        "# Memeriksa hasilnya\n",
        "print(df['Subcategory'].value_counts())\n"
      ],
      "metadata": {
        "colab": {
          "base_uri": "https://localhost:8080/"
        },
        "id": "1Q3A04FFR0jl",
        "outputId": "982537e3-6cb2-49d6-b2ab-477efd2039c9"
      },
      "execution_count": 99,
      "outputs": [
        {
          "output_type": "stream",
          "name": "stdout",
          "text": [
            "Subcategory\n",
            "Tidak Diketahui    635\n",
            "Milk               162\n",
            "auto               142\n",
            "snacks             115\n",
            "Grocery            113\n",
            "                  ... \n",
            "Leisure              1\n",
            "Makeup               1\n",
            "Updation             1\n",
            "ropeway              1\n",
            "makeup               1\n",
            "Name: count, Length: 91, dtype: int64\n"
          ]
        },
        {
          "output_type": "stream",
          "name": "stderr",
          "text": [
            "<ipython-input-99-526075f88bef>:5: FutureWarning: A value is trying to be set on a copy of a DataFrame or Series through chained assignment using an inplace method.\n",
            "The behavior will change in pandas 3.0. This inplace method will never work because the intermediate object on which we are setting values always behaves as a copy.\n",
            "\n",
            "For example, when doing 'df[col].method(value, inplace=True)', try using 'df.method({col: value}, inplace=True)' or df[col] = df[col].method(value) instead, to perform the operation inplace on the original object.\n",
            "\n",
            "\n",
            "  df['Subcategory'].fillna('Tidak Diketahui', inplace=True)\n"
          ]
        }
      ]
    },
    {
      "cell_type": "markdown",
      "source": [
        "\n",
        "\n",
        "*   **Mengisi Nilai Hilang dengan Label Khusus**<br>\n",
        "Setelah kategori tambahan berhasil dimasukkan, nilai hilang pada kolom Subcategory kemudian diisi dengan label **Tidak Diketahui**, sedangkan nilai hilang pada kolom Note diisi dengan label **Tanpa Keterangan**.\n",
        "<br><br>\n",
        "*   **Verifikasi Pengisian Nilai Hilang**<br>\n",
        "Untuk memastikan bahwa semua nilai hilang telah berhasil diatasi, dilakukan pengecekan jumlah nilai kosong pada masing-masing kolom setelah proses imputasi.\n",
        "\n"
      ],
      "metadata": {
        "id": "ivxtsTSDmGQl"
      }
    },
    {
      "cell_type": "code",
      "source": [
        "# Mengisi nilai yang hilang di kolom 'Subcategory' dengan 'Tidak Diketahui'\n",
        "df['Subcategory'].fillna('Tidak Diketahui', inplace=True)\n",
        "\n",
        "# Mengisi nilai yang hilang di kolom 'Note' dengan 'Tanpa Keterangan'\n",
        "df['Note'].fillna('Tanpa Keterangan', inplace=True)\n",
        "\n",
        "# Mengecek setelah pengisian nilai yang hilang\n",
        "print(df.isnull().sum())\n"
      ],
      "metadata": {
        "colab": {
          "base_uri": "https://localhost:8080/"
        },
        "id": "ETl-n0BOSj7R",
        "outputId": "594c72bb-c8b6-456a-95f6-7906386093b9"
      },
      "execution_count": 100,
      "outputs": [
        {
          "output_type": "stream",
          "name": "stdout",
          "text": [
            "Date              0\n",
            "Mode              0\n",
            "Category          0\n",
            "Subcategory       0\n",
            "Note              0\n",
            "Amount            0\n",
            "Income/Expense    0\n",
            "Currency          0\n",
            "dtype: int64\n"
          ]
        },
        {
          "output_type": "stream",
          "name": "stderr",
          "text": [
            "<ipython-input-100-4efcec691eff>:2: FutureWarning: A value is trying to be set on a copy of a DataFrame or Series through chained assignment using an inplace method.\n",
            "The behavior will change in pandas 3.0. This inplace method will never work because the intermediate object on which we are setting values always behaves as a copy.\n",
            "\n",
            "For example, when doing 'df[col].method(value, inplace=True)', try using 'df.method({col: value}, inplace=True)' or df[col] = df[col].method(value) instead, to perform the operation inplace on the original object.\n",
            "\n",
            "\n",
            "  df['Subcategory'].fillna('Tidak Diketahui', inplace=True)\n",
            "<ipython-input-100-4efcec691eff>:5: FutureWarning: A value is trying to be set on a copy of a DataFrame or Series through chained assignment using an inplace method.\n",
            "The behavior will change in pandas 3.0. This inplace method will never work because the intermediate object on which we are setting values always behaves as a copy.\n",
            "\n",
            "For example, when doing 'df[col].method(value, inplace=True)', try using 'df.method({col: value}, inplace=True)' or df[col] = df[col].method(value) instead, to perform the operation inplace on the original object.\n",
            "\n",
            "\n",
            "  df['Note'].fillna('Tanpa Keterangan', inplace=True)\n"
          ]
        }
      ]
    },
    {
      "cell_type": "code",
      "source": [
        "df.duplicated().sum()"
      ],
      "metadata": {
        "colab": {
          "base_uri": "https://localhost:8080/"
        },
        "id": "3a7pk205OS6U",
        "outputId": "cc29db7d-f285-42ea-c4fe-9f507643c56b"
      },
      "execution_count": 101,
      "outputs": [
        {
          "output_type": "execute_result",
          "data": {
            "text/plain": [
              "np.int64(11)"
            ]
          },
          "metadata": {},
          "execution_count": 101
        }
      ]
    },
    {
      "cell_type": "code",
      "source": [
        "df.drop_duplicates(inplace=True)\n"
      ],
      "metadata": {
        "id": "uvi-Ei_fO5MJ"
      },
      "execution_count": 102,
      "outputs": []
    },
    {
      "cell_type": "markdown",
      "source": [
        "Setelah dilakukan pemeriksaan menggunakan fungsi `df.duplicated().sum()`, ditemukan sebanyak 11 baris duplikat dalam dataset. Baris-baris ini memiliki nilai yang sama persis dengan baris sebelumnya pada semua kolom. Duplikasi data seperti ini dapat menyebabkan bias dalam proses analisis, khususnya dalam model machine learning yang sensitif terhadap distribusi data. Oleh karena itu, langkah penghapusan baris duplikat perlu dilakukan untuk menjaga kualitas dan akurasi model yang dibangun.\n",
        "\n"
      ],
      "metadata": {
        "id": "3OtEd8vwijWp"
      }
    },
    {
      "cell_type": "markdown",
      "source": [
        "## **Mengganti nilai 'Transfer-Out' menjadi 'Expense' pada kolom 'Income/Expense'**\n",
        "Pada langkah ini, dilakukan proses transformasi data untuk memastikan konsistensi dalam kategori `Income/Expense`. Secara spesifik, nilai `Transfer-Out` pada kolom `Income/Expense` diganti dengan 'Expense'.\n",
        "\n",
        "\n",
        "\n",
        "- **Alasan Transformasi**\n",
        "  - **Menghindari ambiguitas**: secara konseptual serupa dengan pengeluaran (`Expense`).\n",
        "  - **Memudahkan analisis**: Kategori yang lebih sederhana mempermudah pengelompokan dan visualisasi data."
      ],
      "metadata": {
        "id": "c6idy8FgSsCN"
      }
    },
    {
      "cell_type": "code",
      "source": [
        "# Mengganti nilai 'Transfer-Out' menjadi 'Expense' pada kolom 'Income/Expense'\n",
        "df['Income/Expense'] = df['Income/Expense'].replace('Transfer-Out', 'Expense')\n",
        "\n",
        "# Memeriksa hasil perubahan\n",
        "print(df['Income/Expense'].value_counts())\n"
      ],
      "metadata": {
        "colab": {
          "base_uri": "https://localhost:8080/"
        },
        "id": "9JG3bfvES5IE",
        "outputId": "bfcd28eb-7373-4d19-f779-913bf20492ae"
      },
      "execution_count": 103,
      "outputs": [
        {
          "output_type": "stream",
          "name": "stdout",
          "text": [
            "Income/Expense\n",
            "Expense    2325\n",
            "Income      125\n",
            "Name: count, dtype: int64\n"
          ]
        },
        {
          "output_type": "stream",
          "name": "stderr",
          "text": [
            "<ipython-input-103-c22db463799a>:2: FutureWarning: The behavior of Series.replace (and DataFrame.replace) with CategoricalDtype is deprecated. In a future version, replace will only be used for cases that preserve the categories. To change the categories, use ser.cat.rename_categories instead.\n",
            "  df['Income/Expense'] = df['Income/Expense'].replace('Transfer-Out', 'Expense')\n"
          ]
        }
      ]
    },
    {
      "cell_type": "markdown",
      "source": [
        "Dilakukan proses analisis statistik deskriptif pada dataset yang telah dibersihkan (data_transformed_clean) menggunakan metode describe(). Metode ini memberikan ringkasan statistik untuk kolom numerik yang tersisa dalam dataset, yang meliputi:\n",
        "\n",
        "1. **Count**: Jumlah data non-null dalam setiap kolom numerik .\n",
        "2. **Mean**: Nilai rata-rata dari kolom numerik, memberikan gambaran nilai tengah harga komoditas dan distribusi waktu.\n",
        "3. **Standard Deviation (std)**: Mengukur seberapa besar variasi atau penyebaran data uang dan waktu dari nilai rata-rata.\n",
        "4. **Minimum (min)**: Nilai terkecil yang terdapat dalam kolom numerik, menunjukkan nilai uang terendah yang tercatat dalam dataset.\n",
        "5. **Percentile (25%, 50%, 75%)**: Mengindikasikan distribusi data pada kuartil pertama (25%), median (50%), dan kuartil ketiga (75%).\n",
        "6. **Maximum (max)**: Nilai terbesar yang terdapat dalam kolom numerik, menunjukkan nilai uang tertinggi yang tercatat.\n",
        "\n",
        "Hasil ini memberikan gambaran yang lebih jelas tentang pengeluaran dan pemasukan setelah pembersihan data, serta memberikan wawasan lebih lanjut terkait variasi dan prediksi yang dianalisis."
      ],
      "metadata": {
        "id": "gU8q8BpvVD6I"
      }
    },
    {
      "cell_type": "code",
      "source": [
        "df.describe()"
      ],
      "metadata": {
        "colab": {
          "base_uri": "https://localhost:8080/",
          "height": 300
        },
        "id": "M1DKBiYyTtud",
        "outputId": "64c2ce33-ffd1-4f0b-c706-66d46927c11f"
      },
      "execution_count": 104,
      "outputs": [
        {
          "output_type": "execute_result",
          "data": {
            "text/plain": [
              "                                Date         Amount\n",
              "count                           2450    2450.000000\n",
              "mean   2017-04-03 10:15:58.040816384    2760.211747\n",
              "min              2015-01-01 00:00:00       2.000000\n",
              "25%              2016-10-15 12:00:00      35.000000\n",
              "50%              2017-06-24 12:00:00     100.000000\n",
              "75%              2018-01-16 00:00:00     785.500000\n",
              "max              2018-09-20 00:00:00  250000.000000\n",
              "std                              NaN   12546.933575"
            ],
            "text/html": [
              "\n",
              "  <div id=\"df-a4a3eeb0-0e3e-40db-8d36-1e5ad20461f0\" class=\"colab-df-container\">\n",
              "    <div>\n",
              "<style scoped>\n",
              "    .dataframe tbody tr th:only-of-type {\n",
              "        vertical-align: middle;\n",
              "    }\n",
              "\n",
              "    .dataframe tbody tr th {\n",
              "        vertical-align: top;\n",
              "    }\n",
              "\n",
              "    .dataframe thead th {\n",
              "        text-align: right;\n",
              "    }\n",
              "</style>\n",
              "<table border=\"1\" class=\"dataframe\">\n",
              "  <thead>\n",
              "    <tr style=\"text-align: right;\">\n",
              "      <th></th>\n",
              "      <th>Date</th>\n",
              "      <th>Amount</th>\n",
              "    </tr>\n",
              "  </thead>\n",
              "  <tbody>\n",
              "    <tr>\n",
              "      <th>count</th>\n",
              "      <td>2450</td>\n",
              "      <td>2450.000000</td>\n",
              "    </tr>\n",
              "    <tr>\n",
              "      <th>mean</th>\n",
              "      <td>2017-04-03 10:15:58.040816384</td>\n",
              "      <td>2760.211747</td>\n",
              "    </tr>\n",
              "    <tr>\n",
              "      <th>min</th>\n",
              "      <td>2015-01-01 00:00:00</td>\n",
              "      <td>2.000000</td>\n",
              "    </tr>\n",
              "    <tr>\n",
              "      <th>25%</th>\n",
              "      <td>2016-10-15 12:00:00</td>\n",
              "      <td>35.000000</td>\n",
              "    </tr>\n",
              "    <tr>\n",
              "      <th>50%</th>\n",
              "      <td>2017-06-24 12:00:00</td>\n",
              "      <td>100.000000</td>\n",
              "    </tr>\n",
              "    <tr>\n",
              "      <th>75%</th>\n",
              "      <td>2018-01-16 00:00:00</td>\n",
              "      <td>785.500000</td>\n",
              "    </tr>\n",
              "    <tr>\n",
              "      <th>max</th>\n",
              "      <td>2018-09-20 00:00:00</td>\n",
              "      <td>250000.000000</td>\n",
              "    </tr>\n",
              "    <tr>\n",
              "      <th>std</th>\n",
              "      <td>NaN</td>\n",
              "      <td>12546.933575</td>\n",
              "    </tr>\n",
              "  </tbody>\n",
              "</table>\n",
              "</div>\n",
              "    <div class=\"colab-df-buttons\">\n",
              "\n",
              "  <div class=\"colab-df-container\">\n",
              "    <button class=\"colab-df-convert\" onclick=\"convertToInteractive('df-a4a3eeb0-0e3e-40db-8d36-1e5ad20461f0')\"\n",
              "            title=\"Convert this dataframe to an interactive table.\"\n",
              "            style=\"display:none;\">\n",
              "\n",
              "  <svg xmlns=\"http://www.w3.org/2000/svg\" height=\"24px\" viewBox=\"0 -960 960 960\">\n",
              "    <path d=\"M120-120v-720h720v720H120Zm60-500h600v-160H180v160Zm220 220h160v-160H400v160Zm0 220h160v-160H400v160ZM180-400h160v-160H180v160Zm440 0h160v-160H620v160ZM180-180h160v-160H180v160Zm440 0h160v-160H620v160Z\"/>\n",
              "  </svg>\n",
              "    </button>\n",
              "\n",
              "  <style>\n",
              "    .colab-df-container {\n",
              "      display:flex;\n",
              "      gap: 12px;\n",
              "    }\n",
              "\n",
              "    .colab-df-convert {\n",
              "      background-color: #E8F0FE;\n",
              "      border: none;\n",
              "      border-radius: 50%;\n",
              "      cursor: pointer;\n",
              "      display: none;\n",
              "      fill: #1967D2;\n",
              "      height: 32px;\n",
              "      padding: 0 0 0 0;\n",
              "      width: 32px;\n",
              "    }\n",
              "\n",
              "    .colab-df-convert:hover {\n",
              "      background-color: #E2EBFA;\n",
              "      box-shadow: 0px 1px 2px rgba(60, 64, 67, 0.3), 0px 1px 3px 1px rgba(60, 64, 67, 0.15);\n",
              "      fill: #174EA6;\n",
              "    }\n",
              "\n",
              "    .colab-df-buttons div {\n",
              "      margin-bottom: 4px;\n",
              "    }\n",
              "\n",
              "    [theme=dark] .colab-df-convert {\n",
              "      background-color: #3B4455;\n",
              "      fill: #D2E3FC;\n",
              "    }\n",
              "\n",
              "    [theme=dark] .colab-df-convert:hover {\n",
              "      background-color: #434B5C;\n",
              "      box-shadow: 0px 1px 3px 1px rgba(0, 0, 0, 0.15);\n",
              "      filter: drop-shadow(0px 1px 2px rgba(0, 0, 0, 0.3));\n",
              "      fill: #FFFFFF;\n",
              "    }\n",
              "  </style>\n",
              "\n",
              "    <script>\n",
              "      const buttonEl =\n",
              "        document.querySelector('#df-a4a3eeb0-0e3e-40db-8d36-1e5ad20461f0 button.colab-df-convert');\n",
              "      buttonEl.style.display =\n",
              "        google.colab.kernel.accessAllowed ? 'block' : 'none';\n",
              "\n",
              "      async function convertToInteractive(key) {\n",
              "        const element = document.querySelector('#df-a4a3eeb0-0e3e-40db-8d36-1e5ad20461f0');\n",
              "        const dataTable =\n",
              "          await google.colab.kernel.invokeFunction('convertToInteractive',\n",
              "                                                    [key], {});\n",
              "        if (!dataTable) return;\n",
              "\n",
              "        const docLinkHtml = 'Like what you see? Visit the ' +\n",
              "          '<a target=\"_blank\" href=https://colab.research.google.com/notebooks/data_table.ipynb>data table notebook</a>'\n",
              "          + ' to learn more about interactive tables.';\n",
              "        element.innerHTML = '';\n",
              "        dataTable['output_type'] = 'display_data';\n",
              "        await google.colab.output.renderOutput(dataTable, element);\n",
              "        const docLink = document.createElement('div');\n",
              "        docLink.innerHTML = docLinkHtml;\n",
              "        element.appendChild(docLink);\n",
              "      }\n",
              "    </script>\n",
              "  </div>\n",
              "\n",
              "\n",
              "    <div id=\"df-4e972ee4-16b5-45ce-bc76-9c6de73d347a\">\n",
              "      <button class=\"colab-df-quickchart\" onclick=\"quickchart('df-4e972ee4-16b5-45ce-bc76-9c6de73d347a')\"\n",
              "                title=\"Suggest charts\"\n",
              "                style=\"display:none;\">\n",
              "\n",
              "<svg xmlns=\"http://www.w3.org/2000/svg\" height=\"24px\"viewBox=\"0 0 24 24\"\n",
              "     width=\"24px\">\n",
              "    <g>\n",
              "        <path d=\"M19 3H5c-1.1 0-2 .9-2 2v14c0 1.1.9 2 2 2h14c1.1 0 2-.9 2-2V5c0-1.1-.9-2-2-2zM9 17H7v-7h2v7zm4 0h-2V7h2v10zm4 0h-2v-4h2v4z\"/>\n",
              "    </g>\n",
              "</svg>\n",
              "      </button>\n",
              "\n",
              "<style>\n",
              "  .colab-df-quickchart {\n",
              "      --bg-color: #E8F0FE;\n",
              "      --fill-color: #1967D2;\n",
              "      --hover-bg-color: #E2EBFA;\n",
              "      --hover-fill-color: #174EA6;\n",
              "      --disabled-fill-color: #AAA;\n",
              "      --disabled-bg-color: #DDD;\n",
              "  }\n",
              "\n",
              "  [theme=dark] .colab-df-quickchart {\n",
              "      --bg-color: #3B4455;\n",
              "      --fill-color: #D2E3FC;\n",
              "      --hover-bg-color: #434B5C;\n",
              "      --hover-fill-color: #FFFFFF;\n",
              "      --disabled-bg-color: #3B4455;\n",
              "      --disabled-fill-color: #666;\n",
              "  }\n",
              "\n",
              "  .colab-df-quickchart {\n",
              "    background-color: var(--bg-color);\n",
              "    border: none;\n",
              "    border-radius: 50%;\n",
              "    cursor: pointer;\n",
              "    display: none;\n",
              "    fill: var(--fill-color);\n",
              "    height: 32px;\n",
              "    padding: 0;\n",
              "    width: 32px;\n",
              "  }\n",
              "\n",
              "  .colab-df-quickchart:hover {\n",
              "    background-color: var(--hover-bg-color);\n",
              "    box-shadow: 0 1px 2px rgba(60, 64, 67, 0.3), 0 1px 3px 1px rgba(60, 64, 67, 0.15);\n",
              "    fill: var(--button-hover-fill-color);\n",
              "  }\n",
              "\n",
              "  .colab-df-quickchart-complete:disabled,\n",
              "  .colab-df-quickchart-complete:disabled:hover {\n",
              "    background-color: var(--disabled-bg-color);\n",
              "    fill: var(--disabled-fill-color);\n",
              "    box-shadow: none;\n",
              "  }\n",
              "\n",
              "  .colab-df-spinner {\n",
              "    border: 2px solid var(--fill-color);\n",
              "    border-color: transparent;\n",
              "    border-bottom-color: var(--fill-color);\n",
              "    animation:\n",
              "      spin 1s steps(1) infinite;\n",
              "  }\n",
              "\n",
              "  @keyframes spin {\n",
              "    0% {\n",
              "      border-color: transparent;\n",
              "      border-bottom-color: var(--fill-color);\n",
              "      border-left-color: var(--fill-color);\n",
              "    }\n",
              "    20% {\n",
              "      border-color: transparent;\n",
              "      border-left-color: var(--fill-color);\n",
              "      border-top-color: var(--fill-color);\n",
              "    }\n",
              "    30% {\n",
              "      border-color: transparent;\n",
              "      border-left-color: var(--fill-color);\n",
              "      border-top-color: var(--fill-color);\n",
              "      border-right-color: var(--fill-color);\n",
              "    }\n",
              "    40% {\n",
              "      border-color: transparent;\n",
              "      border-right-color: var(--fill-color);\n",
              "      border-top-color: var(--fill-color);\n",
              "    }\n",
              "    60% {\n",
              "      border-color: transparent;\n",
              "      border-right-color: var(--fill-color);\n",
              "    }\n",
              "    80% {\n",
              "      border-color: transparent;\n",
              "      border-right-color: var(--fill-color);\n",
              "      border-bottom-color: var(--fill-color);\n",
              "    }\n",
              "    90% {\n",
              "      border-color: transparent;\n",
              "      border-bottom-color: var(--fill-color);\n",
              "    }\n",
              "  }\n",
              "</style>\n",
              "\n",
              "      <script>\n",
              "        async function quickchart(key) {\n",
              "          const quickchartButtonEl =\n",
              "            document.querySelector('#' + key + ' button');\n",
              "          quickchartButtonEl.disabled = true;  // To prevent multiple clicks.\n",
              "          quickchartButtonEl.classList.add('colab-df-spinner');\n",
              "          try {\n",
              "            const charts = await google.colab.kernel.invokeFunction(\n",
              "                'suggestCharts', [key], {});\n",
              "          } catch (error) {\n",
              "            console.error('Error during call to suggestCharts:', error);\n",
              "          }\n",
              "          quickchartButtonEl.classList.remove('colab-df-spinner');\n",
              "          quickchartButtonEl.classList.add('colab-df-quickchart-complete');\n",
              "        }\n",
              "        (() => {\n",
              "          let quickchartButtonEl =\n",
              "            document.querySelector('#df-4e972ee4-16b5-45ce-bc76-9c6de73d347a button');\n",
              "          quickchartButtonEl.style.display =\n",
              "            google.colab.kernel.accessAllowed ? 'block' : 'none';\n",
              "        })();\n",
              "      </script>\n",
              "    </div>\n",
              "\n",
              "    </div>\n",
              "  </div>\n"
            ],
            "application/vnd.google.colaboratory.intrinsic+json": {
              "type": "dataframe",
              "summary": "{\n  \"name\": \"df\",\n  \"rows\": 8,\n  \"fields\": [\n    {\n      \"column\": \"Date\",\n      \"properties\": {\n        \"dtype\": \"date\",\n        \"min\": \"1970-01-01 00:00:00.000002450\",\n        \"max\": \"2018-09-20 00:00:00\",\n        \"num_unique_values\": 7,\n        \"samples\": [\n          \"2450\",\n          \"2017-04-03 10:15:58.040816384\",\n          \"2018-01-16 00:00:00\"\n        ],\n        \"semantic_type\": \"\",\n        \"description\": \"\"\n      }\n    },\n    {\n      \"column\": \"Amount\",\n      \"properties\": {\n        \"dtype\": \"number\",\n        \"std\": 87544.34066231569,\n        \"min\": 2.0,\n        \"max\": 250000.0,\n        \"num_unique_values\": 8,\n        \"samples\": [\n          2760.2117469387754,\n          785.5,\n          2450.0\n        ],\n        \"semantic_type\": \"\",\n        \"description\": \"\"\n      }\n    }\n  ]\n}"
            }
          },
          "metadata": {},
          "execution_count": 104
        }
      ]
    },
    {
      "cell_type": "markdown",
      "source": [
        "Dilakukan proses **menampilkan data awal** dari dataset yang telah dibersihkan (`df`) menggunakan metode `head()`. Metode ini akan menampilkan lima baris pertama dari dataset yang sudah tidak mengandung nilai NaN atau 0 pada kolom harga. Hal ini bertujuan untuk:\n",
        "\n",
        "* **Verifikasi pembersihan data**: Memastikan bahwa baris yang mengandung nilai tidak valid telah berhasil dihapus.\n",
        "* **Menampilkan contoh data**: Memberikan gambaran awal mengenai struktur data yang telah dibersihkan, termasuk kolom `Date`, `Mode`,\t`Category`,\t`Subcategory`,\t`Note`,\t`Amount`,\t`Income/Expense`,\t`Currency`\n",
        "* **Memastikan konsistensi data**: Memeriksa apakah dataset sekarang sudah terstruktur dengan benar, dengan nilai  yang valid dan kolom waktu yang sesuai.\n",
        "<br>\n",
        "Hasil ini memungkinkan untuk memverifikasi bahwa pembersihan data telah dilakukan dengan benar dan dataset siap untuk analisis lebih lanjut."
      ],
      "metadata": {
        "id": "Kf48wEwTqjBL"
      }
    },
    {
      "cell_type": "code",
      "source": [
        "df.head()"
      ],
      "metadata": {
        "colab": {
          "base_uri": "https://localhost:8080/",
          "height": 206
        },
        "id": "l6yuueWEUW2u",
        "outputId": "fca5979e-a94c-4c1a-df2a-b352e22d2537"
      },
      "execution_count": 105,
      "outputs": [
        {
          "output_type": "execute_result",
          "data": {
            "text/plain": [
              "        Date                   Mode        Category              Subcategory  \\\n",
              "0 2018-09-20                   Cash  Transportation                    Train   \n",
              "1 2018-09-20                   Cash            Food                   snacks   \n",
              "2 2018-09-19  Saving Bank account 1    subscription                  Netflix   \n",
              "3 2018-09-17  Saving Bank account 1    subscription  Mobile Service Provider   \n",
              "4 2018-09-16                   Cash       Festivals             Ganesh Pujan   \n",
              "\n",
              "                          Note  Amount Income/Expense Currency  \n",
              "0         2 Place 5 to Place 0    30.0        Expense      INR  \n",
              "1  Idli medu Vada mix 2 plates    60.0        Expense      INR  \n",
              "2         1 month subscription   199.0        Expense      INR  \n",
              "3            Data booster pack    19.0        Expense      INR  \n",
              "4                  Ganesh idol   251.0        Expense      INR  "
            ],
            "text/html": [
              "\n",
              "  <div id=\"df-fb6a0f03-ac5a-4ff4-900a-cdc50d42992a\" class=\"colab-df-container\">\n",
              "    <div>\n",
              "<style scoped>\n",
              "    .dataframe tbody tr th:only-of-type {\n",
              "        vertical-align: middle;\n",
              "    }\n",
              "\n",
              "    .dataframe tbody tr th {\n",
              "        vertical-align: top;\n",
              "    }\n",
              "\n",
              "    .dataframe thead th {\n",
              "        text-align: right;\n",
              "    }\n",
              "</style>\n",
              "<table border=\"1\" class=\"dataframe\">\n",
              "  <thead>\n",
              "    <tr style=\"text-align: right;\">\n",
              "      <th></th>\n",
              "      <th>Date</th>\n",
              "      <th>Mode</th>\n",
              "      <th>Category</th>\n",
              "      <th>Subcategory</th>\n",
              "      <th>Note</th>\n",
              "      <th>Amount</th>\n",
              "      <th>Income/Expense</th>\n",
              "      <th>Currency</th>\n",
              "    </tr>\n",
              "  </thead>\n",
              "  <tbody>\n",
              "    <tr>\n",
              "      <th>0</th>\n",
              "      <td>2018-09-20</td>\n",
              "      <td>Cash</td>\n",
              "      <td>Transportation</td>\n",
              "      <td>Train</td>\n",
              "      <td>2 Place 5 to Place 0</td>\n",
              "      <td>30.0</td>\n",
              "      <td>Expense</td>\n",
              "      <td>INR</td>\n",
              "    </tr>\n",
              "    <tr>\n",
              "      <th>1</th>\n",
              "      <td>2018-09-20</td>\n",
              "      <td>Cash</td>\n",
              "      <td>Food</td>\n",
              "      <td>snacks</td>\n",
              "      <td>Idli medu Vada mix 2 plates</td>\n",
              "      <td>60.0</td>\n",
              "      <td>Expense</td>\n",
              "      <td>INR</td>\n",
              "    </tr>\n",
              "    <tr>\n",
              "      <th>2</th>\n",
              "      <td>2018-09-19</td>\n",
              "      <td>Saving Bank account 1</td>\n",
              "      <td>subscription</td>\n",
              "      <td>Netflix</td>\n",
              "      <td>1 month subscription</td>\n",
              "      <td>199.0</td>\n",
              "      <td>Expense</td>\n",
              "      <td>INR</td>\n",
              "    </tr>\n",
              "    <tr>\n",
              "      <th>3</th>\n",
              "      <td>2018-09-17</td>\n",
              "      <td>Saving Bank account 1</td>\n",
              "      <td>subscription</td>\n",
              "      <td>Mobile Service Provider</td>\n",
              "      <td>Data booster pack</td>\n",
              "      <td>19.0</td>\n",
              "      <td>Expense</td>\n",
              "      <td>INR</td>\n",
              "    </tr>\n",
              "    <tr>\n",
              "      <th>4</th>\n",
              "      <td>2018-09-16</td>\n",
              "      <td>Cash</td>\n",
              "      <td>Festivals</td>\n",
              "      <td>Ganesh Pujan</td>\n",
              "      <td>Ganesh idol</td>\n",
              "      <td>251.0</td>\n",
              "      <td>Expense</td>\n",
              "      <td>INR</td>\n",
              "    </tr>\n",
              "  </tbody>\n",
              "</table>\n",
              "</div>\n",
              "    <div class=\"colab-df-buttons\">\n",
              "\n",
              "  <div class=\"colab-df-container\">\n",
              "    <button class=\"colab-df-convert\" onclick=\"convertToInteractive('df-fb6a0f03-ac5a-4ff4-900a-cdc50d42992a')\"\n",
              "            title=\"Convert this dataframe to an interactive table.\"\n",
              "            style=\"display:none;\">\n",
              "\n",
              "  <svg xmlns=\"http://www.w3.org/2000/svg\" height=\"24px\" viewBox=\"0 -960 960 960\">\n",
              "    <path d=\"M120-120v-720h720v720H120Zm60-500h600v-160H180v160Zm220 220h160v-160H400v160Zm0 220h160v-160H400v160ZM180-400h160v-160H180v160Zm440 0h160v-160H620v160ZM180-180h160v-160H180v160Zm440 0h160v-160H620v160Z\"/>\n",
              "  </svg>\n",
              "    </button>\n",
              "\n",
              "  <style>\n",
              "    .colab-df-container {\n",
              "      display:flex;\n",
              "      gap: 12px;\n",
              "    }\n",
              "\n",
              "    .colab-df-convert {\n",
              "      background-color: #E8F0FE;\n",
              "      border: none;\n",
              "      border-radius: 50%;\n",
              "      cursor: pointer;\n",
              "      display: none;\n",
              "      fill: #1967D2;\n",
              "      height: 32px;\n",
              "      padding: 0 0 0 0;\n",
              "      width: 32px;\n",
              "    }\n",
              "\n",
              "    .colab-df-convert:hover {\n",
              "      background-color: #E2EBFA;\n",
              "      box-shadow: 0px 1px 2px rgba(60, 64, 67, 0.3), 0px 1px 3px 1px rgba(60, 64, 67, 0.15);\n",
              "      fill: #174EA6;\n",
              "    }\n",
              "\n",
              "    .colab-df-buttons div {\n",
              "      margin-bottom: 4px;\n",
              "    }\n",
              "\n",
              "    [theme=dark] .colab-df-convert {\n",
              "      background-color: #3B4455;\n",
              "      fill: #D2E3FC;\n",
              "    }\n",
              "\n",
              "    [theme=dark] .colab-df-convert:hover {\n",
              "      background-color: #434B5C;\n",
              "      box-shadow: 0px 1px 3px 1px rgba(0, 0, 0, 0.15);\n",
              "      filter: drop-shadow(0px 1px 2px rgba(0, 0, 0, 0.3));\n",
              "      fill: #FFFFFF;\n",
              "    }\n",
              "  </style>\n",
              "\n",
              "    <script>\n",
              "      const buttonEl =\n",
              "        document.querySelector('#df-fb6a0f03-ac5a-4ff4-900a-cdc50d42992a button.colab-df-convert');\n",
              "      buttonEl.style.display =\n",
              "        google.colab.kernel.accessAllowed ? 'block' : 'none';\n",
              "\n",
              "      async function convertToInteractive(key) {\n",
              "        const element = document.querySelector('#df-fb6a0f03-ac5a-4ff4-900a-cdc50d42992a');\n",
              "        const dataTable =\n",
              "          await google.colab.kernel.invokeFunction('convertToInteractive',\n",
              "                                                    [key], {});\n",
              "        if (!dataTable) return;\n",
              "\n",
              "        const docLinkHtml = 'Like what you see? Visit the ' +\n",
              "          '<a target=\"_blank\" href=https://colab.research.google.com/notebooks/data_table.ipynb>data table notebook</a>'\n",
              "          + ' to learn more about interactive tables.';\n",
              "        element.innerHTML = '';\n",
              "        dataTable['output_type'] = 'display_data';\n",
              "        await google.colab.output.renderOutput(dataTable, element);\n",
              "        const docLink = document.createElement('div');\n",
              "        docLink.innerHTML = docLinkHtml;\n",
              "        element.appendChild(docLink);\n",
              "      }\n",
              "    </script>\n",
              "  </div>\n",
              "\n",
              "\n",
              "    <div id=\"df-9582d89c-8676-4f66-9950-656c085f0828\">\n",
              "      <button class=\"colab-df-quickchart\" onclick=\"quickchart('df-9582d89c-8676-4f66-9950-656c085f0828')\"\n",
              "                title=\"Suggest charts\"\n",
              "                style=\"display:none;\">\n",
              "\n",
              "<svg xmlns=\"http://www.w3.org/2000/svg\" height=\"24px\"viewBox=\"0 0 24 24\"\n",
              "     width=\"24px\">\n",
              "    <g>\n",
              "        <path d=\"M19 3H5c-1.1 0-2 .9-2 2v14c0 1.1.9 2 2 2h14c1.1 0 2-.9 2-2V5c0-1.1-.9-2-2-2zM9 17H7v-7h2v7zm4 0h-2V7h2v10zm4 0h-2v-4h2v4z\"/>\n",
              "    </g>\n",
              "</svg>\n",
              "      </button>\n",
              "\n",
              "<style>\n",
              "  .colab-df-quickchart {\n",
              "      --bg-color: #E8F0FE;\n",
              "      --fill-color: #1967D2;\n",
              "      --hover-bg-color: #E2EBFA;\n",
              "      --hover-fill-color: #174EA6;\n",
              "      --disabled-fill-color: #AAA;\n",
              "      --disabled-bg-color: #DDD;\n",
              "  }\n",
              "\n",
              "  [theme=dark] .colab-df-quickchart {\n",
              "      --bg-color: #3B4455;\n",
              "      --fill-color: #D2E3FC;\n",
              "      --hover-bg-color: #434B5C;\n",
              "      --hover-fill-color: #FFFFFF;\n",
              "      --disabled-bg-color: #3B4455;\n",
              "      --disabled-fill-color: #666;\n",
              "  }\n",
              "\n",
              "  .colab-df-quickchart {\n",
              "    background-color: var(--bg-color);\n",
              "    border: none;\n",
              "    border-radius: 50%;\n",
              "    cursor: pointer;\n",
              "    display: none;\n",
              "    fill: var(--fill-color);\n",
              "    height: 32px;\n",
              "    padding: 0;\n",
              "    width: 32px;\n",
              "  }\n",
              "\n",
              "  .colab-df-quickchart:hover {\n",
              "    background-color: var(--hover-bg-color);\n",
              "    box-shadow: 0 1px 2px rgba(60, 64, 67, 0.3), 0 1px 3px 1px rgba(60, 64, 67, 0.15);\n",
              "    fill: var(--button-hover-fill-color);\n",
              "  }\n",
              "\n",
              "  .colab-df-quickchart-complete:disabled,\n",
              "  .colab-df-quickchart-complete:disabled:hover {\n",
              "    background-color: var(--disabled-bg-color);\n",
              "    fill: var(--disabled-fill-color);\n",
              "    box-shadow: none;\n",
              "  }\n",
              "\n",
              "  .colab-df-spinner {\n",
              "    border: 2px solid var(--fill-color);\n",
              "    border-color: transparent;\n",
              "    border-bottom-color: var(--fill-color);\n",
              "    animation:\n",
              "      spin 1s steps(1) infinite;\n",
              "  }\n",
              "\n",
              "  @keyframes spin {\n",
              "    0% {\n",
              "      border-color: transparent;\n",
              "      border-bottom-color: var(--fill-color);\n",
              "      border-left-color: var(--fill-color);\n",
              "    }\n",
              "    20% {\n",
              "      border-color: transparent;\n",
              "      border-left-color: var(--fill-color);\n",
              "      border-top-color: var(--fill-color);\n",
              "    }\n",
              "    30% {\n",
              "      border-color: transparent;\n",
              "      border-left-color: var(--fill-color);\n",
              "      border-top-color: var(--fill-color);\n",
              "      border-right-color: var(--fill-color);\n",
              "    }\n",
              "    40% {\n",
              "      border-color: transparent;\n",
              "      border-right-color: var(--fill-color);\n",
              "      border-top-color: var(--fill-color);\n",
              "    }\n",
              "    60% {\n",
              "      border-color: transparent;\n",
              "      border-right-color: var(--fill-color);\n",
              "    }\n",
              "    80% {\n",
              "      border-color: transparent;\n",
              "      border-right-color: var(--fill-color);\n",
              "      border-bottom-color: var(--fill-color);\n",
              "    }\n",
              "    90% {\n",
              "      border-color: transparent;\n",
              "      border-bottom-color: var(--fill-color);\n",
              "    }\n",
              "  }\n",
              "</style>\n",
              "\n",
              "      <script>\n",
              "        async function quickchart(key) {\n",
              "          const quickchartButtonEl =\n",
              "            document.querySelector('#' + key + ' button');\n",
              "          quickchartButtonEl.disabled = true;  // To prevent multiple clicks.\n",
              "          quickchartButtonEl.classList.add('colab-df-spinner');\n",
              "          try {\n",
              "            const charts = await google.colab.kernel.invokeFunction(\n",
              "                'suggestCharts', [key], {});\n",
              "          } catch (error) {\n",
              "            console.error('Error during call to suggestCharts:', error);\n",
              "          }\n",
              "          quickchartButtonEl.classList.remove('colab-df-spinner');\n",
              "          quickchartButtonEl.classList.add('colab-df-quickchart-complete');\n",
              "        }\n",
              "        (() => {\n",
              "          let quickchartButtonEl =\n",
              "            document.querySelector('#df-9582d89c-8676-4f66-9950-656c085f0828 button');\n",
              "          quickchartButtonEl.style.display =\n",
              "            google.colab.kernel.accessAllowed ? 'block' : 'none';\n",
              "        })();\n",
              "      </script>\n",
              "    </div>\n",
              "\n",
              "    </div>\n",
              "  </div>\n"
            ],
            "application/vnd.google.colaboratory.intrinsic+json": {
              "type": "dataframe",
              "variable_name": "df",
              "summary": "{\n  \"name\": \"df\",\n  \"rows\": 2450,\n  \"fields\": [\n    {\n      \"column\": \"Date\",\n      \"properties\": {\n        \"dtype\": \"date\",\n        \"min\": \"2015-01-01 00:00:00\",\n        \"max\": \"2018-09-20 00:00:00\",\n        \"num_unique_values\": 896,\n        \"samples\": [\n          \"2015-12-30 00:00:00\",\n          \"2017-04-27 00:00:00\",\n          \"2017-01-06 00:00:00\"\n        ],\n        \"semantic_type\": \"\",\n        \"description\": \"\"\n      }\n    },\n    {\n      \"column\": \"Mode\",\n      \"properties\": {\n        \"dtype\": \"category\",\n        \"num_unique_values\": 12,\n        \"samples\": [\n          \"Fixed Deposit\",\n          \"Equity Mutual Fund D\",\n          \"Cash\"\n        ],\n        \"semantic_type\": \"\",\n        \"description\": \"\"\n      }\n    },\n    {\n      \"column\": \"Category\",\n      \"properties\": {\n        \"dtype\": \"category\",\n        \"num_unique_values\": 50,\n        \"samples\": [\n          \"Salary\",\n          \"Recurring Deposit\",\n          \"Petty cash\"\n        ],\n        \"semantic_type\": \"\",\n        \"description\": \"\"\n      }\n    },\n    {\n      \"column\": \"Subcategory\",\n      \"properties\": {\n        \"dtype\": \"category\",\n        \"num_unique_values\": 91,\n        \"samples\": [\n          \"Taxi\",\n          \"train\",\n          \"misc\"\n        ],\n        \"semantic_type\": \"\",\n        \"description\": \"\"\n      }\n    },\n    {\n      \"column\": \"Note\",\n      \"properties\": {\n        \"dtype\": \"category\",\n        \"num_unique_values\": 1058,\n        \"samples\": [\n          \"Distilled water refill Inverter (Rs.100 given by Family)\",\n          \"ET Prime (1+1) till 24 Dec,2024\",\n          \"Flatbread 8 pcs\"\n        ],\n        \"semantic_type\": \"\",\n        \"description\": \"\"\n      }\n    },\n    {\n      \"column\": \"Amount\",\n      \"properties\": {\n        \"dtype\": \"number\",\n        \"std\": 12546.933574666886,\n        \"min\": 2.0,\n        \"max\": 250000.0,\n        \"num_unique_values\": 550,\n        \"samples\": [\n          73.0,\n          1358.0,\n          15000.0\n        ],\n        \"semantic_type\": \"\",\n        \"description\": \"\"\n      }\n    },\n    {\n      \"column\": \"Income/Expense\",\n      \"properties\": {\n        \"dtype\": \"category\",\n        \"num_unique_values\": 2,\n        \"samples\": [\n          \"Income\",\n          \"Expense\"\n        ],\n        \"semantic_type\": \"\",\n        \"description\": \"\"\n      }\n    },\n    {\n      \"column\": \"Currency\",\n      \"properties\": {\n        \"dtype\": \"category\",\n        \"num_unique_values\": 1,\n        \"samples\": [\n          \"INR\"\n        ],\n        \"semantic_type\": \"\",\n        \"description\": \"\"\n      }\n    }\n  ]\n}"
            }
          },
          "metadata": {},
          "execution_count": 105
        }
      ]
    },
    {
      "cell_type": "markdown",
      "source": [
        "## **Penjelasan Variabel**\n",
        "\n",
        "\n",
        "1.   **Date**\n",
        "* **Tipe:** datetime64[ns]\n",
        "* **Deskripsi:** Menyimpan tanggal dan waktu transaksi yang tercatat. Formatnya adalah YYYY-MM-DD HH:MM:SS (misalnya, 2018-09-20 12:04:08). Kolom ini digunakan untuk menunjukkan kapan transaksi terjadi, yang penting untuk analisis berbasis waktu seperti tren bulanan atau tahunan.\n",
        "2.   **Mode**\n",
        "* **Tipe:** category\n",
        "* **Deskripsi:** Menyimpan cara pembayaran atau metode transaksi yang digunakan, misalnya Cash, Credit Card, Debit, atau Bank Transfer. Kolom ini membantu mengkategorikan transaksi berdasarkan metode pembayaran yang digunakan.\n",
        "3. **Category**\n",
        "* **Tipe:** category\n",
        "* **Deskripsi:** Menyimpan kategori utama pengeluaran atau pendapatan, seperti Transportation, Food, Subscription, dan sebagainya. Kolom ini digunakan untuk mengelompokkan transaksi dalam kategori umum yang memudahkan analisis pengeluaran atau pemasukan.\n",
        "4. **Subcategory**\n",
        "* **Tipe:** category\n",
        "* **Deskripsi:** Menyimpan subkategori lebih spesifik dari kategori utama. Misalnya, dalam kategori Food, subkategori bisa berupa snacks, groceries, atau dining. Kolom ini memberikan detail lebih lanjut tentang jenis transaksi di dalam kategori tersebut.\n",
        "5. **Note**\n",
        "* **Tipe:** object\n",
        "* **Deskripsi:** Menyimpan deskripsi atau catatan tambahan terkait transaksi. Kolom ini biasanya berisi informasi lebih rinci atau keterangan mengenai transaksi, seperti \"Idli medu Vada mix 2 plates\" atau \"Ganesh idol\". Data ini sering kali digunakan untuk memberikan konteks lebih lanjut bagi transaksi yang tercatat.\n",
        "6. **Amount**\n",
        "* **Tipe:** float64\n",
        "* **Deskripsi:** Menyimpan jumlah uang yang terkait dengan transaksi. Nilai dalam kolom ini menunjukkan besarnya pengeluaran atau pemasukan yang tercatat, dan biasanya berupa angka desimal (misalnya, 30.0, 199.0). Data ini penting untuk perhitungan total pengeluaran atau pemasukan.\n",
        "7. **Income/Expense**\n",
        "* **Tipe:** category\n",
        "* **Deskripsi:** Menyimpan tipe transaksi apakah itu Income (pendapatan) atau Expense (pengeluaran). Kolom ini membantu dalam mengkategorikan transaksi sebagai pemasukan atau pengeluaran yang berguna untuk analisis keuangan.\n",
        "8. **Currency**\n",
        "* **Tipe:** category\n",
        "* **Deskripsi:** Menyimpan mata uang yang digunakan dalam transaksi, seperti INR, IDR, atau EUR. Kolom ini membantu dalam menentukan mata uang yang digunakan dalam transaksi, yang penting ketika melakukan analisis lintas negara atau konversi mata uang."
      ],
      "metadata": {
        "id": "6_KAp7Mdpv47"
      }
    },
    {
      "cell_type": "markdown",
      "source": [
        "# **Visualisasi Data**\n",
        "## **Analisis Pergerakan Income dan Expense Per Bulan (2015–2018)**\n",
        "Langkah ini memvisualisasikan pergerakan jumlah Income dan Expense per bulan dari tahun 2015 hingga 2018. Proses yang dilakukan:\n",
        "\n",
        "1. **Filter data** : Data difilter berdasarkan rentang tanggal antara 1 Januari 2015 hingga 20 September 2018. Hal ini bertujuan untuk fokus pada periode yang konsisten dan relevan dengan kebutuhan analisis tren keuangan jangka menengah.\n",
        "2. **Sub-column** :Untuk analisis bulanan, ditambahkan kolom `Year-Month` dengan format periode bulan (`YYYY-MM`). Ini memudahkan proses agregasi jumlah nominal transaksi berdasarkan bulan.\n",
        "3. **Menghitung Total Bulanan Income dan Expense** : Data dikelompokkan berdasarkan bulan (`Year-Month`) dan kategori (`Income/Expense`). Kemudian, dihitung total jumlah (`Amount`) dari masing-masing kategori pada setiap bulan.\n"
      ],
      "metadata": {
        "id": "eWJ_Wr3bqKL_"
      }
    },
    {
      "cell_type": "code",
      "source": [
        "df['Date'].min(), df['Date'].max()\n",
        "start_date = '2015-01-01'\n",
        "end_date = '2018-09-20'\n",
        "df_filtered = df[(df['Date'] >= start_date) & (df['Date'] <= end_date)]\n",
        "# Menambahkan kolom 'Year-Month' untuk mengelompokkan data per bulan\n",
        "df_filtered['Year-Month'] = df_filtered['Date'].dt.to_period('M')\n",
        "\n",
        "# Group by Year-Month dan Income/Expense, kemudian sum Amount\n",
        "df_grouped = df_filtered.groupby(['Year-Month', 'Income/Expense'])['Amount'].sum().unstack(fill_value=0)\n"
      ],
      "metadata": {
        "id": "p7_VeDZ0V5IF",
        "colab": {
          "base_uri": "https://localhost:8080/"
        },
        "outputId": "716a49a5-bf07-4a1e-db1d-8a2e65b53b14"
      },
      "execution_count": 106,
      "outputs": [
        {
          "output_type": "stream",
          "name": "stderr",
          "text": [
            "<ipython-input-106-985f51a35a0d>:9: FutureWarning: The default of observed=False is deprecated and will be changed to True in a future version of pandas. Pass observed=False to retain current behavior or observed=True to adopt the future default and silence this warning.\n",
            "  df_grouped = df_filtered.groupby(['Year-Month', 'Income/Expense'])['Amount'].sum().unstack(fill_value=0)\n"
          ]
        }
      ]
    },
    {
      "cell_type": "markdown",
      "source": [
        "### **Visualisasi Tren Pergerakan Income dan Expense**\n",
        "Grafik garis digunakan untuk menggambarkan fluktuasi jumlah pemasukan dan pengeluaran per bulan. Hal ini berguna untuk memahami siklus keuangan, pola pengeluaran bulanan"
      ],
      "metadata": {
        "id": "pi8PgBM0kxVO"
      }
    },
    {
      "cell_type": "code",
      "source": [
        "# Plot hasil perbandingan Income dan Expense dengan line chart\n",
        "plt.figure(figsize=(14, 8))\n",
        "plt.plot(df_grouped.index.astype(str), df_grouped['Expense'], label='Expense', color='red', marker='o')\n",
        "plt.plot(df_grouped.index.astype(str), df_grouped['Income'], label='Income', color='blue', marker='o')\n",
        "\n",
        "# Menambahkan judul dan label\n",
        "plt.title('Perbandingan Income dan Expense per Bulan (2015-2018)', fontsize=16)\n",
        "plt.xlabel('Tahun-Bulan', fontsize=12)\n",
        "plt.ylabel('Jumlah (INR)', fontsize=12)\n",
        "\n",
        "# Menambahkan legenda\n",
        "plt.legend(title='Income/Expense')\n",
        "\n",
        "# Mengatur tampilan agar tidak terpotong\n",
        "plt.xticks(rotation=90)\n",
        "plt.tight_layout()\n",
        "\n",
        "# Menampilkan plot\n",
        "plt.show()\n"
      ],
      "metadata": {
        "colab": {
          "base_uri": "https://localhost:8080/",
          "height": 827
        },
        "id": "mL-HK8oIu-ji",
        "outputId": "6a77798d-8e6a-4d6f-ce74-11598ffd1156"
      },
      "execution_count": 107,
      "outputs": [
        {
          "output_type": "display_data",
          "data": {
            "text/plain": [
              "<Figure size 1400x800 with 1 Axes>"
            ],
            "image/png": "[encoded data removed]"
          },
          "metadata": {}
        }
      ]
    },
    {
      "cell_type": "markdown",
      "source": [
        "# **Long Short Term Memory(LSTM)**\n",
        "\n"
      ],
      "metadata": {
        "id": "SBWT-yu-wuzC"
      }
    },
    {
      "cell_type": "markdown",
      "source": [
        "## **Prepocessing Data**\n",
        "Pada tahap ini, data dipersiapkan untuk analisis  prediksi keuangan di masa depan berdasarkan historis. Langkah-langkah yang dilakukan sebagai berikut:\n"
      ],
      "metadata": {
        "id": "0yayInZPrh4F"
      }
    },
    {
      "cell_type": "markdown",
      "source": [
        "### **1. Pilih kolom yang relevan**:\n",
        "  - Data yang akan difokuskan pada kolom berdasarkan `Date`,` Amount`, `Income/Expense` yang hanya bernilai `Expense`."
      ],
      "metadata": {
        "id": "UMHkH0vero4w"
      }
    },
    {
      "cell_type": "code",
      "source": [
        "# Filter baris yang hanya memiliki nilai 'Expense' di kolom 'Income/Expense'\n",
        "expense_df = df[df['Income/Expense'] == 'Expense']\n",
        "\n",
        "# Memilih hanya kolom 'Date', 'Income/Expense', dan 'Amount'\n",
        "expense_df = expense_df[['Date', 'Income/Expense', 'Amount']]\n",
        "\n",
        "# Menampilkan hasil\n",
        "print(expense_df.head())\n"
      ],
      "metadata": {
        "colab": {
          "base_uri": "https://localhost:8080/"
        },
        "id": "vwdg_PE003tf",
        "outputId": "20dc755e-23cb-4440-8627-ffeae7cba6f1"
      },
      "execution_count": 108,
      "outputs": [
        {
          "output_type": "stream",
          "name": "stdout",
          "text": [
            "        Date Income/Expense  Amount\n",
            "0 2018-09-20        Expense    30.0\n",
            "1 2018-09-20        Expense    60.0\n",
            "2 2018-09-19        Expense   199.0\n",
            "3 2018-09-17        Expense    19.0\n",
            "4 2018-09-16        Expense   251.0\n"
          ]
        }
      ]
    },
    {
      "cell_type": "markdown",
      "source": [
        "### 2.**Konversi mata uang**:\n",
        "  - Mengkonversi mata uang `INR` ke dalam bentuk `IDR` untuk kebutuhan analisis.Konversi ini dilakukan secara manual\n",
        "\n",
        "  1 INR = 191.96 IDR per tanggal 20-Mei-2025\n",
        "  \n",
        "  Langkah preprocessing ini memastikan data siap digunakan untuk metode peramalan berbasis deret waktu."
      ],
      "metadata": {
        "id": "p8VnBhChrWrd"
      }
    },
    {
      "cell_type": "code",
      "source": [
        "# Tentukan nilai tukar INR ke IDR\n",
        "nilai_tukar = 191.96  # 1 INR = 187.60 IDR (per tanggal 20-05-2025)\n",
        "\n",
        "# Mengonversi kolom 'Amount' dari INR ke IDR dan menggantinya di kolom yang sama\n",
        "expense_df['Amount'] = expense_df['Amount'] * nilai_tukar\n",
        "\n",
        "\n"
      ],
      "metadata": {
        "id": "IKuth_x53csT"
      },
      "execution_count": 109,
      "outputs": []
    },
    {
      "cell_type": "markdown",
      "source": [
        "Pada tahap ini, data awal (lima baris pertama) dari subset `expense_df` ditampilkan untuk memeriksa struktur dan isi data. Subset ini berisi data `amount` dengan kolom sebagai berikut:\n",
        "\n",
        "  - **Date**: Indeks waktu yang menunjukkan tanggal .\n",
        "  - **Amount**: Nilai uang yang sudah dikonversi dalam bentuk IDR.\n",
        "  \n",
        "Menampilkan data awal membantu memastikan bahwa data telah terpisah dengan benar dan sesuai untuk langkah analisis selanjutnya."
      ],
      "metadata": {
        "id": "evWqpmWu-vet"
      }
    },
    {
      "cell_type": "code",
      "source": [
        "print(expense_df.head())"
      ],
      "metadata": {
        "colab": {
          "base_uri": "https://localhost:8080/"
        },
        "id": "yo7ZvUp169WO",
        "outputId": "c122b7b0-5db9-481c-da3d-8a90223aa2eb"
      },
      "execution_count": 110,
      "outputs": [
        {
          "output_type": "stream",
          "name": "stdout",
          "text": [
            "        Date Income/Expense    Amount\n",
            "0 2018-09-20        Expense   5758.80\n",
            "1 2018-09-20        Expense  11517.60\n",
            "2 2018-09-19        Expense  38200.04\n",
            "3 2018-09-17        Expense   3647.24\n",
            "4 2018-09-16        Expense  48181.96\n"
          ]
        }
      ]
    },
    {
      "cell_type": "markdown",
      "source": [
        "## **Normalisasi Data**\n",
        "Setelah data dipisahkan menjadi data latih dan data uji, langkah selanjutnya adalah melakukan normalisasi data. Proses ini bertujuan untuk menyetarakan skala nilai pada kolom `Amount` agar model prediksi dapat bekerja lebih optimal dan stabil, terutama jika menggunakan algoritma yang sensitif terhadap perbedaan skala data seperti `LSTM` atau model berbasis jaringan saraf.\n",
        "<br>\n",
        "\n",
        "**Fitur yang Dinormalisasi:**\n",
        "* Kolom `Amount`, yang berisi nominal pengeluaran dalam satuan Rupiah (setelah dikonversi dari `INR`), dijadikan target untuk dinormalisasi.\n",
        "\n",
        "* Normalisasi dilakukan agar nilai `Amount` berada dalam rentang 0 hingga 1, menggunakan metode` Min-Max Scaling`.\n",
        "<br>\n",
        "\n",
        "**Proses Normalisasi:**\n",
        "* Fungsi `MinMaxScaler` dari library `scikit-learn` digunakan untuk melakukan normalisasi dengan skala minimum 0 dan maksimum 1.\n",
        "\n",
        "* Model *scaler* hanya dilatih (`fit_transform`) menggunakan data latih untuk mencegah kebocoran data (*data leakage*).\n",
        "\n",
        "* Setelah itu, transformasi (*transform*) dilakukan pada kolom `Amount`.\n",
        "\n",
        "Langkah ini sangat penting dalam pemodelan machine learning atau deep learning karena membantu mempercepat proses pelatihan, menghindari dominasi fitur dengan skala besar, dan menjaga stabilitas komputasi."
      ],
      "metadata": {
        "id": "ISMGSqiVFW9x"
      }
    },
    {
      "cell_type": "code",
      "source": [
        "# Normalisasi kolom 'Amount' menggunakan MinMaxScaler\n",
        "scaler = MinMaxScaler(feature_range=(0, 1))\n",
        "expense_df['Amount'] = scaler.fit_transform(expense_df[['Amount']])"
      ],
      "metadata": {
        "id": "lOavvMq5FCcF"
      },
      "execution_count": 111,
      "outputs": []
    },
    {
      "cell_type": "markdown",
      "source": [
        "## **Pemisahan Data: Data Latih dan Data Uji**\n",
        "Pada tahap ini, data transaksi pengeluaran dipisahkan menjadi dua bagian utama, yaitu data latih (*training data*) dan data uji (*testing data*). Pemisahan ini bertujuan untuk mendukung proses pelatihan dan evaluasi model prediksi anomali, agar model tidak hanya menghafal data yang ada, tetapi mampu mempelajari pola dan tren dari waktu ke waktu.\n",
        "\n",
        "<br>\n",
        "\n",
        "**Fitur dan Target**<br>\n",
        "\n",
        "* Dalam konteks prediksi anomali, kolom `Amount` dijadikan sebagai target variabel yang ingin diramalkan di masa depan.\n",
        "\n",
        "* Sementara kolom `Date` digunakan sebagai referensi waktu untuk keperluan pemodelan berbasis deret waktu (**time series**).\n",
        "\n",
        "<br>\n",
        "\n",
        "**Pemecahan Data**<br>\n",
        "Dataset pengeluaran secara keseluruhan dibagi ke dalam dua bagian:\n",
        "\n",
        "* **Data Latih**(*Training Data*): `train_data = amount_data[:split_index]`\n",
        "Mengambil data dari awal sampai sebelum indeks ke-80%.\n",
        "Ini akan digunakan sebagai data pelatihan untuk model.\n",
        "\n",
        "* **Data Uji** (*Testing Data*): `test_data = amount_data[split_index:]`\n",
        "Mengambil data dari indeks ke-80% hingga akhir array.\n",
        "Ini akan digunakan sebagai data pengujian, untuk melihat seberapa baik model memprediksi nilai baru.\n",
        "\n",
        "Pemisahan ini dilakukan  secara berurutan berdasarkan waktu, agar model bisa belajar pola waktu dari masa lalu ke masa depan. Maka `[:split_index]` dan `[split_index:]` digunakan untuk mempertahankan urutan waktu."
      ],
      "metadata": {
        "id": "UAoOJJt7BZ8V"
      }
    },
    {
      "cell_type": "code",
      "source": [
        "# Menyortir data berdasarkan tanggal\n",
        "expense_df = expense_df.sort_values(by='Date')\n",
        "\n",
        "# Mengambil data nilai Amount\n",
        "amount_data = expense_df['Amount'].values\n",
        "\n",
        "# Membagi data menjadi 80% training dan 20% testing (berbasis time series)\n",
        "split_index = int(len(amount_data) * 0.8)\n",
        "train_data = amount_data[:split_index]\n",
        "test_data = amount_data[split_index:]"
      ],
      "metadata": {
        "id": "ybIkA6DIDPhy"
      },
      "execution_count": 112,
      "outputs": []
    },
    {
      "cell_type": "markdown",
      "source": [
        "## **Pembuatan Data Berurutan(*Time Series Sequences*)**\n",
        "\n",
        "Setelah data dinormalisasi, langkah berikutnya adalah mengubah data deret waktu (*time series*) menjadi format yang sesuai untuk model `LSTM`. Karena `LSTM` bekerja dengan data sekuensial, kita perlu membentuk urutan data historis selama periode tertentu sebagai input untuk memprediksi nilai di masa depan.\n",
        "<br>\n",
        "\n",
        "### **Fungsi create_sequence:**\n",
        "```python\n",
        "  def create_sequence(data, sequence_length):\n",
        "    sequences = []\n",
        "    for i in range(len(data) - sequence_length):\n",
        "        sequences.append(data[i:i + sequence_length])\n",
        "    return np.array(sequences)\n",
        "```\n",
        "Fungsi ini mengambil array satu dimensi dari jumlah pengeluaran dan membaginya menjadi jendela (*window*) dengan panjang tertentu (*sequence_length*). Setiap jendela berisi `n` hari berturut-turut sebagai masukan untuk memprediksi hari ke-`n+1.`\n",
        "\n"
      ],
      "metadata": {
        "id": "1YTNgAHPI5-_"
      }
    },
    {
      "cell_type": "markdown",
      "source": [
        "### **Penerapan Fungsi create_sequence:**\n",
        "```python\n",
        "\n",
        "sequence_length = 30\n",
        "sequences = create_sequence(amount_data, sequence_length)\n",
        "```\n",
        "Dalam kasus ini, `sequence_length = 30` artinya model akan menggunakan data pengeluaran dari 30 hari terakhir untuk memprediksi pengeluaran pada hari ke-31. Proses ini dilakukan secara bergulir (*rolling window*) untuk seluruh data pelatihan dan pengujian."
      ],
      "metadata": {
        "id": "G5fZn5JRJy-z"
      }
    },
    {
      "cell_type": "markdown",
      "source": [
        "### **Pemisahan Fitur dan Target:**\n",
        "```python\n",
        "X_train, y_train = train_sequences[:, :-1], train_sequences[:, -1]\n",
        "X_test, y_test = test_sequences[:, :-1], test_sequences[:, -1]\n",
        "```\n",
        "Setelah data berurutan terbentuk, masing-masing jendela dipisahkan menjadi:\n",
        "\n",
        "* `X` (**fitur**): nilai pengeluaran dari hari ke-1 sampai ke-30.\n",
        "\n",
        "* `y `(**target**): nilai pengeluaran pada hari ke-31.\n",
        "\n",
        "\n"
      ],
      "metadata": {
        "id": "LHA8qc1fKCyX"
      }
    },
    {
      "cell_type": "markdown",
      "source": [
        "### **Penyesuaian Dimensi untuk LSTM:**\n",
        "Model `LSTM` membutuhkan input dengan bentuk (`samples`, `timesteps`, `features`). Maka, data` X_train` dan` X_test` di-reshape menjadi format tiga dimensi:\n",
        "\n",
        "* `samples`: jumlah urutan data,\n",
        "\n",
        "* `timesteps`: panjang urutan (30),\n",
        "\n",
        "* `features`: 1 (karena hanya ada 1 fitur yaitu jumlah pengeluaran).\n",
        "\n"
      ],
      "metadata": {
        "id": "D9ceEGsvKeCZ"
      }
    },
    {
      "cell_type": "markdown",
      "source": [
        " bentuk `X_train` adalah (**jumlah_samples**, 29, 1) karena 29` timestep` dan 1 fitur.\n",
        " `y_train` adalah 1D array dengan jumlah sampel yang sama ((1836,)), karena tiap input 29 hari dipakai untuk memprediksi 1 hari berikutnya.sama halnya untuk **data test**.<br>\n",
        " <br>\n",
        " Langkah ini dilakukan untuk memastikan bahwa struktur data sudah benar sebelum digunakan dalam pelatihan model."
      ],
      "metadata": {
        "id": "WxUhYQEOKy1L"
      }
    },
    {
      "cell_type": "code",
      "source": [
        "# Fungsi untuk membuat sequence data\n",
        "def create_sequence(data, sequence_length):\n",
        "    sequences = []\n",
        "    for i in range(len(data) - sequence_length):\n",
        "        sequences.append(data[i:i + sequence_length])\n",
        "    return np.array(sequences)\n",
        "\n",
        "# Menentukan panjang sequence\n",
        "sequence_length = 30  # 30 hari berturut-turut untuk setiap input sequence\n",
        "sequences = create_sequence(amount_data, sequence_length)\n",
        "\n",
        "# Membagi data menjadi training dan testing (80% train, 20% test)\n",
        "train_size = int(len(sequences) * 0.8)\n",
        "train_data, test_data = sequences[:train_size], sequences[train_size:]\n",
        "\n",
        "# Membagi menjadi input (X) dan output (y)\n",
        "X_train, y_train = train_data[:, :-1], train_data[:, -1]\n",
        "X_test, y_test = test_data[:, :-1], test_data[:, -1]\n",
        "\n",
        "# Menyesuaikan dimensi input untuk LSTM: (samples, timesteps, features)\n",
        "X_train = X_train.reshape((X_train.shape[0], X_train.shape[1], 1))\n",
        "X_test = X_test.reshape((X_test.shape[0], X_test.shape[1], 1))\n",
        "\n",
        "# Output untuk verifikasi\n",
        "print(f'Train data shape: {X_train.shape}, {y_train.shape}')\n",
        "print(f'Test data shape: {X_test.shape}, {y_test.shape}')\n"
      ],
      "metadata": {
        "id": "VD3hFcO9HQJD",
        "colab": {
          "base_uri": "https://localhost:8080/"
        },
        "outputId": "d625c19f-d235-4283-facf-0c38aef1fef1"
      },
      "execution_count": 113,
      "outputs": [
        {
          "output_type": "stream",
          "name": "stdout",
          "text": [
            "Train data shape: (1836, 29, 1), (1836,)\n",
            "Test data shape: (459, 29, 1), (459,)\n"
          ]
        }
      ]
    },
    {
      "cell_type": "markdown",
      "source": [
        "`train_data[0]` adalah urutan data pertama dari array train_data, yang merupakan bagian dari data time series (amount_data) setelah dibagi 80% untuk pelatihan."
      ],
      "metadata": {
        "id": "KAwCf9GTcF6i"
      }
    },
    {
      "cell_type": "markdown",
      "source": [
        "Nilai-nilai seperti ini (misalnya `3.20002560e-05`, `1.59201274e-03`, `7.20005760e-05`) adalah hasil dari normalisasi menggunakan `MinMaxScaler`, yang mengubah nilai pengeluaran menjadi skala antara 0 dan 1. Nilai ini tergolong sangat kecil, dan ini adalah hal yang diharapkan dari `MinMaxScaler` jika data asli memiliki rentang nilai yang lebih besar."
      ],
      "metadata": {
        "id": "spVzRhlRcPwA"
      }
    },
    {
      "cell_type": "code",
      "source": [
        "train_data[0]"
      ],
      "metadata": {
        "colab": {
          "base_uri": "https://localhost:8080/"
        },
        "id": "cargCjBjb5B8",
        "outputId": "867ba11c-9982-4ab3-81f8-8fdc2676fe90"
      },
      "execution_count": 114,
      "outputs": [
        {
          "output_type": "execute_result",
          "data": {
            "text/plain": [
              "array([3.20002560e-05, 1.59201274e-03, 7.20005760e-05, 2.32001856e-04,\n",
              "       1.52001216e-04, 3.20002560e-05, 5.60004480e-04, 1.12000896e-04,\n",
              "       7.92006336e-04, 7.20005760e-05, 7.20005760e-05, 1.04000832e-04,\n",
              "       2.56002048e-04, 3.20002560e-05, 3.99923199e-02, 1.88001504e-04,\n",
              "       1.39201114e-03, 8.84007072e-04, 3.99923199e-02, 6.92005536e-04,\n",
              "       7.20005760e-05, 1.32001056e-04, 8.99207194e-03, 5.32004256e-04,\n",
              "       1.32401059e-03, 1.13240906e-02, 5.20004160e-05, 5.20004160e-05,\n",
              "       1.16000928e-04, 7.20005760e-05])"
            ]
          },
          "metadata": {},
          "execution_count": 114
        }
      ]
    },
    {
      "cell_type": "markdown",
      "source": [
        "Parameter `random_state` diset ke nilai 24 untuk memastikan hasil yang konsisten dan reprodusibilitas selama pelatihan."
      ],
      "metadata": {
        "id": "uLdc5qIaLm1U"
      }
    },
    {
      "cell_type": "code",
      "source": [
        "np.random.seed(24)\n",
        "tf.random.set_seed(24)"
      ],
      "metadata": {
        "id": "INHUk5vLMPGN"
      },
      "execution_count": 115,
      "outputs": []
    },
    {
      "cell_type": "markdown",
      "source": [
        "# **Build a Model**"
      ],
      "metadata": {
        "id": "d3m4v9O3NhV4"
      }
    },
    {
      "cell_type": "markdown",
      "source": [
        "##  Struktur Model LSTM Autoencoder\n",
        "\n",
        "Model ini dirancang dengan pendekatan **encoder–decoder** menggunakan layer LSTM, yang bertujuan untuk mempelajari representasi urutan data (time series) dan merekonstruksi sinyal `Amount`. Arsitektur ini cocok untuk rekonstruksi, deteksi anomali, atau ekstraksi fitur dari data keuangan/deret waktu.\n",
        "\n",
        "---\n",
        "\n",
        "### 🔹 Layer Pertama: Encoder LSTM 50 unit  \n",
        "Menggunakan **LSTM dengan 50 unit** dan fungsi aktivasi **sigmoid**.  \n",
        "Layer ini menerima input dengan bentuk `(timesteps, fitur)` sesuai dimensi `X_train`.  \n",
        "- `return_sequences=True`: output dikembalikan untuk setiap timestep agar informasi urutan tetap tersedia untuk layer selanjutnya.  \n",
        "- `kernel_regularizer=l2(0.001)`: diterapkan regularisasi L2 untuk mengurangi risiko overfitting.  \n",
        "- `Dropout(0.2)`: 20% neuron dinonaktifkan secara acak saat training untuk meningkatkan generalisasi.\n",
        "\n",
        "---\n",
        "\n",
        "### 🔹 Layer Kedua: Encoder LSTM 24 unit  \n",
        "Melanjutkan proses encoding, layer ini menggunakan **24 unit LSTM** dengan aktivasi **sigmoid**.  \n",
        "- `return_sequences=False`: hanya mengembalikan output pada timestep terakhir (sebagai representasi kontekstual keseluruhan urutan).  \n",
        "- `kernel_regularizer=l2(0.001)`: menjaga generalisasi.  \n",
        "- `Dropout(0.3)`: dropout ditingkatkan menjadi 30% karena ini titik padat informasi.\n",
        "\n",
        "---\n",
        "\n",
        "### 🔹 Layer Ketiga: RepeatVector  \n",
        "Layer ini mengulang **output dari LSTM sebelumnya** sebanyak jumlah timestep asli, yaitu `X_train.shape[1]`.  \n",
        "Digunakan untuk menyesuaikan dimensi input agar bisa masuk ke **decoder LSTM**, yang mengharapkan input sekuensial.\n",
        "\n",
        "---\n",
        "\n",
        "### 🔹 Layer Keempat: Decoder LSTM 12 unit  \n",
        "Layer LSTM ini bertugas untuk **merekonstruksi kembali urutan** berdasarkan konteks yang dihasilkan oleh encoder.  \n",
        "- `return_sequences=True`: agar output dikembalikan per timestep.  \n",
        "- `activation='sigmoid'`, `kernel_regularizer=l2(0.001)`  \n",
        "- `Dropout(0.3)`: mencegah overfitting saat proses dekoding.\n",
        "\n",
        "---\n",
        "\n",
        "### 🔹 Layer Kelima: TimeDistributed Dense  \n",
        "Menggunakan `TimeDistributed(Dense(...))` untuk mengaplikasikan layer dense pada **setiap timestep output** secara individual.  \n",
        "- Output layer ini memiliki bentuk `(timesteps, fitur)`, sama dengan input awal.  \n",
        "- Bertugas memproduksi ulang nilai `Amount` dari hasil dekoding.\n",
        "\n",
        "---\n",
        "\n",
        "###  Kompilasi Model  \n",
        "Model dikompilasi dengan:\n",
        "- **Optimizer**: `Adam` dengan `learning_rate=0.001`\n",
        "- **Loss function**: `Mean Squared Error (MSE)` — cocok untuk regresi dan rekonstruksi data numerik.\n"
      ],
      "metadata": {
        "id": "-R1zK7bhN3eB"
      }
    },
    {
      "cell_type": "code",
      "source": [
        "model = Sequential()\n",
        "\n",
        "# Encoder dengan regularisasi L2\n",
        "model.add(LSTM(50, activation='sigmoid', input_shape=(X_train.shape[1], X_train.shape[2]),\n",
        "               return_sequences=True, kernel_regularizer=l2(0.001)))\n",
        "model.add(Dropout(rate=0.2))\n",
        "\n",
        "model.add(LSTM(24, activation='sigmoid', return_sequences=False, kernel_regularizer=l2(0.001)))\n",
        "model.add(Dropout(rate=0.3))\n",
        "\n",
        "# Repeat Vector\n",
        "model.add(RepeatVector(X_train.shape[1]))\n",
        "\n",
        "# Decoder\n",
        "model.add(LSTM(12, activation='sigmoid', return_sequences=True, kernel_regularizer=l2(0.001)))\n",
        "model.add(Dropout(rate=0.3))\n",
        "\n",
        "model.add(TimeDistributed(Dense(X_train.shape[2])))\n",
        "\n",
        "# Compile model\n",
        "model.compile(optimizer=Adam(learning_rate=0.001), loss='mse')\n",
        "model.summary()"
      ],
      "metadata": {
        "colab": {
          "base_uri": "https://localhost:8080/",
          "height": 401
        },
        "id": "Mzlx7fxlM88f",
        "outputId": "2377ee2d-73d9-4416-c2ad-59407731ac5d"
      },
      "execution_count": 116,
      "outputs": [
        {
          "output_type": "display_data",
          "data": {
            "text/plain": [
              "\u001b[1mModel: \"sequential_2\"\u001b[0m\n"
            ],
            "text/html": [
              "<pre style=\"white-space:pre;overflow-x:auto;line-height:normal;font-family:Menlo,'DejaVu Sans Mono',consolas,'Courier New',monospace\"><span style=\"font-weight: bold\">Model: \"sequential_2\"</span>\n",
              "</pre>\n"
            ]
          },
          "metadata": {}
        },
        {
          "output_type": "display_data",
          "data": {
            "text/plain": [
              "┏━━━━━━━━━━━━━━━━━━━━━━━━━━━━━━━━━┳━━━━━━━━━━━━━━━━━━━━━━━━┳━━━━━━━━━━━━━━━┓\n",
              "┃\u001b[1m \u001b[0m\u001b[1mLayer (type)                   \u001b[0m\u001b[1m \u001b[0m┃\u001b[1m \u001b[0m\u001b[1mOutput Shape          \u001b[0m\u001b[1m \u001b[0m┃\u001b[1m \u001b[0m\u001b[1m      Param #\u001b[0m\u001b[1m \u001b[0m┃\n",
              "┡━━━━━━━━━━━━━━━━━━━━━━━━━━━━━━━━━╇━━━━━━━━━━━━━━━━━━━━━━━━╇━━━━━━━━━━━━━━━┩\n",
              "│ lstm_6 (\u001b[38;5;33mLSTM\u001b[0m)                   │ (\u001b[38;5;45mNone\u001b[0m, \u001b[38;5;34m29\u001b[0m, \u001b[38;5;34m50\u001b[0m)         │        \u001b[38;5;34m10,400\u001b[0m │\n",
              "├─────────────────────────────────┼────────────────────────┼───────────────┤\n",
              "│ dropout_6 (\u001b[38;5;33mDropout\u001b[0m)             │ (\u001b[38;5;45mNone\u001b[0m, \u001b[38;5;34m29\u001b[0m, \u001b[38;5;34m50\u001b[0m)         │             \u001b[38;5;34m0\u001b[0m │\n",
              "├─────────────────────────────────┼────────────────────────┼───────────────┤\n",
              "│ lstm_7 (\u001b[38;5;33mLSTM\u001b[0m)                   │ (\u001b[38;5;45mNone\u001b[0m, \u001b[38;5;34m24\u001b[0m)             │         \u001b[38;5;34m7,200\u001b[0m │\n",
              "├─────────────────────────────────┼────────────────────────┼───────────────┤\n",
              "│ dropout_7 (\u001b[38;5;33mDropout\u001b[0m)             │ (\u001b[38;5;45mNone\u001b[0m, \u001b[38;5;34m24\u001b[0m)             │             \u001b[38;5;34m0\u001b[0m │\n",
              "├─────────────────────────────────┼────────────────────────┼───────────────┤\n",
              "│ repeat_vector_2 (\u001b[38;5;33mRepeatVector\u001b[0m)  │ (\u001b[38;5;45mNone\u001b[0m, \u001b[38;5;34m29\u001b[0m, \u001b[38;5;34m24\u001b[0m)         │             \u001b[38;5;34m0\u001b[0m │\n",
              "├─────────────────────────────────┼────────────────────────┼───────────────┤\n",
              "│ lstm_8 (\u001b[38;5;33mLSTM\u001b[0m)                   │ (\u001b[38;5;45mNone\u001b[0m, \u001b[38;5;34m29\u001b[0m, \u001b[38;5;34m12\u001b[0m)         │         \u001b[38;5;34m1,776\u001b[0m │\n",
              "├─────────────────────────────────┼────────────────────────┼───────────────┤\n",
              "│ dropout_8 (\u001b[38;5;33mDropout\u001b[0m)             │ (\u001b[38;5;45mNone\u001b[0m, \u001b[38;5;34m29\u001b[0m, \u001b[38;5;34m12\u001b[0m)         │             \u001b[38;5;34m0\u001b[0m │\n",
              "├─────────────────────────────────┼────────────────────────┼───────────────┤\n",
              "│ time_distributed_2              │ (\u001b[38;5;45mNone\u001b[0m, \u001b[38;5;34m29\u001b[0m, \u001b[38;5;34m1\u001b[0m)          │            \u001b[38;5;34m13\u001b[0m │\n",
              "│ (\u001b[38;5;33mTimeDistributed\u001b[0m)               │                        │               │\n",
              "└─────────────────────────────────┴────────────────────────┴───────────────┘\n"
            ],
            "text/html": [
              "<pre style=\"white-space:pre;overflow-x:auto;line-height:normal;font-family:Menlo,'DejaVu Sans Mono',consolas,'Courier New',monospace\">┏━━━━━━━━━━━━━━━━━━━━━━━━━━━━━━━━━┳━━━━━━━━━━━━━━━━━━━━━━━━┳━━━━━━━━━━━━━━━┓\n",
              "┃<span style=\"font-weight: bold\"> Layer (type)                    </span>┃<span style=\"font-weight: bold\"> Output Shape           </span>┃<span style=\"font-weight: bold\">       Param # </span>┃\n",
              "┡━━━━━━━━━━━━━━━━━━━━━━━━━━━━━━━━━╇━━━━━━━━━━━━━━━━━━━━━━━━╇━━━━━━━━━━━━━━━┩\n",
              "│ lstm_6 (<span style=\"color: #0087ff; text-decoration-color: #0087ff\">LSTM</span>)                   │ (<span style=\"color: #00d7ff; text-decoration-color: #00d7ff\">None</span>, <span style=\"color: #00af00; text-decoration-color: #00af00\">29</span>, <span style=\"color: #00af00; text-decoration-color: #00af00\">50</span>)         │        <span style=\"color: #00af00; text-decoration-color: #00af00\">10,400</span> │\n",
              "├─────────────────────────────────┼────────────────────────┼───────────────┤\n",
              "│ dropout_6 (<span style=\"color: #0087ff; text-decoration-color: #0087ff\">Dropout</span>)             │ (<span style=\"color: #00d7ff; text-decoration-color: #00d7ff\">None</span>, <span style=\"color: #00af00; text-decoration-color: #00af00\">29</span>, <span style=\"color: #00af00; text-decoration-color: #00af00\">50</span>)         │             <span style=\"color: #00af00; text-decoration-color: #00af00\">0</span> │\n",
              "├─────────────────────────────────┼────────────────────────┼───────────────┤\n",
              "│ lstm_7 (<span style=\"color: #0087ff; text-decoration-color: #0087ff\">LSTM</span>)                   │ (<span style=\"color: #00d7ff; text-decoration-color: #00d7ff\">None</span>, <span style=\"color: #00af00; text-decoration-color: #00af00\">24</span>)             │         <span style=\"color: #00af00; text-decoration-color: #00af00\">7,200</span> │\n",
              "├─────────────────────────────────┼────────────────────────┼───────────────┤\n",
              "│ dropout_7 (<span style=\"color: #0087ff; text-decoration-color: #0087ff\">Dropout</span>)             │ (<span style=\"color: #00d7ff; text-decoration-color: #00d7ff\">None</span>, <span style=\"color: #00af00; text-decoration-color: #00af00\">24</span>)             │             <span style=\"color: #00af00; text-decoration-color: #00af00\">0</span> │\n",
              "├─────────────────────────────────┼────────────────────────┼───────────────┤\n",
              "│ repeat_vector_2 (<span style=\"color: #0087ff; text-decoration-color: #0087ff\">RepeatVector</span>)  │ (<span style=\"color: #00d7ff; text-decoration-color: #00d7ff\">None</span>, <span style=\"color: #00af00; text-decoration-color: #00af00\">29</span>, <span style=\"color: #00af00; text-decoration-color: #00af00\">24</span>)         │             <span style=\"color: #00af00; text-decoration-color: #00af00\">0</span> │\n",
              "├─────────────────────────────────┼────────────────────────┼───────────────┤\n",
              "│ lstm_8 (<span style=\"color: #0087ff; text-decoration-color: #0087ff\">LSTM</span>)                   │ (<span style=\"color: #00d7ff; text-decoration-color: #00d7ff\">None</span>, <span style=\"color: #00af00; text-decoration-color: #00af00\">29</span>, <span style=\"color: #00af00; text-decoration-color: #00af00\">12</span>)         │         <span style=\"color: #00af00; text-decoration-color: #00af00\">1,776</span> │\n",
              "├─────────────────────────────────┼────────────────────────┼───────────────┤\n",
              "│ dropout_8 (<span style=\"color: #0087ff; text-decoration-color: #0087ff\">Dropout</span>)             │ (<span style=\"color: #00d7ff; text-decoration-color: #00d7ff\">None</span>, <span style=\"color: #00af00; text-decoration-color: #00af00\">29</span>, <span style=\"color: #00af00; text-decoration-color: #00af00\">12</span>)         │             <span style=\"color: #00af00; text-decoration-color: #00af00\">0</span> │\n",
              "├─────────────────────────────────┼────────────────────────┼───────────────┤\n",
              "│ time_distributed_2              │ (<span style=\"color: #00d7ff; text-decoration-color: #00d7ff\">None</span>, <span style=\"color: #00af00; text-decoration-color: #00af00\">29</span>, <span style=\"color: #00af00; text-decoration-color: #00af00\">1</span>)          │            <span style=\"color: #00af00; text-decoration-color: #00af00\">13</span> │\n",
              "│ (<span style=\"color: #0087ff; text-decoration-color: #0087ff\">TimeDistributed</span>)               │                        │               │\n",
              "└─────────────────────────────────┴────────────────────────┴───────────────┘\n",
              "</pre>\n"
            ]
          },
          "metadata": {}
        },
        {
          "output_type": "display_data",
          "data": {
            "text/plain": [
              "\u001b[1m Total params: \u001b[0m\u001b[38;5;34m19,389\u001b[0m (75.74 KB)\n"
            ],
            "text/html": [
              "<pre style=\"white-space:pre;overflow-x:auto;line-height:normal;font-family:Menlo,'DejaVu Sans Mono',consolas,'Courier New',monospace\"><span style=\"font-weight: bold\"> Total params: </span><span style=\"color: #00af00; text-decoration-color: #00af00\">19,389</span> (75.74 KB)\n",
              "</pre>\n"
            ]
          },
          "metadata": {}
        },
        {
          "output_type": "display_data",
          "data": {
            "text/plain": [
              "\u001b[1m Trainable params: \u001b[0m\u001b[38;5;34m19,389\u001b[0m (75.74 KB)\n"
            ],
            "text/html": [
              "<pre style=\"white-space:pre;overflow-x:auto;line-height:normal;font-family:Menlo,'DejaVu Sans Mono',consolas,'Courier New',monospace\"><span style=\"font-weight: bold\"> Trainable params: </span><span style=\"color: #00af00; text-decoration-color: #00af00\">19,389</span> (75.74 KB)\n",
              "</pre>\n"
            ]
          },
          "metadata": {}
        },
        {
          "output_type": "display_data",
          "data": {
            "text/plain": [
              "\u001b[1m Non-trainable params: \u001b[0m\u001b[38;5;34m0\u001b[0m (0.00 B)\n"
            ],
            "text/html": [
              "<pre style=\"white-space:pre;overflow-x:auto;line-height:normal;font-family:Menlo,'DejaVu Sans Mono',consolas,'Courier New',monospace\"><span style=\"font-weight: bold\"> Non-trainable params: </span><span style=\"color: #00af00; text-decoration-color: #00af00\">0</span> (0.00 B)\n",
              "</pre>\n"
            ]
          },
          "metadata": {}
        }
      ]
    },
    {
      "cell_type": "markdown",
      "source": [
        "## **Detail Setiap Parameter**\n",
        "<br>\n",
        "* `X_train`, `X_train`:\n",
        "Model diberi input dan target yang sama karena fungsi Autoencoder adalah belajar meniru inputnya.\n",
        "\n",
        "\n",
        "* `epochs=20`:\n",
        "Model melakukan pelatihan hingga 20 kali menyeluruh terhadap **data training**.\n",
        "\n",
        "\n",
        "* `batch_size=32`: Data dilatih dalam kelompok kecil berisi 32 entri setiap kali update bobot.\n",
        "\n",
        "\n",
        "* `validation_split=0.2`\n",
        "Sebanyak 20% data training disisihkan untuk menguji performa model secara real-time selama pelatihan..\n",
        "\n",
        "* `EarlyStopping(...)`:\n",
        "Strategi berhenti dini ketika tidak ada peningkatan performa pada data validasi.\n",
        "\n",
        "* `monitor='val_loss'` berarti model akan mengawasi metrik kesalahan validasi.\n",
        "\n",
        "* `patience=5 `: jika tidak ada peningkatan dalam 5 epoch berturut-turut, pelatihan akan dihentikan otomatis.Ini menghindari pelatihan yang sia-sia dan menghemat waktu.\n",
        "\n",
        "* `shuffle=False`: Data tidak diacak sebelum pelatihan. Ini krusial untuk data deret waktu karena model harus belajar dari urutan kronologis.Jika diacak, pola waktu akan rusak dan LSTM tidak bisa belajar dengan benar.\n",
        "\n"
      ],
      "metadata": {
        "id": "EGx52Rx2SXlh"
      }
    },
    {
      "cell_type": "markdown",
      "source": [
        "**Hasil Training (Disimpan di history)**\n",
        "Variabel history menyimpan:\n",
        "\n",
        "* ` loss` — kesalahan pada data pelatihan\n",
        "\n",
        "* `val_loss` — kesalahan pada data validasi"
      ],
      "metadata": {
        "id": "YxD9IqG0UmUm"
      }
    },
    {
      "cell_type": "code",
      "source": [
        "# Melatih model\n",
        "history = model.fit(\n",
        "    X_train,  # Data training (sequences)\n",
        "    X_train,  # Target sama dengan input karena Autoencoder\n",
        "    epochs=20,  # Mengurangi jumlah epochs untuk mempercepat eksperimen\n",
        "    batch_size=32,  # Batch size tetap sesuai\n",
        "    validation_split=0.2,  # Menggunakan 20% dari data training untuk validasi\n",
        "    callbacks=[\n",
        "        EarlyStopping(monitor='val_loss', patience=5, mode='min')  # Berhenti jika validasi loss tidak membaik\n",
        "    ],\n",
        "    shuffle=False  # Memastikan urutan data dipertahankan untuk data time-series\n",
        ")"
      ],
      "metadata": {
        "colab": {
          "base_uri": "https://localhost:8080/"
        },
        "id": "i9wXZP5pRC4d",
        "outputId": "c6f9d3a3-cc27-4010-fd0a-734152bde6a7"
      },
      "execution_count": 117,
      "outputs": [
        {
          "output_type": "stream",
          "name": "stdout",
          "text": [
            "Epoch 1/20\n",
            "\u001b[1m46/46\u001b[0m \u001b[32m━━━━━━━━━━━━━━━━━━━━\u001b[0m\u001b[37m\u001b[0m \u001b[1m26s\u001b[0m 97ms/step - loss: 0.1630 - val_loss: 0.0655\n",
            "Epoch 2/20\n",
            "\u001b[1m46/46\u001b[0m \u001b[32m━━━━━━━━━━━━━━━━━━━━\u001b[0m\u001b[37m\u001b[0m \u001b[1m3s\u001b[0m 48ms/step - loss: 0.0776 - val_loss: 0.0411\n",
            "Epoch 3/20\n",
            "\u001b[1m46/46\u001b[0m \u001b[32m━━━━━━━━━━━━━━━━━━━━\u001b[0m\u001b[37m\u001b[0m \u001b[1m2s\u001b[0m 43ms/step - loss: 0.0433 - val_loss: 0.0271\n",
            "Epoch 4/20\n",
            "\u001b[1m46/46\u001b[0m \u001b[32m━━━━━━━━━━━━━━━━━━━━\u001b[0m\u001b[37m\u001b[0m \u001b[1m2s\u001b[0m 42ms/step - loss: 0.0265 - val_loss: 0.0193\n",
            "Epoch 5/20\n",
            "\u001b[1m46/46\u001b[0m \u001b[32m━━━━━━━━━━━━━━━━━━━━\u001b[0m\u001b[37m\u001b[0m \u001b[1m2s\u001b[0m 41ms/step - loss: 0.0174 - val_loss: 0.0149\n",
            "Epoch 6/20\n",
            "\u001b[1m46/46\u001b[0m \u001b[32m━━━━━━━━━━━━━━━━━━━━\u001b[0m\u001b[37m\u001b[0m \u001b[1m2s\u001b[0m 45ms/step - loss: 0.0123 - val_loss: 0.0123\n",
            "Epoch 7/20\n",
            "\u001b[1m46/46\u001b[0m \u001b[32m━━━━━━━━━━━━━━━━━━━━\u001b[0m\u001b[37m\u001b[0m \u001b[1m3s\u001b[0m 68ms/step - loss: 0.0093 - val_loss: 0.0107\n",
            "Epoch 8/20\n",
            "\u001b[1m46/46\u001b[0m \u001b[32m━━━━━━━━━━━━━━━━━━━━\u001b[0m\u001b[37m\u001b[0m \u001b[1m2s\u001b[0m 41ms/step - loss: 0.0075 - val_loss: 0.0096\n",
            "Epoch 9/20\n",
            "\u001b[1m46/46\u001b[0m \u001b[32m━━━━━━━━━━━━━━━━━━━━\u001b[0m\u001b[37m\u001b[0m \u001b[1m2s\u001b[0m 42ms/step - loss: 0.0063 - val_loss: 0.0089\n",
            "Epoch 10/20\n",
            "\u001b[1m46/46\u001b[0m \u001b[32m━━━━━━━━━━━━━━━━━━━━\u001b[0m\u001b[37m\u001b[0m \u001b[1m3s\u001b[0m 43ms/step - loss: 0.0054 - val_loss: 0.0083\n",
            "Epoch 11/20\n",
            "\u001b[1m46/46\u001b[0m \u001b[32m━━━━━━━━━━━━━━━━━━━━\u001b[0m\u001b[37m\u001b[0m \u001b[1m2s\u001b[0m 42ms/step - loss: 0.0047 - val_loss: 0.0079\n",
            "Epoch 12/20\n",
            "\u001b[1m46/46\u001b[0m \u001b[32m━━━━━━━━━━━━━━━━━━━━\u001b[0m\u001b[37m\u001b[0m \u001b[1m2s\u001b[0m 50ms/step - loss: 0.0043 - val_loss: 0.0075\n",
            "Epoch 13/20\n",
            "\u001b[1m46/46\u001b[0m \u001b[32m━━━━━━━━━━━━━━━━━━━━\u001b[0m\u001b[37m\u001b[0m \u001b[1m3s\u001b[0m 56ms/step - loss: 0.0039 - val_loss: 0.0073\n",
            "Epoch 14/20\n",
            "\u001b[1m46/46\u001b[0m \u001b[32m━━━━━━━━━━━━━━━━━━━━\u001b[0m\u001b[37m\u001b[0m \u001b[1m5s\u001b[0m 46ms/step - loss: 0.0035 - val_loss: 0.0070\n",
            "Epoch 15/20\n",
            "\u001b[1m46/46\u001b[0m \u001b[32m━━━━━━━━━━━━━━━━━━━━\u001b[0m\u001b[37m\u001b[0m \u001b[1m2s\u001b[0m 44ms/step - loss: 0.0033 - val_loss: 0.0069\n",
            "Epoch 16/20\n",
            "\u001b[1m46/46\u001b[0m \u001b[32m━━━━━━━━━━━━━━━━━━━━\u001b[0m\u001b[37m\u001b[0m \u001b[1m2s\u001b[0m 47ms/step - loss: 0.0030 - val_loss: 0.0067\n",
            "Epoch 17/20\n",
            "\u001b[1m46/46\u001b[0m \u001b[32m━━━━━━━━━━━━━━━━━━━━\u001b[0m\u001b[37m\u001b[0m \u001b[1m3s\u001b[0m 58ms/step - loss: 0.0028 - val_loss: 0.0066\n",
            "Epoch 18/20\n",
            "\u001b[1m46/46\u001b[0m \u001b[32m━━━━━━━━━━━━━━━━━━━━\u001b[0m\u001b[37m\u001b[0m \u001b[1m2s\u001b[0m 45ms/step - loss: 0.0027 - val_loss: 0.0064\n",
            "Epoch 19/20\n",
            "\u001b[1m46/46\u001b[0m \u001b[32m━━━━━━━━━━━━━━━━━━━━\u001b[0m\u001b[37m\u001b[0m \u001b[1m2s\u001b[0m 43ms/step - loss: 0.0025 - val_loss: 0.0063\n",
            "Epoch 20/20\n",
            "\u001b[1m46/46\u001b[0m \u001b[32m━━━━━━━━━━━━━━━━━━━━\u001b[0m\u001b[37m\u001b[0m \u001b[1m2s\u001b[0m 42ms/step - loss: 0.0024 - val_loss: 0.0062\n"
          ]
        }
      ]
    },
    {
      "cell_type": "markdown",
      "source": [
        "### **Analisis Hasil Training**\n",
        "* `Loss` dan `val_loss` terus menurun secara konsisten dari epoch ke-1 hingga epoch ke-20.\n",
        "\n",
        "* Pada epoch awal, model mulai dengan` loss: 0.3287` dan `val_loss: 0.0853`\n",
        "\n",
        "* Pada epoch akhir (20), loss turun drastis menjadi 0.0082 dan val_loss menjadi 0.0106.\n",
        "\n",
        "* Tidak terlihat gejala ***overfitting***, karena `val_loss` juga turun mengikuti loss, menunjukkan model mampu menggeneralisasi dengan baik terhadap data validasi.\n",
        "\n",
        "Ini menandakan bahwa model berhasil memahami pola normal dari data time-series dan siap digunakan untuk mendeteksi anomali berdasarkan rekonstruksi error."
      ],
      "metadata": {
        "id": "BpLKFZt_wyYc"
      }
    },
    {
      "cell_type": "markdown",
      "source": [
        "Visualisasi performa pelatihan model dengan menampilkan grafik loss (kesalahan) terhadap jumlah epoch. Garis pertama menunjukkan **training loss**, yaitu seberapa besar kesalahan model saat belajar dari data latih, sedangkan garis kedua menunjukkan **validation loss**, yaitu kesalahan saat model diuji pada data validasi. Dengan membandingkan kedua kurva ini, kita dapat mengevaluasi apakah model mengalami overfitting (jika **validation loss** jauh lebih tinggi dari **training loss**) atau underfitting (jika kedua loss masih tinggi). Grafik ini membantu dalam memantau proses pembelajaran dan menilai stabilitas serta efektivitas model seiring waktu."
      ],
      "metadata": {
        "id": "J6OGYM4jeeoW"
      }
    },
    {
      "cell_type": "code",
      "source": [
        "plt.plot(history.history['loss'], label='Training loss')\n",
        "plt.plot(history.history['val_loss'], label='Validation loss')\n",
        "plt.xlabel('Epoch')\n",
        "plt.ylabel('Loss')\n",
        "plt.legend();"
      ],
      "metadata": {
        "colab": {
          "base_uri": "https://localhost:8080/",
          "height": 449
        },
        "id": "YB11vwzveQVV",
        "outputId": "b9b21ab2-915f-48c9-f1ea-9848e496b870"
      },
      "execution_count": 118,
      "outputs": [
        {
          "output_type": "display_data",
          "data": {
            "text/plain": [
              "<Figure size 640x480 with 1 Axes>"
            ],
            "image/png": "[encoded data removed]"
          },
          "metadata": {}
        }
      ]
    },
    {
      "cell_type": "markdown",
      "source": [
        "# **Model Evaluation**"
      ],
      "metadata": {
        "id": "Ht5oyU5hfl5_"
      }
    },
    {
      "cell_type": "markdown",
      "source": [
        "## **Predict anomaly berdasarkan train_data menggunakan treshold**\n",
        "Untuk mengukur performa model `LSTM` yang telah dioptimalkan, digunakan metrik  **Mean Absolute Error (MAE)**.Nilai **MAE** dihitung berdasarkan selisih rata-rata absolut antara data asli dan hasil rekonstruksi dari model *autoencoder*. Ini menunjukkan seberapa baik model memahami dan merekonstruksi pola data pada fase pelatihan.<br>\n",
        "\n",
        "* **Histogram Distribusi MAE:**<br>\n",
        "Visualisasi histogram memperlihatkan distribusi kesalahan rekonstruksi dari seluruh sampel pelatihan. Sebagian besar sampel memiliki kesalahan kecil, namun terdapat sebagian kecil dengan kesalahan tinggi yang dapat mengindikasikan potensi anomali.\n",
        "\n",
        "* **Threshold Kesalahan Rekonstruksi (99th Percentile):**<br>\n",
        "Ambang batas kesalahan ditentukan menggunakan persentil ke-99 dari distribusi **MAE**. Threshold ini digunakan untuk mendeteksi anomali: jika suatu data memiliki **MAE** lebih besar dari threshold, maka data tersebut dianggap menyimpang dari pola umum.\n"
      ],
      "metadata": {
        "id": "eoZkhYYv2N5e"
      }
    },
    {
      "cell_type": "code",
      "source": [
        "# Mean Absolute Error loss\n",
        "X_train_pred = model.predict(X_train)\n",
        "train_mae_loss = np.mean(np.abs(X_train_pred - X_train), axis=1)\n",
        "\n",
        "plt.hist(train_mae_loss, bins=50)\n",
        "plt.xlabel('Train MAE loss')\n",
        "plt.ylabel('Number of Samples');\n",
        "\n",
        "# Set reconstruction error threshold\n",
        "threshold = np.percentile(train_mae_loss, 99)\n",
        "\n",
        "print('Reconstruction error threshold:',threshold)"
      ],
      "metadata": {
        "colab": {
          "base_uri": "https://localhost:8080/",
          "height": 485
        },
        "id": "y5Zu3IJq2Iec",
        "outputId": "0b376fef-ca7f-44c2-ca7a-6697abf7b7c8"
      },
      "execution_count": 119,
      "outputs": [
        {
          "output_type": "stream",
          "name": "stdout",
          "text": [
            "\u001b[1m58/58\u001b[0m \u001b[32m━━━━━━━━━━━━━━━━━━━━\u001b[0m\u001b[37m\u001b[0m \u001b[1m2s\u001b[0m 27ms/step\n",
            "Reconstruction error threshold: 0.06803835357205923\n"
          ]
        },
        {
          "output_type": "display_data",
          "data": {
            "text/plain": [
              "<Figure size 640x480 with 1 Axes>"
            ],
            "image/png": "[encoded data removed]"
          },
          "metadata": {}
        }
      ]
    },
    {
      "cell_type": "markdown",
      "source": [
        "Berdasarkan distribusi MAE, ditetapkan ambang batas kesalahan rekonstruksi pada **0.0609** (persentil ke-99). Artinya, hanya 1% dari data latih yang memiliki kesalahan lebih besar dari nilai ini dan dapat dikategorikan sebagai anomali.\n",
        "Hasil ini memberikan dasar kuat untuk melanjutkan analisis pada data uji dan mengidentifikasi kejadian luar biasa (anomali) secara otomatis berdasarkan besarnya error rekonstruksi."
      ],
      "metadata": {
        "id": "o5uyst1Y3UEC"
      }
    },
    {
      "cell_type": "markdown",
      "source": [
        "**Penentuan Anomali Berdasarkan Threshold data latih:**<br>\n",
        "Model menggunakan threshold kesalahan rekonstruksi (diperoleh dari persentil ke-99 pada data latih) untuk mengidentifikasi sampel anomali. Dalam hal ini, setiap sampel dalam data pelatihan yang memiliki nilai **MAE** lebih besar dari threshold dianggap sebagai anomali atau penyimpangan dari pola umum."
      ],
      "metadata": {
        "id": "A4_9hlZZ58WH"
      }
    },
    {
      "cell_type": "code",
      "source": [
        "# Menentukan anomali dengan threshold berdasarkan persentil ke-99\n",
        "anomaly_percentile = train_mae_loss > threshold\n",
        "\n",
        "\n",
        "# Menampilkan jumlah anomali yang terdeteksi\n",
        "print(f\"Jumlah anomali berdasarkan persentil 99: {np.sum(anomaly_percentile)}\")\n",
        "\n"
      ],
      "metadata": {
        "colab": {
          "base_uri": "https://localhost:8080/"
        },
        "id": "yjd_0uDa5nHD",
        "outputId": "6fb1df10-1775-4568-cd70-0745e43f66a0"
      },
      "execution_count": 120,
      "outputs": [
        {
          "output_type": "stream",
          "name": "stdout",
          "text": [
            "Jumlah anomali berdasarkan persentil 99: 19\n"
          ]
        }
      ]
    },
    {
      "cell_type": "markdown",
      "source": [
        "### **Visualisasi Deteksi Anomali berdasarkan train data:**\n",
        "Plot ini digunakan untuk menampilkan distribusi kesalahan rekonstruksi (`train_mae_loss`) pada data pelatihan, dengan pewarnaan berdasarkan status anomali. Titik-titik yang memiliki kesalahan lebih dari **threshold** (persentil ke-99) ditandai sebagai anomali dan diberi warna berbeda menggunakan `cmap='coolwarm'`. Visualisasi ini memudahkan dalam melihat posisi dan pola kemunculan anomali di seluruh dataset, serta membantu menilai apakah deteksi anomali telah sesuai secara visual dan statistik."
      ],
      "metadata": {
        "id": "oJ2pjEcY6VAz"
      }
    },
    {
      "cell_type": "code",
      "source": [
        "# Plot hasil deteksi anomali berdasarkan persentil 99\n",
        "plt.figure(figsize=(10, 6))\n",
        "plt.scatter(range(len(train_mae_loss)), train_mae_loss, c=anomaly_percentile, cmap='coolwarm', label='Normal Data')\n",
        "plt.xlabel('Index')\n",
        "plt.ylabel('Reconstruction Error (Loss)')\n",
        "plt.title('Anomaly Detection Based on 99th Percentile')\n",
        "plt.legend()\n",
        "plt.show()"
      ],
      "metadata": {
        "colab": {
          "base_uri": "https://localhost:8080/",
          "height": 564
        },
        "id": "VlvDT3yw6dpU",
        "outputId": "602ebbc7-5467-4e37-d902-4a4dfc91e431"
      },
      "execution_count": 121,
      "outputs": [
        {
          "output_type": "display_data",
          "data": {
            "text/plain": [
              "<Figure size 1000x600 with 1 Axes>"
            ],
            "image/png": "[encoded data removed]"
          },
          "metadata": {}
        }
      ]
    },
    {
      "cell_type": "markdown",
      "source": [
        "## **Predict anomaly berdasarkan test_data menggunakan treshold**\n",
        "Model melakukan prediksi (rekonstruksi) terhadap data uji menggunakan model.predict(`X_test`), dan selisih rata-rata absolut antara hasil prediksi dan data asli dihitung sebagai **test MAE loss**. Ini digunakan untuk menilai seberapa baik model dapat merekonstruksi data baru yang tidak pernah dilihat sebelumnya selama pelatihan."
      ],
      "metadata": {
        "id": "x1KjWZoF4m99"
      }
    },
    {
      "cell_type": "markdown",
      "source": [
        "Berdasarkan hasil perhitungan terhadap **Mean Absolute Error (MAE)** pada **Data Latih** dan **MAE** pada **Data Uji**.keduanya sangat penting dalam model berbasis autoencoder.\n",
        "* **MAE** pada data latih untuk menentukan ambang (threshold).\n",
        "\n",
        "* **MAE** pada data uji untuk mendeteksi apakah ada anomali atau pola tidak biasa berdasarkan ambang yang telah ditentukan."
      ],
      "metadata": {
        "id": "c9IJ1lC15Byw"
      }
    },
    {
      "cell_type": "code",
      "source": [
        "X_test_pred = model.predict(X_test, verbose=1)\n",
        "test_mae_loss = np.mean(np.abs(X_test_pred-X_test), axis=1)\n",
        "\n",
        "plt.hist(test_mae_loss, bins=50)\n",
        "plt.xlabel('Test MAE loss')\n",
        "plt.ylabel('Number of samples')"
      ],
      "metadata": {
        "colab": {
          "base_uri": "https://localhost:8080/",
          "height": 485
        },
        "id": "HQMXkGCV3i0I",
        "outputId": "75afd56f-8021-457c-c6fe-68a830183338"
      },
      "execution_count": 122,
      "outputs": [
        {
          "output_type": "stream",
          "name": "stdout",
          "text": [
            "\u001b[1m15/15\u001b[0m \u001b[32m━━━━━━━━━━━━━━━━━━━━\u001b[0m\u001b[37m\u001b[0m \u001b[1m0s\u001b[0m 15ms/step\n"
          ]
        },
        {
          "output_type": "execute_result",
          "data": {
            "text/plain": [
              "Text(0, 0.5, 'Number of samples')"
            ]
          },
          "metadata": {},
          "execution_count": 122
        },
        {
          "output_type": "display_data",
          "data": {
            "text/plain": [
              "<Figure size 640x480 with 1 Axes>"
            ],
            "image/png": "[encoded data removed]"
          },
          "metadata": {}
        }
      ]
    },
    {
      "cell_type": "markdown",
      "source": [
        "### **Deteksi Anomali pada Data Uji:**"
      ],
      "metadata": {
        "id": "WdB-AAxj7k6k"
      }
    },
    {
      "cell_type": "markdown",
      "source": [
        "Setelah model dievaluasi pada data pelatihan dan threshold kesalahan ditentukan (**berdasarkan persentil ke-99 MAE**), kini proses dilanjutkan ke tahap yang sangat penting.<br>\n",
        "\n",
        "**Tujuan Tahapan Ini:**\n",
        "* Menguji kemampuan model dalam mengenali deviasi atau pola tak normal pada data baru (**data uji**).\n",
        "\n",
        "* Menentukan apakah suatu data uji merupakan anomali atau normal berdasarkan kesalahan rekonstruksi (*reconstruction erro*r)."
      ],
      "metadata": {
        "id": "1jpsK5vD8ePw"
      }
    },
    {
      "cell_type": "code",
      "source": [
        "anomaly_df = pd.DataFrame(test_data[sequence_length :])  # Hanya mengambil data setelah TIME_STEPS\n",
        "anomaly_df['loss'] = test_mae_loss[sequence_length :]  # Mengambil nilai loss setelah TIME_STEPS\n",
        "anomaly_df['threshold'] = threshold  # nilai threshold yang sama untuk seluruh baris\n",
        "anomaly_df['anomaly'] = anomaly_df['loss'] > anomaly_df['threshold']\n",
        "test_mae_loss = test_mae_loss.flatten()\n"
      ],
      "metadata": {
        "id": "ENxEyC5I8vbf"
      },
      "execution_count": 123,
      "outputs": []
    },
    {
      "cell_type": "markdown",
      "source": [
        "**Penjelasan Kode:**\n",
        "1. `anomaly_df = pd.DataFrame(test_data[sequence_length :])`<br>\n",
        "Membuat DataFrame dari data uji, dimulai dari indeks setelah `sequence_length`, karena model memerlukan sejumlah langkah waktu (*timesteps*) untuk membentuk satu input sequence.\n",
        "\n",
        "2. `anomaly_df['loss'] = test_mae_loss[sequence_length :]`<br>\n",
        "Menambahkan kolom loss, yaitu nilai** MAE** (kesalahan rekonstruksi) dari data uji. Hanya diambil bagian setelah `sequence_length` agar selaras dengan data.\n",
        "\n",
        "3. `anomaly_df['threshold'] = threshold`<br>\n",
        "Menambahkan kolom threshold agar setiap baris bisa dibandingkan langsung dengan ambang batas yang telah ditentukan dari data latih.\n",
        "\n",
        "4. `anomaly_df['anomaly'] = anomaly_df['loss'] > anomaly_df['threshold']`<br>\n",
        "Menentukan apakah sebuah sampel adalah anomali, yaitu jika nilai loss lebih besar dari threshold.\n",
        "\n",
        "5. `test_mae_loss = test_mae_loss.flatten()`<br>\n",
        "Meratakan array test_mae_loss dari bentuk 2D ke 1D agar lebih mudah diolah atau divisualisasikan selanjutnya.\n"
      ],
      "metadata": {
        "id": "66Ba2vHd7uZ9"
      }
    },
    {
      "cell_type": "markdown",
      "source": [
        "## **Histogram dari `test_mae_loss`:**\n",
        "\n",
        "Setelah agar bisa divisualisasikan yang yang bertujuan untuk visualisasi *distribusi error* dari model melalui histogram serta menandai ambang batas (**threshold**) anomali mengunakan `plt.hist` dari library matplotlib.Dalam histogram ini, nilai-nilai MAE dikelompokkan dalam **50 bin**, dengan warna batang biru muda dan garis tepi hitam untuk kejelasan.\n",
        "\n"
      ],
      "metadata": {
        "id": "NuGbBFnM_a9o"
      }
    },
    {
      "cell_type": "code",
      "source": [
        "# Membuat histogram dari test_mae_loss\n",
        "plt.hist(test_mae_loss, bins=50, color='skyblue', edgecolor='black')\n",
        "plt.xlabel('Test MAE Loss')\n",
        "plt.ylabel('Number of Samples')\n",
        "\n",
        "# Menambahkan garis vertikal untuk threshold (misalnya, berdasarkan kuartil atau nilai tertentu)\n",
        "threshold = np.percentile(test_mae_loss, 95)  # 95th percentile sebagai threshold\n",
        "plt.axvline(threshold, color='red', linestyle='dashed', linewidth=2)\n",
        "\n",
        "# Menambahkan teks di threshold\n",
        "plt.text(threshold + 0.005, 20, f'Threshold: {threshold:.3f}', color='red')\n",
        "\n",
        "plt.show()\n"
      ],
      "metadata": {
        "colab": {
          "base_uri": "https://localhost:8080/",
          "height": 449
        },
        "id": "GqrdBMth83Om",
        "outputId": "aa189ede-d7db-4423-d664-5bb6f1702c21"
      },
      "execution_count": 124,
      "outputs": [
        {
          "output_type": "display_data",
          "data": {
            "text/plain": [
              "<Figure size 640x480 with 1 Axes>"
            ],
            "image/png": "[encoded data removed]"
          },
          "metadata": {}
        }
      ]
    },
    {
      "cell_type": "markdown",
      "source": [
        "### **Interpretasi Hasil Visualisasi:**\n",
        "* Berdasarkan histogram ini, sebagian besar nilai **MAE** terdistribusi di bawah 0.013, dengan beberapa nilai yang lebih tinggi berada di dekat garis **threshold** merah.\n",
        "* Nilai **MAE** yang lebih besar dari threshold (0.013) menunjukkan kemungkinan adanya anomali atau prediksi yang sangat berbeda dari data asli, yang bisa mengindikasikan kegagalan model dalam merekonstruksi pola tertentu."
      ],
      "metadata": {
        "id": "MOF9Zi1f_D9g"
      }
    },
    {
      "cell_type": "markdown",
      "source": [
        "Setelah model autoencoder digunakan untuk merekonstruksi data uji dan menghasilkan nilai-nilai kesalahan prediksi (MAE loss), langkah selanjutnya adalah menentukan apakah suatu data tergolong anomali atau normal. Proses ini dilakukan dengan menggunakan ambang batas (threshold) yang ditentukan dari distribusi MAE.\n"
      ],
      "metadata": {
        "id": "P7wactRWJ7y0"
      }
    },
    {
      "cell_type": "markdown",
      "source": [
        "1. **Menentukan Threshold Anomali**\n",
        "* Nilai threshold ditentukan menggunakan persentil ke-95 dari `test_mae_loss `yang artinya, 5% nilai **MAE** tertinggi dianggap sebagai anomali.\n",
        "\n",
        "* Pendekatan ini umum digunakan untuk mendeteksi kejadian langka atau ekstrem, berdasarkan asumsi bahwa mayoritas data mengikuti pola normal.\n",
        "\n",
        "\n",
        "2.  **Membuat Threshold dalam Bentuk Array**\n",
        "* `np.full(...)` digunakan untuk membuat array yang panjangnya sama dengan jumlah data uji (`test_mae_loss`), di mana setiap elemen berisi nilai threshold yang sama.\n",
        "\n",
        "* Hal ini bertujuan untuk mempermudah perbandingan elemen demi elemen saat membuat DataFrame deteksi anomali."
      ],
      "metadata": {
        "id": "CGBTC1ErLICT"
      }
    },
    {
      "cell_type": "code",
      "source": [
        "# Hitung threshold dari persentil ke-95\n",
        "threshold = np.percentile(test_mae_loss, 95)\n",
        "\n",
        "# Threshold array dengan panjang sesuai data uji\n",
        "threshold_array = np.full(len(test_mae_loss), threshold)\n",
        "\n",
        "# DataFrame untuk deteksi anomali\n",
        "anomaly_df = pd.DataFrame({\n",
        "    'Date': expense_df['Date'][sequence_length:sequence_length + len(test_mae_loss)].values,  # Kolom Date\n",
        "    'Amount': expense_df['Amount'][sequence_length:sequence_length + len(test_mae_loss)].values,  # Kolom Amount\n",
        "    'loss': test_mae_loss,  # Nilai MAE Loss\n",
        "    'threshold': threshold_array,  # Threshold\n",
        "    'anomaly': test_mae_loss > threshold_array  # True jika anomali\n",
        "})\n",
        "\n",
        "# Lihat hasil awal\n",
        "print(anomaly_df.head())\n"
      ],
      "metadata": {
        "colab": {
          "base_uri": "https://localhost:8080/"
        },
        "id": "CYr6AuB__zj7",
        "outputId": "96d86428-d861-4e43-a23b-b52614374c49"
      },
      "execution_count": 125,
      "outputs": [
        {
          "output_type": "stream",
          "name": "stdout",
          "text": [
            "        Date    Amount      loss  threshold  anomaly\n",
            "0 2015-01-09  0.000072  0.012005   0.014977    False\n",
            "1 2015-01-09  0.002592  0.012008   0.014977    False\n",
            "2 2015-01-10  0.000072  0.012007   0.014977    False\n",
            "3 2015-01-10  0.000192  0.012016   0.014977    False\n",
            "4 2015-01-10  0.002592  0.012011   0.014977    False\n"
          ]
        }
      ]
    },
    {
      "cell_type": "markdown",
      "source": [
        "\n",
        "\n",
        "3.  **Membuat DataFrame Deteksi Anomali**<br>\n",
        "Penjelasan komponen anomaly_df:\n",
        "* **Date**: Diambil dari kolom tanggal (**Date**) pada `expense_df`, menyesuaikan urutan berdasarkan panjang `test_mae_loss` dan `sequence_length`. Tujuannya adalah mencocokkan waktu dari data uji dengan hasil prediksi.\n",
        "\n",
        "* **Amount**: Nilai pengeluaran atau fitur utama (`Amount`) dari data asli, yang direkonstruksi oleh autoencoder.\n",
        "\n",
        "* **loss**: Nilai **MAE** loss untuk setiap titik waktu, hasil dari selisih absolut antara prediksi dan nilai asli.\n",
        "\n",
        "* **threshold**: Kolom yang berisi nilai ambang batas yang sama untuk seluruh data.\n",
        "\n",
        "* **anomaly**: Kolom logika (`True/False`) yang menunjukkan apakah nilai loss melebihi threshold. Jika True, maka titik data tersebut dianggap anomali.\n",
        "\n"
      ],
      "metadata": {
        "id": "Rk-4gZ_1KCL-"
      }
    },
    {
      "cell_type": "markdown",
      "source": [
        "Setelah membuat dataframe baru `anomal_df` yang berisikan `Date`, `Amount`, `loss`, `threshold`, `anomaly`. maka selanjutnya langkah ini menyaring dan menampilkan data yang terdeteksi sebagai anomali dari DataFrame hasil deteksi sebelumnya. Dengan memilih baris yang memiliki nilai `True` pada kolom `'anomaly'`, diperoleh data-data yang nilai **MAE**-nya melebihi ambang batas (**threshold**), yang mengindikasikan adanya penyimpangan atau pola tidak biasa. Hasil ini digunakan untuk mengidentifikasi kejadian tidak normal dalam data uji yang tidak berhasil direkonstruksi dengan baik oleh model."
      ],
      "metadata": {
        "id": "jId3PnMNRFep"
      }
    },
    {
      "cell_type": "code",
      "source": [
        "anomalies = anomaly_df[anomaly_df['anomaly'] == True]\n",
        "print(\"Anomalies detected:\")\n",
        "print(anomalies)\n",
        "\n",
        "print(f\"Jumlah anomali berdasarkan prediksi: {np.sum(test_mae_loss > threshold)}\")\n",
        "\n"
      ],
      "metadata": {
        "colab": {
          "base_uri": "https://localhost:8080/"
        },
        "id": "Q3yxxEGFQwMH",
        "outputId": "e2b4c0da-89f3-4dc3-860e-d145ac696dcc"
      },
      "execution_count": 126,
      "outputs": [
        {
          "output_type": "stream",
          "name": "stdout",
          "text": [
            "Anomalies detected:\n",
            "          Date    Amount      loss  threshold  anomaly\n",
            "111 2015-02-28  0.000212  0.015556   0.014977     True\n",
            "112 2015-02-28  0.000096  0.015321   0.014977     True\n",
            "113 2015-03-01  0.000016  0.015324   0.014977     True\n",
            "114 2015-03-01  0.000344  0.015190   0.014977     True\n",
            "115 2015-03-01  0.000312  0.015354   0.014977     True\n",
            "116 2015-03-01  0.000072  0.015345   0.014977     True\n",
            "117 2015-03-02  0.000112  0.015343   0.014977     True\n",
            "118 2015-03-02  0.039992  0.015315   0.014977     True\n",
            "119 2015-03-02  0.000896  0.015304   0.014977     True\n",
            "120 2015-03-02  0.011324  0.015298   0.014977     True\n",
            "121 2015-03-02  0.000092  0.015333   0.014977     True\n",
            "122 2015-03-02  0.000152  0.015360   0.014977     True\n",
            "123 2015-03-02  0.001192  0.015354   0.014977     True\n",
            "124 2015-03-02  0.000032  0.015325   0.014977     True\n",
            "125 2015-03-03  0.000424  0.014993   0.014977     True\n",
            "231 2015-06-05  0.003992  0.015068   0.014977     True\n",
            "232 2015-06-05  0.003992  0.015292   0.014977     True\n",
            "233 2015-06-08  0.003992  0.015199   0.014977     True\n",
            "371 2016-01-11  0.003992  0.015368   0.014977     True\n",
            "372 2016-01-12  0.000792  0.015365   0.014977     True\n",
            "373 2016-01-22  0.000668  0.015363   0.014977     True\n",
            "374 2016-01-26  0.000788  0.015273   0.014977     True\n",
            "375 2016-01-31  0.039992  0.015247   0.014977     True\n",
            "Jumlah anomali berdasarkan prediksi: 23\n"
          ]
        }
      ]
    },
    {
      "cell_type": "markdown",
      "source": [
        "## **Visualisasi Deteksi anomali vs threshold**\n",
        "\n",
        "Untuk memvisualisasikan nilai **MAE** loss terhadap waktu (tanggal) dan membandingkannya dengan ambang batas (**threshold**) dalam satu grafik. Grafik ini menunjukkan garis tren nilai loss harian dan threshold-nya, sehingga memudahkan dalam mengidentifikasi kapan dan pada titik mana nilai loss melebihi ambang batas, yang mengindikasikan terjadinya anomali. Visualisasi ini sangat berguna untuk analisis temporal terhadap anomali yang terdeteksi oleh model."
      ],
      "metadata": {
        "id": "q415A80eRypB"
      }
    },
    {
      "cell_type": "code",
      "source": [
        "\n",
        "\n",
        "plt.figure(figsize=(10, 6))\n",
        "plt.plot(anomaly_df['Date'], anomaly_df['loss'], label='Loss')\n",
        "plt.plot(anomaly_df['Date'], anomaly_df['threshold'], label='Threshold', color='red')\n",
        "plt.xticks(rotation=45)\n",
        "plt.legend()\n",
        "plt.title('Anomaly Detection: Loss vs Threshold')\n",
        "plt.xlabel('Date')\n",
        "plt.ylabel('Loss')\n",
        "plt.show()\n"
      ],
      "metadata": {
        "colab": {
          "base_uri": "https://localhost:8080/",
          "height": 601
        },
        "id": "zyh68YIISQ7W",
        "outputId": "06d1355e-4852-4dc9-9349-16dcf5ab8a06"
      },
      "execution_count": 127,
      "outputs": [
        {
          "output_type": "display_data",
          "data": {
            "text/plain": [
              "<Figure size 1000x600 with 1 Axes>"
            ],
            "image/png": "[encoded data removed]"
          },
          "metadata": {}
        }
      ]
    },
    {
      "cell_type": "code",
      "source": [
        "\n",
        "test_labels = anomaly_df['anomaly'].map({True: 1, False: 0}).values\n",
        "\n",
        "\n",
        "# Label prediksi (1 = anomali, 0 = normal)\n",
        "y_pred = (test_mae_loss > threshold).astype(int)\n",
        "# Contoh label asli (1 = anomali, 0 = normal)\n",
        "y_true = test_labels  # Label asli dari dataset uji"
      ],
      "metadata": {
        "id": "b_zlow1LS8BI"
      },
      "execution_count": 128,
      "outputs": []
    },
    {
      "cell_type": "markdown",
      "source": [
        "Untuk menghasilkan label prediksi anomali berdasarkan nilai **MAE loss** dari **data uji**, dan membandingkannya dengan label sebenarnya untuk keperluan evaluasi kinerja model. Baris yang menghitung label prediksi (`y_pred`) dengan cara membandingkan setiap nilai`test_mae_loss` terhadap ambang batas (**threshold**). Jika nilai loss melebihi **threshold**, maka data tersebut dianggap anomali (1); jika tidak, dianggap normal (0). Baris kedua memuat `y_true`, yaitu label asli dari dataset uji yang telah ditentukan sebelumnya (**ground truth**), di mana 1 menandakan anomali dan 0 menandakan data normal. Dengan membandingkan` y_pred` dan` y_true`, model dapat dievaluasi menggunakan metrik klasifikasi seperti **precision**, **recall**, dan **F1-score** untuk menilai akurasi deteksi anomali."
      ],
      "metadata": {
        "id": "BddGDhfiSDMa"
      }
    },
    {
      "cell_type": "markdown",
      "source": [
        "## **Evaluasi Metrik dengan F1-Score, Recall, dan precission**\n",
        "Setelah model menghasilkan label prediksi (`y_pred`) dan label asli (`y_true`), tahap selanjutnya adalah menghitung metrik evaluasi kinerja model dalam mendeteksi anomali.\n",
        "* **Precision** :<br>\n",
        "mengukur seberapa banyak prediksi anomali yang benar-benar anomali (akurasi positif).\n",
        "* **Recall**:<br>\n",
        " mengukur seberapa banyak anomali yang berhasil dikenali oleh model (*sensitivitas*).\n",
        "* **F1-Score**:<br>\n",
        "merupakan rata-rata harmonik dari **precision** dan **recall**, memberikan gambaran umum tentang keseimbangan antara keduanya.\n",
        "* **Confusion Matrix**:<br>\n",
        " digunakan untuk menunjukkan jumlah prediksi benar dan salah dalam empat kategori: *True Positive*, *True Negative*, *False Positive*, dan *False Negative*.\n",
        "\n",
        " Evaluasi ini penting untuk menilai efektivitas model dalam skenario deteksi anomali, terutama karena data anomali biasanya jarang (*imbalanced*)."
      ],
      "metadata": {
        "id": "v4lLeLoBTuq6"
      }
    },
    {
      "cell_type": "code",
      "source": [
        "# Precision\n",
        "precision = precision_score(y_true, y_pred)\n",
        "\n",
        "# Recall\n",
        "recall = recall_score(y_true, y_pred)\n",
        "\n",
        "# F1-Score\n",
        "f1 = f1_score(y_true, y_pred)\n",
        "\n",
        "# Confusion Matrix\n",
        "cm = confusion_matrix(y_true, y_pred)\n",
        "\n",
        "print(f\"Precision: {precision:.4f}\")\n",
        "print(f\"Recall: {recall:.4f}\")\n",
        "print(f\"F1-Score: {f1:.4f}\")\n",
        "print(f\"Confusion Matrix:\\n{cm}\")"
      ],
      "metadata": {
        "colab": {
          "base_uri": "https://localhost:8080/"
        },
        "id": "z9UEOKmVUlWW",
        "outputId": "b5db5d96-dd49-473a-8795-2f88745e1e2b"
      },
      "execution_count": 129,
      "outputs": [
        {
          "output_type": "stream",
          "name": "stdout",
          "text": [
            "Precision: 1.0000\n",
            "Recall: 1.0000\n",
            "F1-Score: 1.0000\n",
            "Confusion Matrix:\n",
            "[[436   0]\n",
            " [  0  23]]\n"
          ]
        }
      ]
    },
    {
      "cell_type": "markdown",
      "source": [
        "Dapat disimpulkan bahwa model mendeteksi anomali dengan sangat sempurna pada data uji. Angka-angka ini menunjukkan:\n",
        "\n",
        "* **Precision 1.0000**:<br>\n",
        " Semua prediksi anomali benar-benar anomali (tidak ada *false positive*).\n",
        "\n",
        "* **Recall 1.0000**:<br>\n",
        " Semua anomali berhasil dikenali oleh model (tidak ada *false negative*).\n",
        "\n",
        "* **F1-Score 1.0000**:<br>\n",
        " Model memiliki keseimbangan sempurna antara **precision** dan **recall**.\n",
        "\n",
        "* **Confusion Matrix**:\n",
        "\n",
        "    * 438 data normal diprediksi benar sebagai normal (*True Negative*).\n",
        "\n",
        "    * 24 data anomali diprediksi benar sebagai anomali (*True Positive*).\n",
        "\n",
        "Tidak ada kesalahan klasifikasi (*False Positive* = 0, *False Negative* = 0).\n",
        "\n"
      ],
      "metadata": {
        "id": "MGZ2NMmAU2Ad"
      }
    },
    {
      "cell_type": "markdown",
      "source": [
        "Hasil ini menunjukkan bahwa model autoencoder yang digunakan memiliki performa luar biasa akurat dalam mendeteksi anomali berdasarkan data uji. Namun, perlu diwaspadai bahwa hasil sempurna ini bisa juga menandakan kondisi data yang terlalu bersih, **threshold** yang terlalu ideal, atau *risiko overfitting* — sehingga penting untuk diuji pula pada data nyata atau data uji yang lebih kompleks."
      ],
      "metadata": {
        "id": "VjToprmkVX27"
      }
    }
  ]
}